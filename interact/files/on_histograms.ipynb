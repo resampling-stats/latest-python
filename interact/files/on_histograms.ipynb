{
 "cells": [
  {
   "cell_type": "markdown",
   "id": "81ea3699",
   "metadata": {},
   "source": [
    "# Plotting histograms"
   ]
  },
  {
   "cell_type": "markdown",
   "id": "a41d100e",
   "metadata": {},
   "source": [
    "A histogram is a visual way to show the *distribution* of a sequence of\n",
    "values.\n"
   ]
  },
  {
   "cell_type": "markdown",
   "id": "a85c723b",
   "metadata": {},
   "source": [
    "The easiest way to explain histograms is to show one.\n",
    "\n",
    "Let’s start with a sequence of values we are interested in:\n",
    "\n",
    "Here are the 24 values for whiskey prices in states that did not have a\n",
    "liquor monopoly (`priv`)."
   ]
  },
  {
   "cell_type": "code",
   "execution_count": null,
   "id": "e079ac94",
   "metadata": {},
   "outputs": [],
   "source": [
    "priv = np.array([\n",
    "    4.82, 5.29, 4.89, 4.95, 4.55, 4.90, 5.25, 5.30, 4.29, 4.85, 4.54, 4.75,\n",
    "    4.85, 4.85, 4.50, 4.75, 4.79, 4.85, 4.79, 4.95, 4.95, 4.75, 5.20, 5.10,\n",
    "    4.80, 4.29])"
   ]
  },
  {
   "cell_type": "markdown",
   "id": "defe095c",
   "metadata": {},
   "source": [
    "These are the 16 values for states with a liquor monopoly (`govt`):"
   ]
  },
  {
   "cell_type": "code",
   "execution_count": null,
   "id": "83808766",
   "metadata": {},
   "outputs": [],
   "source": [
    "govt = np.array([\n",
    "    4.65, 4.55, 4.11, 4.15, 4.20, 4.55, 3.80, 4.00, 4.19, 4.75, 4.74, 4.50,\n",
    "    4.10, 4.00, 5.05, 4.20])"
   ]
  },
  {
   "cell_type": "markdown",
   "id": "b958ca43",
   "metadata": {},
   "source": [
    "We concatenate these values to get a sequence (an array) of all 40\n",
    "liquor prices:"
   ]
  },
  {
   "cell_type": "code",
   "execution_count": null,
   "id": "ad058b7c",
   "metadata": {},
   "outputs": [],
   "source": [
    "prices = np.concatenate([priv, govt])\n",
    "prices"
   ]
  },
  {
   "cell_type": "markdown",
   "id": "8e386694",
   "metadata": {},
   "source": [
    "We are interested in the distribution of these 40 values. To show the\n",
    "distribution, we can make and show a histogram of these prices, using\n",
    "the ."
   ]
  },
  {
   "cell_type": "code",
   "execution_count": null,
   "id": "89c555ad",
   "metadata": {},
   "outputs": [],
   "source": [
    "hist_res = plt.hist(prices)"
   ]
  },
  {
   "cell_type": "markdown",
   "id": "9739f918",
   "metadata": {},
   "source": [
    "has calculated an array of suitable intervals (*bins*) to divide up the\n",
    "range of values, and then counted how many values in `prices` fall into\n",
    "each interval (bin).\n",
    "\n",
    "You will notice that has sent back some results from the process of\n",
    "making the histogram.\n",
    "\n",
    "The first result of interest to us is the definition of the intervals\n",
    "(bins) into which the histogram has divided the range of `prices`\n",
    "values.\n",
    "\n"
   ]
  }
 ],
 "metadata": {
  "jupytext": {
   "cell_metadata_filter": "-all",
   "main_language": "python",
   "notebook_metadata_filter": "-all"
  },
  "kernelspec": {
   "display_name": "Python (Pyodide)",
   "name": "python"
  }
 },
 "nbformat": 4,
 "nbformat_minor": 5
}
