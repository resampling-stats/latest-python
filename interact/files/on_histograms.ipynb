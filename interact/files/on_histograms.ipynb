{
 "cells": [
  {
   "cell_type": "markdown",
   "id": "3acef96e",
   "metadata": {},
   "source": [
    "# Plotting histograms"
   ]
  },
  {
   "cell_type": "markdown",
   "id": "aab45c4e",
   "metadata": {},
   "source": [
    "Find this notebook on the web at\n",
    "<a class=\"quarto-xref\" href=\"/latest-python/probability_theory_3.html#nte-on_histograms\">Note <span>12.6</span></a>.\n",
    "\n",
    "A histogram is a visual way to show the *distribution* of a sequence of\n",
    "values.\n",
    "\n",
    "We now enter the world of *plotting* in Python. As Numpy is a Python\n",
    "library for working with arrays, Matplotlib is a library for making and\n",
    "showing plots.\n",
    "\n",
    "To use the Numpy library, we `import` it. As you have seen, the usual\n",
    "convention is to make the standard `numpy` library name easier to read\n",
    "and type, by renaming the library to `np` on `import`, like this:"
   ]
  },
  {
   "cell_type": "code",
   "execution_count": null,
   "id": "33e4ea92",
   "metadata": {},
   "outputs": [],
   "source": [
    "# Import numpy library and rename to \"np\"\n",
    "import numpy as np"
   ]
  },
  {
   "cell_type": "markdown",
   "id": "fb7176fa",
   "metadata": {},
   "source": [
    "In a similar way, we need to import the Matplotlib library. In fact we\n",
    "will be using a particular part of the Matplotlib library, called\n",
    "`pyplot`.\n",
    "\n",
    "We use the following standard convention to import the `pyplot` part of\n",
    "the Matplotlib library and give it the shorter name of `plt`:"
   ]
  },
  {
   "cell_type": "code",
   "execution_count": null,
   "id": "626e4041",
   "metadata": {},
   "outputs": [],
   "source": [
    "import matplotlib.pyplot as plt"
   ]
  },
  {
   "cell_type": "markdown",
   "id": "617363cf",
   "metadata": {},
   "source": [
    "**Note: Modules and submodules**\n",
    "\n",
    "We have been calling Numpy and Matlotlib *libraries*, but technically,\n",
    "Python calls these *modules*. Modules are collections of code and data\n",
    "that you can `import` into Python. For example, Numpy (now renamed as\n",
    "`np`) is a module:"
   ]
  },
  {
   "cell_type": "code",
   "execution_count": null,
   "id": "5aba156f",
   "metadata": {},
   "outputs": [],
   "source": [
    "# Show type for the import Numpy module (renamed as \"np\").\n",
    "type(np)"
   ]
  },
  {
   "cell_type": "markdown",
   "id": "6be72038",
   "metadata": {},
   "source": [
    "We can get elements contained in (attached to) a module using the `.`\n",
    "syntax. For example, here we get the value of the `pi` variable,\n",
    "attached to the Numpy module."
   ]
  },
  {
   "cell_type": "code",
   "execution_count": null,
   "id": "d6dfcb2e",
   "metadata": {},
   "outputs": [],
   "source": [
    "# Get and show the value of the variable \"pi\" attached to (contained within)\n",
    "# the Numpy module.\n",
    "np.pi"
   ]
  },
  {
   "cell_type": "markdown",
   "id": "1ed7393b",
   "metadata": {},
   "source": [
    "One type of thing a module can contain, is other modules. These\n",
    "modules-attached-to-modules are called *submodules*. Perhaps without\n",
    "knowing, you have already used the `random` submodule attached to the\n",
    "Numpy module:"
   ]
  },
  {
   "cell_type": "code",
   "execution_count": null,
   "id": "fc239b8c",
   "metadata": {},
   "outputs": [],
   "source": [
    "# \"random\" is itself a module, attached to (contained within) the Numpy\n",
    "# module.  It is therefore a \"submodule\" of Numpy.\n",
    "type(np.random)"
   ]
  },
  {
   "cell_type": "markdown",
   "id": "5e3eb7bd",
   "metadata": {},
   "source": [
    "We used the `default_rng` function from the `random` submodule to create\n",
    "random number generators:"
   ]
  },
  {
   "cell_type": "code",
   "execution_count": null,
   "id": "0dc82c4b",
   "metadata": {},
   "outputs": [],
   "source": [
    "rng = np.random.default_rng()"
   ]
  },
  {
   "cell_type": "markdown",
   "id": "ab424fef",
   "metadata": {},
   "source": [
    "`pyplot` is a submodule of Matplotlib."
   ]
  },
  {
   "cell_type": "code",
   "execution_count": null,
   "id": "71bebc3e",
   "metadata": {},
   "outputs": [],
   "source": [
    "# Reimport the module to remind ourselves of the import line.\n",
    "import matplotlib.pyplot as plt\n",
    "# plt is a new name we have set for the \"pyplot\" submodule of Matplotlib.\n",
    "type(plt)"
   ]
  },
  {
   "cell_type": "markdown",
   "id": "c41e246a",
   "metadata": {},
   "source": [
    "The `pyplot` submodule of Matplotlib has many useful functions for\n",
    "making and displaying plots.\n",
    "\n",
    "**End of Note: Modules and submodules**\n",
    "\n"
   ]
  },
  {
   "cell_type": "markdown",
   "id": "b35cd104",
   "metadata": {},
   "source": [
    "The easiest way to explain histograms is to show one.\n",
    "\n",
    "Let’s start with a sequence of values we are interested in:\n",
    "\n",
    "Here are the 24 values for whiskey prices in states that did not have a\n",
    "liquor monopoly (`priv`)."
   ]
  },
  {
   "cell_type": "code",
   "execution_count": null,
   "id": "9ca1fc24",
   "metadata": {},
   "outputs": [],
   "source": [
    "priv = np.array([\n",
    "    4.82, 5.29, 4.89, 4.95, 4.55, 4.90, 5.25, 5.30, 4.29, 4.85, 4.54, 4.75,\n",
    "    4.85, 4.85, 4.50, 4.75, 4.79, 4.85, 4.79, 4.95, 4.95, 4.75, 5.20, 5.10,\n",
    "    4.80, 4.29])"
   ]
  },
  {
   "cell_type": "markdown",
   "id": "b224d63e",
   "metadata": {},
   "source": [
    "These are the 16 values for states with a liquor monopoly (`govt`):"
   ]
  },
  {
   "cell_type": "code",
   "execution_count": null,
   "id": "d2ed767c",
   "metadata": {},
   "outputs": [],
   "source": [
    "govt = np.array([\n",
    "    4.65, 4.55, 4.11, 4.15, 4.20, 4.55, 3.80, 4.00, 4.19, 4.75, 4.74, 4.50,\n",
    "    4.10, 4.00, 5.05, 4.20])"
   ]
  },
  {
   "cell_type": "markdown",
   "id": "4151035e",
   "metadata": {},
   "source": [
    "We concatenate these values to get a sequence (an array) of all 40\n",
    "liquor prices:"
   ]
  },
  {
   "cell_type": "code",
   "execution_count": null,
   "id": "cdf9ae9b",
   "metadata": {},
   "outputs": [],
   "source": [
    "prices = np.concatenate([priv, govt])\n",
    "prices"
   ]
  },
  {
   "cell_type": "markdown",
   "id": "7fa4021a",
   "metadata": {},
   "source": [
    "We are interested in the distribution of these 40 values. To show the\n",
    "distribution, we can make and show a histogram of these prices, using\n",
    "the `hist` function attached to the `plt` submodule ."
   ]
  },
  {
   "cell_type": "code",
   "execution_count": null,
   "id": "0e8aea68",
   "metadata": {},
   "outputs": [],
   "source": [
    "hist_res = plt.hist(prices)"
   ]
  },
  {
   "cell_type": "markdown",
   "id": "a2fc83f4",
   "metadata": {},
   "source": [
    "`plt.hist` has calculated an array of suitable intervals (*bins*) to\n",
    "divide up the range of values, and then counted how many values in\n",
    "`prices` fall into each interval (bin).\n",
    "\n",
    "You will notice that `plt.hist` has sent back some results from the\n",
    "process of making the histogram. In fact, the results are in the form of\n",
    "a list.\n",
    "\n",
    "The first result of interest to us is the definition of the intervals\n",
    "(bins) into which the histogram has divided the range of `prices`\n",
    "values.\n",
    "\n",
    "In fact, `plt.hist` sent back the edges of these bins in the second\n",
    "element of `hist_res`:"
   ]
  },
  {
   "cell_type": "code",
   "execution_count": null,
   "id": "080e21bb",
   "metadata": {},
   "outputs": [],
   "source": [
    "# The second element in the results list is the array of bin edges.\n",
    "bin_edges = hist_res[1]\n",
    "bin_edges"
   ]
  },
  {
   "cell_type": "markdown",
   "id": "62d261aa",
   "metadata": {},
   "source": [
    "Think of this array as the 10 values that start each of the 10 bins,\n",
    "followed by a final value that ends the final bin.\n",
    "\n",
    "This means that the first bin was from (including) 3.8 up to, but not\n",
    "including 3.95, the second bin was from (including) 3.95 up to, but not\n",
    "including 4.1 and so on. The last bin is from (including) 5.15 through\n",
    "(including) 5.3. Notice there are 11 edges, forming 10 bins.\n",
    "\n",
    "Put another way, the edges that `plt.hist` sent back are the 10 left\n",
    "hand (inclusive) edges of the 10 bins, and a final right hand\n",
    "(inclusive) edge of the final (10<sup>th</sup>) bin.\n",
    "\n",
    "The first element that comes back in the list of results is the array of\n",
    "counts of the values in `prices` that fall within each bin."
   ]
  },
  {
   "cell_type": "code",
   "execution_count": null,
   "id": "8203cefc",
   "metadata": {},
   "outputs": [],
   "source": [
    "# The first element in the results list is the counts of values falling into\n",
    "# each bin.\n",
    "counts = hist_res[0]\n",
    "counts"
   ]
  },
  {
   "cell_type": "markdown",
   "id": "45e86a6d",
   "metadata": {},
   "source": [
    "The values tell us that 1 value from `prices` fell in the range 3.8 up\n",
    "to (not including) 3.95 (were within the first bin), 2 values fell in\n",
    "the range 3.95 up to (not including) 4.1, and so on.\n",
    "\n",
    "That the counts correspond to the heights of the bars on the histogram,\n",
    "so the first bar has height 1, the second bar has height 2, and so on.\n",
    "\n",
    "By default, `plt.hist` assumes you want 10 bins, and uses its default\n",
    "method of calculation to work out the edges for those 10 bins. You can\n",
    "specify another number of bins, by sending a number to the `bins`\n",
    "argument of `plt.hist`. For example, you might want 20 bins:"
   ]
  },
  {
   "cell_type": "code",
   "execution_count": null,
   "id": "29014b46",
   "metadata": {},
   "outputs": [],
   "source": [
    "results_20 = plt.hist(prices, bins=20)"
   ]
  },
  {
   "cell_type": "markdown",
   "id": "fb39aadb",
   "metadata": {},
   "source": [
    "We now have 21 new edge values, the first 20 values giving the\n",
    "(inclusive) left-hand edges, and the last giving the (inclusive) right\n",
    "hand edge of the last bin."
   ]
  },
  {
   "cell_type": "code",
   "execution_count": null,
   "id": "d23b2902",
   "metadata": {},
   "outputs": [],
   "source": [
    "bin_edges_20 = results_20[1]\n",
    "bin_edges_20"
   ]
  },
  {
   "cell_type": "markdown",
   "id": "a7579bc7",
   "metadata": {},
   "source": [
    "We can also specify our own edges, in order to bypass `plt.hist`s\n",
    "default algorithm to calculate edges. For example, we might prefer 16\n",
    "bins of width 0.1, starting at 3.8, giving edges like this:"
   ]
  },
  {
   "cell_type": "code",
   "execution_count": null,
   "id": "be340429",
   "metadata": {},
   "outputs": [],
   "source": [
    "our_edges = 3.8 + np.arange(16) * 0.1\n",
    "our_edges"
   ]
  },
  {
   "cell_type": "markdown",
   "id": "e275c281",
   "metadata": {},
   "source": [
    "We can send these directly to `plt.hist` to set the edges:"
   ]
  },
  {
   "cell_type": "code",
   "execution_count": null,
   "id": "dc17881c",
   "metadata": {},
   "outputs": [],
   "source": [
    "results_16 = plt.hist(prices, bins=our_edges)\n",
    "# Show the edges that come back (these are the edges we sent).\n",
    "results_16[1]"
   ]
  },
  {
   "cell_type": "markdown",
   "id": "59a8553c",
   "metadata": {},
   "source": [
    "If you are running the notebook interactively in Jupyter, running\n",
    "`plt.hist` on its own, as below, will show the values as the result of\n",
    "the cell, along with the plot. (You won’t see these results displayed in\n",
    "the textbook, because we use different software to show outputs when we\n",
    "build the textbook)."
   ]
  },
  {
   "cell_type": "code",
   "execution_count": null,
   "id": "05da8ddb",
   "metadata": {},
   "outputs": [],
   "source": [
    "# If we don't collect the results, Jupyter shows them to us,\n",
    "# if this is the last expression in the cell.\n",
    "# (You won't see the results displayed in the textbook).\n",
    "plt.hist(prices)"
   ]
  },
  {
   "cell_type": "markdown",
   "id": "7c7cdd0a",
   "metadata": {},
   "source": [
    "Interactive Jupyter will display the returned list of results, because\n",
    "we have not collected the results by assigning them to a variable. More\n",
    "technically, on its own, the `plt.hist` line is an *expression* (code\n",
    "that results in a value), and Jupyter will, by default, display the\n",
    "results of an expression that ends the code in a cell.\n",
    "\n",
    "Here we see that the result of the `plt.hist(prices)` expression is a\n",
    "list with three elements. As you saw before, the first element is the\n",
    "array with the counts for each of the (by default) 10 bins. The second\n",
    "is the array with the bin edges (10 left edges and last right edge). The\n",
    "last is a reference to the values that make up the graphical display;\n",
    "you can use this last value to do some advanced configuration of the\n",
    "histogram display, but we won’t cover that further in this book.\n",
    "\n",
    "It can be distracting to see a display of the results list from a\n",
    "plotting cell, so from now on we will suppress Jupyter’s default\n",
    "behavior of displaying the results list from `plt.hist`, by adding a\n",
    "semi-colon at the end of the code line, as in the cell below. (Remember,\n",
    "in the textbook, but not in Jupyter, this will give the same result as\n",
    "`plt.hist(prices)` above, because of the display system we use for the\n",
    "textbook.)"
   ]
  },
  {
   "cell_type": "code",
   "execution_count": null,
   "id": "7c3ddf39",
   "metadata": {},
   "outputs": [],
   "source": [
    "plt.hist(prices);  # Note the semi-colon"
   ]
  },
  {
   "cell_type": "markdown",
   "id": "7b0c1036",
   "metadata": {},
   "source": [
    "The semi-colon is a standard indicator to Jupyter that it should not\n",
    "display the results that came back from the function call. We will use\n",
    "it to suppress the display of various values that come back from these\n",
    "functions, as they are usually not of immediate interest.\n",
    "\n"
   ]
  }
 ],
 "metadata": {
  "jupytext": {
   "cell_metadata_filter": "-all",
   "main_language": "python",
   "notebook_metadata_filter": "-all"
  },
  "kernelspec": {
   "display_name": "Python (Pyodide)",
   "name": "python"
  }
 },
 "nbformat": 4,
 "nbformat_minor": 5
}
