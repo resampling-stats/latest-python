{
 "cells": [
  {
   "cell_type": "markdown",
   "id": "8b580073",
   "metadata": {},
   "source": [
    "# Weight gain on pig rations"
   ]
  },
  {
   "cell_type": "markdown",
   "id": "58d34b8b",
   "metadata": {},
   "source": [
    "We do a simulation of weight gain ranks for two different pig rations.\n",
    "\n",
    "The statement creates an array of numbers 1 through 24, which will\n",
    "represent the rankings of weight gains for each of the 24 pigs. We\n",
    "repeat the following procedure for 10000 trials. First we shuffle the\n",
    "elements of array `ranks` so that the rank numbers for weight gains are\n",
    "randomized and placed in array `shuffled`. We then select the first 12\n",
    "elements of `shuffled` and place them in `first_12`; this represents the\n",
    "rankings of a randomly-selected group of 12 pigs. We next count (`sum`)\n",
    "in `n_top` the number of pigs whose rankings for weight gain were in the\n",
    "top half — that is, a rank of less than 13. We record that number in\n",
    "`top_ranks`, and then continue the loop, until we finish our `n` trials.\n",
    "\n",
    "Since we did not know beforehand the direction of the effect of ration A\n",
    "on weight gain, we want to count the times that *either more than 8* of\n",
    "the random selection of 12 pigs were in the top half of the rankings,\n",
    "*or that fewer than 4* of these pigs were in the top half of the weight\n",
    "gain rankings — (The latter is the same as counting the number of times\n",
    "that more than 8 of the 12 *non-selected* random pigs were in the top\n",
    "half in weight gain.)\n",
    "\n",
    "We do so with the final two `sum` statements. By adding the two results\n",
    "`n_gte_9` and `n_lte_3` together, we have the number of times out of\n",
    "10,000 that differences in weight gains in two groups as dramatic as\n",
    "those obtained in the actual experiment would occur by chance."
   ]
  },
  {
   "cell_type": "code",
   "execution_count": null,
   "id": "be40575c",
   "metadata": {},
   "outputs": [],
   "source": [
    "import numpy as np\n",
    "import matplotlib.pyplot as plt\n",
    "\n",
    "rnd = np.random.default_rng()\n",
    "\n",
    "# Constitute the set of the weight gain rank orders. ranks is now a vector\n",
    "# consisting of the numbers 1 — 24, in that order.\n",
    "ranks = np.arange(1, 25)\n",
    "\n",
    "n = 10_000\n",
    "\n",
    "top_ranks = np.zeros(n, dtype=int)\n",
    "\n",
    "for i in range(n):\n",
    "    # Shuffle the ranks of the weight gains.\n",
    "    shuffled = rnd.permuted(ranks)\n",
    "    # Take the first 12 ranks.\n",
    "    first_12 = shuffled[:12]\n",
    "    # Determine how many of these randomly selected 12 ranks are less than\n",
    "    # 12 (i.e. 1-12), put that result in n_top.\n",
    "    n_top = np.sum(first_12 <= 12)\n",
    "    # Keep track of each trial result in top_ranks\n",
    "    top_ranks[i] = n_top\n",
    "\n",
    "plt.hist(top_ranks, bins=np.arange(1, 12))\n",
    "plt.title('Number of top 12 ranks in pig-ration trials')"
   ]
  },
  {
   "cell_type": "markdown",
   "id": "0d3330ea",
   "metadata": {},
   "source": [
    "We see from the histogram that, in about 3 percent of the trials, either\n",
    "more than 8 or fewer than 4 top half ranks (1-12) made it into the\n",
    "random group of twelve that we selected. Python will calculate this for\n",
    "us as follows:"
   ]
  },
  {
   "cell_type": "code",
   "execution_count": null,
   "id": "8b5c1559",
   "metadata": {},
   "outputs": [],
   "source": [
    "# Determine how many of the trials yielded 9 or more top ranks.\n",
    "n_gte_9 = np.sum(top_ranks >= 9)\n",
    "# Determine how many trials yielded 3 or fewer of the top ranks.\n",
    "# If there were 3 or fewer, then 9 or more of the top ranks must\n",
    "# have been in the other group (not selected).\n",
    "n_lte_3 = np.sum(top_ranks <= 3)\n",
    "# Add the two together.\n",
    "n_both = n_gte_9 + n_lte_3\n",
    "# Convert to a proportion.\n",
    "prop_both = n_both / n\n",
    "\n",
    "print('Trial proportion >=9 top ranks in either group:',\n",
    "      np.round(prop_both, 2))"
   ]
  },
  {
   "cell_type": "markdown",
   "id": "a950b7fd",
   "metadata": {},
   "source": [
    "The decisions that are warranted on the basis of the results depend upon\n",
    "one’s purpose. If writing a scientific paper on the merits of ration A\n",
    "is the ultimate purpose, it would be sensible to test another batch of\n",
    "pigs to get further evidence. (Or you could proceed to employ another\n",
    "sort of test for a slightly more precise evaluation.) But if the goal is\n",
    "a decision on which type of ration to buy for a small farm and they are\n",
    "the same price, just go ahead and buy ration A because, even if it is no\n",
    "better than ration B, you have strong evidence that it is *no worse*."
   ]
  }
 ],
 "metadata": {
  "jupytext": {
   "cell_metadata_filter": "-all",
   "main_language": "python",
   "notebook_metadata_filter": "-all"
  },
  "kernelspec": {
   "display_name": "Python (Pyodide)",
   "name": "python"
  }
 },
 "nbformat": 4,
 "nbformat_minor": 5
}
