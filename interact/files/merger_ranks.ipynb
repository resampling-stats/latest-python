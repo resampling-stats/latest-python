{
 "cells": [
  {
   "cell_type": "markdown",
   "id": "b86ce98b",
   "metadata": {},
   "source": [
    "# Merger rank test"
   ]
  },
  {
   "cell_type": "markdown",
   "id": "e328e237",
   "metadata": {},
   "source": [
    "Find this notebook on the web at\n",
    "<a class=\"quarto-xref\" href=\"/latest-python/testing_counts_2.html#nte-merger_ranks\">Note <span>23.8</span></a>.\n",
    "\n",
    "Test whether observed mean rank is plausible in the null-world where\n",
    "ranks are randomly drawn from 1 through 3."
   ]
  },
  {
   "cell_type": "code",
   "execution_count": null,
   "id": "4d3de12d",
   "metadata": {},
   "outputs": [],
   "source": [
    "import numpy as np\n",
    "import matplotlib.pyplot as plt\n",
    "\n",
    "rnd = np.random.default_rng()\n",
    "\n",
    "n_iters = 10_000\n",
    "\n",
    "# Make array to store results for each trial.\n",
    "results = np.zeros(n_iters)\n",
    "\n",
    "for i in range(n_iters):\n",
    "    ranks = rnd.choice([1, 2, 3], size=33)\n",
    "    mean_rank = np.mean(ranks)\n",
    "    results[i] = mean_rank\n",
    "\n",
    "plt.hist(results, bins=20)\n",
    "plt.title('Mean ranks from random rank sampling')\n",
    "\n",
    "k = np.sum(results <= 1.48)\n",
    "kk = k / n_iters\n",
    "\n",
    "print('Proportion of mean ranks <= 1.48:', kk)"
   ]
  }
 ],
 "metadata": {
  "jupytext": {
   "cell_metadata_filter": "-all",
   "main_language": "python",
   "notebook_metadata_filter": "-all"
  },
  "kernelspec": {
   "display_name": "Python (Pyodide)",
   "name": "python"
  }
 },
 "nbformat": 4,
 "nbformat_minor": 5
}
