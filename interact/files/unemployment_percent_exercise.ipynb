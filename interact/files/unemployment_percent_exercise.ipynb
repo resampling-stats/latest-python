{
 "cells": [
  {
   "cell_type": "markdown",
   "id": "e50c83e1",
   "metadata": {},
   "source": [
    "# Unemployment percent exercise"
   ]
  },
  {
   "cell_type": "markdown",
   "id": "eb38bb98",
   "metadata": {},
   "source": [
    "Find this notebook on the web at\n",
    "<a class=\"quarto-xref\" href=\"/latest-python/confidence_2.html#nte-unemployment_percent_exercise\">Note <span>27.1</span></a>.\n",
    "\n",
    "In a sample of 200 people, 7 percent are found to be unemployed.\n",
    "Determine a 95 percent confidence interval for the true population\n",
    "proportion."
   ]
  },
  {
   "cell_type": "code",
   "execution_count": null,
   "id": "89add41b",
   "metadata": {},
   "outputs": [],
   "source": [
    "import numpy as np\n",
    "import matplotlib.pyplot as plt\n",
    "\n",
    "rnd = np.random.default_rng()\n",
    "\n",
    "# Your code here."
   ]
  }
 ],
 "metadata": {
  "jupytext": {
   "cell_metadata_filter": "-all",
   "main_language": "python",
   "notebook_metadata_filter": "-all"
  },
  "kernelspec": {
   "display_name": "Python (Pyodide)",
   "name": "python"
  }
 },
 "nbformat": 4,
 "nbformat_minor": 5
}
