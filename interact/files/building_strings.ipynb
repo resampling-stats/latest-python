{
 "cells": [
  {
   "cell_type": "markdown",
   "id": "42d9c4c3",
   "metadata": {},
   "source": [
    "# Building strings for labels"
   ]
  },
  {
   "cell_type": "markdown",
   "id": "5a3ad64c",
   "metadata": {},
   "source": [
    "As the examples in this book proceed, we will use more code techniques\n",
    "to write the examples in a more concise and efficient way.\n",
    "\n",
    "One task that we often have, is to build up helpful strings to use as\n",
    "labels on plots, or to print out as messages. These strings will often\n",
    "mix numbers and text. For example, we may want to print out a helpful\n",
    "message such as: `Simulation using 10000 trials`, where the number 10000\n",
    "in the message comes from some variable, such as `n_trials`. Let’s set\n",
    "that variable now:"
   ]
  },
  {
   "cell_type": "code",
   "execution_count": null,
   "id": "0e3a6288",
   "metadata": {},
   "outputs": [],
   "source": [
    "n_trials = 10000"
   ]
  },
  {
   "cell_type": "markdown",
   "id": "cae421da",
   "metadata": {},
   "source": [
    "Building the useful string above would involve taking the string\n",
    "`'Simulation using '`, then appending a string to represent the number\n",
    "10,000 — as in:"
   ]
  },
  {
   "cell_type": "code",
   "execution_count": null,
   "id": "0dcede52",
   "metadata": {},
   "outputs": [],
   "source": [
    "# Convert the number (integer) to a string representing the number.\n",
    "str(n_trials)"
   ]
  },
  {
   "cell_type": "markdown",
   "id": "69dc1b3f",
   "metadata": {},
   "source": [
    "Finally we need to append another string to the result — `' trials.'`.\n",
    "So our task will be to *concatenate* (stick together) these three\n",
    "strings.\n"
   ]
  },
  {
   "cell_type": "markdown",
   "id": "c911fc4e",
   "metadata": {},
   "source": [
    "There are several ways to concatenate strings in Python. For example,\n",
    "Python interprets `+`, between strings, to mean *concatenate*. One way\n",
    "to make a new string that concatenates the strings `'resampling '`,\n",
    "`'is '` and `'better'` is to use `+`, like this:"
   ]
  },
  {
   "cell_type": "code",
   "execution_count": null,
   "id": "33ec289e",
   "metadata": {},
   "outputs": [],
   "source": [
    "# + between strings means \"concatenate\".\n",
    "'resampling ' + 'is ' + 'better'"
   ]
  },
  {
   "cell_type": "markdown",
   "id": "bf6c449b",
   "metadata": {},
   "source": [
    "We could always insert a number as a string, by converting the number to\n",
    "a string, and concatenating, like this:"
   ]
  },
  {
   "cell_type": "code",
   "execution_count": null,
   "id": "4899e4fa",
   "metadata": {},
   "outputs": [],
   "source": [
    "'resampling ' + 'is ' + str(100) + ' times ' + 'better'"
   ]
  },
  {
   "cell_type": "markdown",
   "id": "b1b568b5",
   "metadata": {},
   "source": [
    "However, as you can see, this starts looking rather ugly and verbose.\n",
    "It’s easy to forget to append spaces to the strings to concatenate, and\n",
    "end up with messages like:"
   ]
  },
  {
   "cell_type": "code",
   "execution_count": null,
   "id": "1fa7a1ff",
   "metadata": {},
   "outputs": [],
   "source": [
    "'resampling' + 'is' + str(100) + 'times' + 'better'"
   ]
  },
  {
   "cell_type": "markdown",
   "id": "2c0a4e51",
   "metadata": {},
   "source": [
    "One of the most flexible ways to solve problems like this, is to use\n",
    "Python “f” (Format) strings. Format strings start with an `f` and can\n",
    "include values inside the string, enclosed in curly brackets. This is\n",
    "best explained by example:"
   ]
  },
  {
   "cell_type": "code",
   "execution_count": null,
   "id": "297704a3",
   "metadata": {},
   "outputs": [],
   "source": [
    "# Our first Python format string.\n",
    "# Notice the \"f\" prefix before the quotes, to tell Python this is a Format\n",
    "# string, and may include values to interpolate, inside curly brackets.\n",
    "f'resampling is {100} times better'"
   ]
  },
  {
   "cell_type": "markdown",
   "id": "5013e3e1",
   "metadata": {},
   "source": [
    "The Format string expects Python values to appear inside the string,\n",
    "enclosed in curly brackets. When Python see a Format (“f” string) like\n",
    "this, it gets the value named or typed inside the curly brackets,\n",
    "converts it to a string, and inserts that string into the result at the\n",
    "relevant place.\n",
    "\n",
    "Format strings take a little getting used to, but once you are used to\n",
    "them, they are a flexible and concise way of assembling useful messages.\n",
    "\n",
    "For example, to create the string we started this section with, we could\n",
    "write:"
   ]
  },
  {
   "cell_type": "code",
   "execution_count": null,
   "id": "a26d8903",
   "metadata": {},
   "outputs": [],
   "source": [
    "f'Simulation using {n_trials} trials.'"
   ]
  },
  {
   "cell_type": "markdown",
   "id": "75245139",
   "metadata": {},
   "source": [
    "Don’t forget the `f` prefix to the string, if you do want to insert\n",
    "values like this, otherwise you’ll get a standard (not-Format) string,\n",
    "and Python won’t insert the value."
   ]
  },
  {
   "cell_type": "code",
   "execution_count": null,
   "id": "6753224e",
   "metadata": {
    "lines_to_next_cell": 0
   },
   "outputs": [],
   "source": [
    "# Oops!  We forgot the \"f\" prefix to the string.  Python won't put in\n",
    "# (interpolate) the string representation of the value.\n",
    "'Simulation using {n_trials} trials.'"
   ]
  },
  {
   "cell_type": "markdown",
   "id": "c6d2646c",
   "metadata": {},
   "source": []
  }
 ],
 "metadata": {
  "jupytext": {
   "cell_metadata_filter": "-all",
   "main_language": "python",
   "notebook_metadata_filter": "-all"
  },
  "kernelspec": {
   "display_name": "Python (Pyodide)",
   "name": "python"
  }
 },
 "nbformat": 4,
 "nbformat_minor": 5
}
