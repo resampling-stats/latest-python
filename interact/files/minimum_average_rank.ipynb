{
 "cells": [
  {
   "cell_type": "markdown",
   "id": "7f27efdb",
   "metadata": {},
   "source": [
    "# Minimum average rank"
   ]
  },
  {
   "cell_type": "markdown",
   "id": "3726b102",
   "metadata": {},
   "source": [
    "Find this notebook on the web at\n",
    "<a class=\"quarto-xref\" href=\"/latest-python/testing_counts_2.html#nte-minimum_average_rank\">Note <span>23.9</span></a>.\n",
    "\n",
    "The notebook implements the following procedure:\n",
    "\n",
    "1.  Put the numbers “1”, “2” and “3” (corresponding to ranks) in a\n",
    "    bucket\n",
    "2.  Shuffle the numbers and deal them out to three locations that\n",
    "    correspond to treatments (call the locations “t1,” “t2,” and “t3”)\n",
    "3.  Repeat step two another 32 times (for a total of 33 repetitions, for\n",
    "    33 matched triplets)\n",
    "4.  Find the average rank for each location (treatment).\n",
    "5.  Record the minimum (best) score.\n",
    "6.  Repeat steps 2-4, say, 10,000 times.\n",
    "7.  Find out how often the minimum average rank for any treatment is as\n",
    "    low as 1.48."
   ]
  },
  {
   "cell_type": "code",
   "execution_count": null,
   "id": "58e1a564",
   "metadata": {},
   "outputs": [],
   "source": [
    "import numpy as np\n",
    "import matplotlib.pyplot as plt\n",
    "\n",
    "# set up the random number generator\n",
    "rnd = np.random.default_rng()\n",
    "\n",
    "# Set the number of trials\n",
    "n_iters = 10_000\n",
    "\n",
    "# An empty array to store the trial results.\n",
    "results = np.zeros(n_iters)\n",
    "\n",
    "# Step 1 above.\n",
    "bucket = np.array([1, 2, 3])\n",
    "\n",
    "n_rows = 33\n",
    "\n",
    "# Do 10000 trials (step 6).\n",
    "for i in range(n_iters):\n",
    "    # Prepare arrays to store shuffled row results.\n",
    "    t1 = np.zeros(n_rows)\n",
    "    t2 = np.zeros(n_rows)\n",
    "    t3 = np.zeros(n_rows)\n",
    "    # Step 3 (for all 33 rows).\n",
    "    for row_no in range(n_rows):\n",
    "        # Step 2.\n",
    "        shuffled = rnd.permuted(bucket)\n",
    "        # Step 2 continued.\n",
    "        t1[row_no] = shuffled[0]\n",
    "        t2[row_no] = shuffled[1]\n",
    "        t3[row_no] = shuffled[2]\n",
    "    # Step 4.\n",
    "    m_t1 = np.mean(t1)\n",
    "    m_t2 = np.mean(t2)\n",
    "    m_t3 = np.mean(t3)\n",
    "    # Step 5.\n",
    "    means = np.array([m_t1, m_t2, m_t3])\n",
    "    min_mean = np.min(means)\n",
    "    results[i] = min_mean\n",
    "\n",
    "plt.hist(results, bins=50)\n",
    "plt.title('Distribution of minimum average rank')\n",
    "\n",
    "# Step 7.\n",
    "k = np.sum(results <= 1.48)\n",
    "kk = k / n_iters\n",
    "\n",
    "print('Proportion minimum average rank <= 1.48:', kk)"
   ]
  }
 ],
 "metadata": {
  "jupytext": {
   "cell_metadata_filter": "-all",
   "main_language": "python",
   "notebook_metadata_filter": "-all"
  },
  "kernelspec": {
   "display_name": "Python (Pyodide)",
   "name": "python"
  }
 },
 "nbformat": 4,
 "nbformat_minor": 5
}
