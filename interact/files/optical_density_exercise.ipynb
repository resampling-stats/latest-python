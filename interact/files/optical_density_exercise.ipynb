{
 "cells": [
  {
   "cell_type": "markdown",
   "id": "d39585af",
   "metadata": {},
   "source": [
    "# Optical density exercise"
   ]
  },
  {
   "cell_type": "markdown",
   "id": "f8104eb3",
   "metadata": {},
   "source": [
    "Find this notebook on the web at\n",
    "<a class=\"quarto-xref\" href=\"/latest-python/confidence_2.html#nte-optical_density_exercise\">Note <span>27.3</span></a>."
   ]
  },
  {
   "cell_type": "code",
   "execution_count": null,
   "id": "0ca65f0a",
   "metadata": {},
   "outputs": [],
   "source": [
    "import numpy as np\n",
    "import matplotlib.pyplot as plt\n",
    "\n",
    "rnd = np.random.default_rng()"
   ]
  },
  {
   "cell_type": "markdown",
   "id": "34576f32",
   "metadata": {},
   "source": [
    "Suppose we have 10 measurements of Optical Density on a batch of HIV\n",
    "negative control samples:"
   ]
  },
  {
   "cell_type": "code",
   "execution_count": null,
   "id": "d55c6031",
   "metadata": {},
   "outputs": [],
   "source": [
    "density = np.array(\n",
    "    [.02, .026, .023, .017, .022, .019, .018, .018, .017, .022])"
   ]
  },
  {
   "cell_type": "markdown",
   "id": "5826d5ea",
   "metadata": {},
   "source": [
    "Derive a 95 percent confidence interval for the sample mean. Are there\n",
    "enough measurements to produce a satisfactory answer?"
   ]
  }
 ],
 "metadata": {
  "jupytext": {
   "cell_metadata_filter": "-all",
   "main_language": "python",
   "notebook_metadata_filter": "-all"
  },
  "kernelspec": {
   "display_name": "Python (Pyodide)",
   "name": "python"
  }
 },
 "nbformat": 4,
 "nbformat_minor": 5
}
