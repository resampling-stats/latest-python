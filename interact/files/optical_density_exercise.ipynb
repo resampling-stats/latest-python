{
 "cells": [
  {
   "cell_type": "markdown",
   "id": "1f50db4e",
   "metadata": {},
   "source": [
    "# Optical density exercise\n"
   ]
  },
  {
   "cell_type": "code",
   "execution_count": null,
   "id": "4979fbab",
   "metadata": {},
   "outputs": [],
   "source": [
    "import numpy as np\n",
    "import matplotlib.pyplot as plt\n",
    "\n",
    "rnd = np.random.default_rng()"
   ]
  },
  {
   "cell_type": "markdown",
   "id": "b9f4977a",
   "metadata": {},
   "source": [
    "Suppose we have 10 measurements of Optical Density on a batch of HIV\n",
    "negative control samples:"
   ]
  },
  {
   "cell_type": "code",
   "execution_count": null,
   "id": "4556bc1d",
   "metadata": {},
   "outputs": [],
   "source": [
    "density = np.array(\n",
    "    [.02, .026, .023, .017, .022, .019, .018, .018, .017, .022])"
   ]
  },
  {
   "cell_type": "markdown",
   "id": "16c4dff8",
   "metadata": {},
   "source": [
    "Derive a 95 percent confidence interval for the sample mean. Are there\n",
    "enough measurements to produce a satisfactory answer?"
   ]
  }
 ],
 "metadata": {
  "jupytext": {
   "cell_metadata_filter": "-all",
   "main_language": "python",
   "notebook_metadata_filter": "-all"
  },
  "kernelspec": {
   "display_name": "Python (Pyodide)",
   "name": "python"
  }
 },
 "nbformat": 4,
 "nbformat_minor": 5
}
