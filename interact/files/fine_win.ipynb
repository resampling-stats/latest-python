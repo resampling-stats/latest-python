{
 "cells": [
  {
   "cell_type": "markdown",
   "id": "59820f3b",
   "metadata": {},
   "source": [
    "# Fine day and win"
   ]
  },
  {
   "cell_type": "markdown",
   "id": "207438b3",
   "metadata": {},
   "source": [
    "This notebook calculates the chances that the Commanders win on a fine\n",
    "day.\n",
    "\n",
    "We also go through the logic of the `if` statement, and its associated\n",
    "`else` clause."
   ]
  },
  {
   "cell_type": "code",
   "execution_count": null,
   "id": "ad7231c0",
   "metadata": {},
   "outputs": [],
   "source": [
    "# Load the NumPy array library.\n",
    "import numpy as np\n",
    "\n",
    "# Make a random number generator\n",
    "rnd = np.random.default_rng()"
   ]
  },
  {
   "cell_type": "code",
   "execution_count": null,
   "id": "9271a091",
   "metadata": {},
   "outputs": [],
   "source": [
    "# blue means \"nice day\", yellow means \"not nice\".\n",
    "bucket_A = np.repeat(['blue', 'yellow'], [7, 3])\n",
    "bucket_A"
   ]
  },
  {
   "cell_type": "markdown",
   "id": "2dc14db7",
   "metadata": {},
   "source": [
    "Now let us draw a ball at random from bucket_A:"
   ]
  },
  {
   "cell_type": "code",
   "execution_count": null,
   "id": "aeb9763b",
   "metadata": {},
   "outputs": [],
   "source": [
    "a_ball = rnd.choice(bucket_A)\n",
    "a_ball"
   ]
  },
  {
   "cell_type": "markdown",
   "id": "6a6fb8d7",
   "metadata": {},
   "source": [
    "How we run our first `if` statement. Running this code will display “The\n",
    "ball was blue” if the ball was blue, otherwise it will not display\n",
    "anything:"
   ]
  },
  {
   "cell_type": "code",
   "execution_count": null,
   "id": "f3d290db",
   "metadata": {},
   "outputs": [],
   "source": [
    "if a_ball == 'blue':\n",
    "    print('The ball was blue')"
   ]
  },
  {
   "cell_type": "markdown",
   "id": "d963072a",
   "metadata": {},
   "source": [
    "To confirm we see “The ball was blue” if `a_ball` is `'blue'` and\n",
    "nothing otherwise, we can set `a_ball` and re-run the code:"
   ]
  },
  {
   "cell_type": "code",
   "execution_count": null,
   "id": "399cabb4",
   "metadata": {},
   "outputs": [],
   "source": [
    "# Set value of a_ball so we know what it is.\n",
    "a_ball = 'blue'"
   ]
  },
  {
   "cell_type": "code",
   "execution_count": null,
   "id": "37f5cfca",
   "metadata": {},
   "outputs": [],
   "source": [
    "if a_ball == 'blue':\n",
    "    # The conditional statement is True in this case, so the body does run.\n",
    "    print('The ball was blue')"
   ]
  },
  {
   "cell_type": "code",
   "execution_count": null,
   "id": "43da175e",
   "metadata": {},
   "outputs": [],
   "source": [
    "a_ball = 'yellow'"
   ]
  },
  {
   "cell_type": "code",
   "execution_count": null,
   "id": "d50da2f2",
   "metadata": {},
   "outputs": [],
   "source": [
    "if a_ball == 'blue':\n",
    "    # The conditional statement is False, so the body does not run.\n",
    "    print('The ball was blue')"
   ]
  },
  {
   "cell_type": "markdown",
   "id": "b932d0b0",
   "metadata": {},
   "source": [
    "We can add an `else` clause to the `if` statement. Remember the *body*\n",
    "of the `if` statement runs if the *conditional expression* (here\n",
    "`a_ball == 'blue')` is `True`. The `else` clause runs if the conditional\n",
    "statement is `False`. This may be clearer with an example:"
   ]
  },
  {
   "cell_type": "code",
   "execution_count": null,
   "id": "ccf000c8",
   "metadata": {},
   "outputs": [],
   "source": [
    "a_ball = 'blue'"
   ]
  },
  {
   "cell_type": "code",
   "execution_count": null,
   "id": "2942f319",
   "metadata": {},
   "outputs": [],
   "source": [
    "if a_ball == 'blue':\n",
    "    # The conditional expression is True in this case, so the body runs.\n",
    "    print('The ball was blue')\n",
    "else:\n",
    "    # The conditional expression was True, so the else clause does not run.\n",
    "    print('The ball was not blue')"
   ]
  },
  {
   "cell_type": "code",
   "execution_count": null,
   "id": "8a7eb627",
   "metadata": {},
   "outputs": [],
   "source": [
    "a_ball = 'yellow'"
   ]
  },
  {
   "cell_type": "code",
   "execution_count": null,
   "id": "85f77623",
   "metadata": {},
   "outputs": [],
   "source": [
    "if a_ball == 'blue':\n",
    "    # The conditional expression was False, so the body does not run.\n",
    "    print('The ball was blue')\n",
    "else:\n",
    "    # but the else clause does run.\n",
    "    print('The ball was not blue')"
   ]
  },
  {
   "cell_type": "markdown",
   "id": "948cabba",
   "metadata": {},
   "source": [
    "With this machinery, we can now implement the full logic of step 4\n",
    "above:\n",
    "\n",
    "    If you have drawn a blue ball from bucket A:\n",
    "        Draw a ball from bucket B\n",
    "        if the ball is green:\n",
    "            record \"yes\"\n",
    "        otherwise:\n",
    "            record \"no\".\n",
    "\n",
    "Here is bucket B. Remember green means “win” (65% of the time) and red\n",
    "means “lose” (35% of the time). We could call this the “Commanders win\n",
    "when it is a nice day” bucket:"
   ]
  },
  {
   "cell_type": "code",
   "execution_count": null,
   "id": "98db0409",
   "metadata": {},
   "outputs": [],
   "source": [
    "bucket_B = np.repeat(['green', 'red'], [65, 35])"
   ]
  },
  {
   "cell_type": "markdown",
   "id": "c90a102f",
   "metadata": {},
   "source": [
    "The full logic for step 4 is:"
   ]
  },
  {
   "cell_type": "code",
   "execution_count": null,
   "id": "7815417a",
   "metadata": {},
   "outputs": [],
   "source": [
    "# By default, say we have no result.\n",
    "result = 'No result'\n",
    "a_ball = rnd.choice(bucket_A)\n",
    "# If you have drawn a blue ball from bucket A: (then run indented code)\n",
    "if a_ball == 'blue':\n",
    "    # Draw a ball at random from bucket B\n",
    "    b_ball = rnd.choice(bucket_B)\n",
    "    # if the ball is green: (then run the indented code)\n",
    "    if b_ball == 'green':\n",
    "        # record \"yes\"\n",
    "        result = 'yes'\n",
    "    # otherwise (not green):\n",
    "    else:\n",
    "        # record \"no\".\n",
    "        result = 'no'\n",
    "# Show what we got in this case.\n",
    "result"
   ]
  },
  {
   "cell_type": "markdown",
   "id": "1bf44f33",
   "metadata": {},
   "source": [
    "Now we have everything we need to run many trials with the same logic."
   ]
  },
  {
   "cell_type": "code",
   "execution_count": null,
   "id": "06f0de6b",
   "metadata": {},
   "outputs": [],
   "source": [
    "# The result of each trial.\n",
    "# To start with, say we have no result for all the trials.\n",
    "z = np.repeat(['No result'], 10000)\n",
    "\n",
    "# Repeat trial procedure 10000 times\n",
    "for i in range(10000):\n",
    "    # draw one \"ball\" for the weather, store in \"a_ball\"\n",
    "    # blue is \"nice day\", yellow is \"not nice\"\n",
    "    a_ball = rnd.choice(bucket_A)\n",
    "    if a_ball == 'blue':  # nice day\n",
    "        # if no rain, check on game outcome\n",
    "        # green is \"win\" (give nice day), red is \"lose\" (given nice day).\n",
    "        b_ball = rnd.choice(bucket_B)\n",
    "        if b_ball == 'green':  # Commanders win\n",
    "            # Record result.\n",
    "            z[i] = 'yes'\n",
    "        else:\n",
    "            z[i] = 'no'\n",
    "    # End of trial, go back to the beginning until done.\n",
    "\n",
    "# Count of the number of times we got \"yes\".\n",
    "k = np.sum(z == 'yes')\n",
    "# Show the proportion of *both* fine day *and* wins\n",
    "kk = k / 10000\n",
    "kk"
   ]
  },
  {
   "cell_type": "markdown",
   "id": "38216d10",
   "metadata": {},
   "source": [
    "The above procedure gives us the probability that it will be a nice day\n",
    "and the Commanders will win — about 46%."
   ]
  }
 ],
 "metadata": {
  "jupytext": {
   "cell_metadata_filter": "-all",
   "main_language": "python",
   "notebook_metadata_filter": "-all"
  },
  "kernelspec": {
   "display_name": "Python (Pyodide)",
   "name": "python"
  }
 },
 "nbformat": 4,
 "nbformat_minor": 5
}
