{
 "cells": [
  {
   "cell_type": "markdown",
   "id": "22b1657c",
   "metadata": {},
   "source": [
    "# Logical operators"
   ]
  },
  {
   "cell_type": "markdown",
   "id": "3b74398e",
   "metadata": {},
   "source": [
    "Find this notebook on the web at\n",
    "<a class=\"quarto-xref\" href=\"/latest-python/testing_counts_2.html#nte-logical_operators\">Note <span>23.1</span></a>.\n",
    "\n",
    "This section continues our programme of expanding the range of Python\n",
    "features that you can use to clear code. As we introduce each feature,\n",
    "we will use them in the following examples.\n",
    "\n",
    "As motivation, we are about to do some simulations where we are\n",
    "interested in the number of some particular type of observations in each\n",
    "trial. For example, let’s do 10 coin tosses with `rnd.choice`:"
   ]
  },
  {
   "cell_type": "code",
   "execution_count": null,
   "id": "10609a96",
   "metadata": {},
   "outputs": [],
   "source": [
    "import numpy as np\n",
    "rnd = np.random.default_rng()"
   ]
  },
  {
   "cell_type": "code",
   "execution_count": null,
   "id": "6c9e3ee7",
   "metadata": {},
   "outputs": [],
   "source": [
    "# For each element, heads of tails is equally likely.\n",
    "coins = rnd.choice(['heads', 'tails'], size=10)\n",
    "coins"
   ]
  },
  {
   "cell_type": "markdown",
   "id": "479f5e25",
   "metadata": {},
   "source": [
    "Let us now say that we are interested to record if the trial had\n",
    "*either* 2 or fewer “heads” *or* two or fewer “tails”.\n",
    "\n",
    "We could write it like this:"
   ]
  },
  {
   "cell_type": "code",
   "execution_count": null,
   "id": "b657c690",
   "metadata": {},
   "outputs": [],
   "source": [
    "if np.sum(coins == 'heads') <= 2:\n",
    "    print('Trial is of interest')"
   ]
  },
  {
   "cell_type": "code",
   "execution_count": null,
   "id": "24221546",
   "metadata": {},
   "outputs": [],
   "source": [
    "if np.sum(coins == 'tails') <= 2:\n",
    "    print('Trial is of interest')"
   ]
  },
  {
   "cell_type": "markdown",
   "id": "b59dde67",
   "metadata": {},
   "source": [
    "It is a little repetitive to have to repeat the code identical code to\n",
    "print the same message for either of the two cases, and it would be even\n",
    "more repetitive if there were more lines of identical code to run for\n",
    "each of the two cases.\n",
    "\n",
    "Python solves this problem with the `or` operator, like this:"
   ]
  },
  {
   "cell_type": "code",
   "execution_count": null,
   "id": "bed02bd1",
   "metadata": {},
   "outputs": [],
   "source": [
    "if np.sum(coins == 'heads') <= 2 or np.sum(coins == 'tails') <= 2:\n",
    "    print('Trial is of interest')"
   ]
  },
  {
   "cell_type": "markdown",
   "id": "0a9fc77b",
   "metadata": {},
   "source": [
    "**Note: What is an operator?**\n",
    "\n",
    "Above, we called `or` an *operator*. An operator, for our purposes, is a\n",
    "special character , or a word, that sits between two values, and that\n",
    "tells Python how to combine these values.\n",
    "\n",
    "For example `+` is an operator. When `+` sits between two numbers in\n",
    "code, Python interprets this to mean “take the two numbers on either\n",
    "side, and make a new number that is the result of adding the two\n",
    "numbers”:"
   ]
  },
  {
   "cell_type": "code",
   "execution_count": null,
   "id": "3adf4560",
   "metadata": {},
   "outputs": [],
   "source": [
    "# + is an operator that, between two numbers, means \"add the numbers\".\n",
    "1 + 3"
   ]
  },
  {
   "cell_type": "markdown",
   "id": "b70afc30",
   "metadata": {},
   "source": [
    "`+`, `-`, `/` and `*` are all examples of operators that do *arithmetic*\n",
    "on the numbers to either side — they are *arithmetic* operators."
   ]
  },
  {
   "cell_type": "code",
   "execution_count": null,
   "id": "87e7259a",
   "metadata": {},
   "outputs": [],
   "source": [
    "# * is an operator that, between two numbers, means \"multiply the numbers\".\n",
    "2 * 4"
   ]
  },
  {
   "cell_type": "markdown",
   "id": "246fac30",
   "metadata": {},
   "source": [
    "**End of Note: What is an operator?**\n"
   ]
  },
  {
   "cell_type": "markdown",
   "id": "cf4800b5",
   "metadata": {},
   "source": [
    "We are about to use the operator `or`. `or` is a *logical* operator. It\n",
    "is a logical operator because it does not operate on *numbers* (as\n",
    "arithmetic operators do), but on *logical* (*Boolean*) values — values\n",
    "that can be either `True` or `False`.\n",
    "\n",
    "For example, here we use `or`. to combine a `True` value (on the left)\n",
    "with a `False` value (on the right). It gives a result — `True`."
   ]
  },
  {
   "cell_type": "code",
   "execution_count": null,
   "id": "92b608d9",
   "metadata": {},
   "outputs": [],
   "source": [
    "True or False"
   ]
  },
  {
   "cell_type": "markdown",
   "id": "d3afcf36",
   "metadata": {},
   "source": [
    "`or` applies a very simple rule: if *either* the left-hand (LH) *or* the\n",
    "right-hand (RH) values are `True`, then `or` evaluates to `True`. Only\n",
    "if *neither* of the LH and RH values are `True`, does it return `False`."
   ]
  },
  {
   "cell_type": "code",
   "execution_count": null,
   "id": "142f7124",
   "metadata": {},
   "outputs": [],
   "source": [
    "# Both LH and RH are True, return True.\n",
    "print('True or True result:', True or True)"
   ]
  },
  {
   "cell_type": "code",
   "execution_count": null,
   "id": "74c9e23c",
   "metadata": {},
   "outputs": [],
   "source": [
    "# Only LH is True, return True.\n",
    "print('True or False result:', True or False)"
   ]
  },
  {
   "cell_type": "code",
   "execution_count": null,
   "id": "a3f7a929",
   "metadata": {},
   "outputs": [],
   "source": [
    "# Only RH is True, return True.\n",
    "print('False or True result:', False or True)"
   ]
  },
  {
   "cell_type": "code",
   "execution_count": null,
   "id": "c46f1720",
   "metadata": {},
   "outputs": [],
   "source": [
    "# Neither LH nor RH are True, return False.\n",
    "print('False or False result:', False or False)"
   ]
  },
  {
   "cell_type": "markdown",
   "id": "85700300",
   "metadata": {},
   "source": [
    "Now let’s go back to the `if` statement above. The conditional part of\n",
    "the header line is:"
   ]
  },
  {
   "cell_type": "code",
   "execution_count": null,
   "id": "08a88583",
   "metadata": {},
   "outputs": [],
   "source": [
    "np.sum(coins == 'heads') <= 2 or np.sum(coins == 'tails') <= 2"
   ]
  },
  {
   "cell_type": "markdown",
   "id": "7f2d0564",
   "metadata": {},
   "source": [
    "This will be `True` *either* when there there are two or fewer “heads”,\n",
    "*or* when there are two or fewer tails. Therefore, when we use this\n",
    "conditional in an `if` statement, we make the *body* of the `if`\n",
    "statement run only if either of the two conditions are `True`."
   ]
  },
  {
   "cell_type": "code",
   "execution_count": null,
   "id": "33fbda5d",
   "metadata": {},
   "outputs": [],
   "source": [
    "if np.sum(coins == 'heads') <= 2 or np.sum(coins == 'tails') <= 2:\n",
    "    print('Trial is of interest')"
   ]
  },
  {
   "cell_type": "markdown",
   "id": "806f693d",
   "metadata": {},
   "source": [
    "While we are here, Python has another very useful logical operator:\n",
    "`and`.\n",
    "\n",
    "`and` takes the LH and RH values, and returns `True` only if *both*\n",
    "values are `True`."
   ]
  },
  {
   "cell_type": "code",
   "execution_count": null,
   "id": "b583a20a",
   "metadata": {},
   "outputs": [],
   "source": [
    "# Both LH and RH are True, return True.\n",
    "print('True and True result:', True and True)"
   ]
  },
  {
   "cell_type": "code",
   "execution_count": null,
   "id": "6ac5bb27",
   "metadata": {},
   "outputs": [],
   "source": [
    "# Only LH is True, return False.\n",
    "print('True and False result:', True and False)"
   ]
  },
  {
   "cell_type": "code",
   "execution_count": null,
   "id": "e63bd663",
   "metadata": {},
   "outputs": [],
   "source": [
    "# Only RH is True, return False.\n",
    "print('False and True result:', False and True)"
   ]
  },
  {
   "cell_type": "code",
   "execution_count": null,
   "id": "7c6c9994",
   "metadata": {},
   "outputs": [],
   "source": [
    "# Neither LH nor RH are True, return False.\n",
    "print('False and False result:', False and False)"
   ]
  },
  {
   "cell_type": "markdown",
   "id": "50c57819",
   "metadata": {},
   "source": [
    "We could, for example, ask whether the number of heads is \\&gt;=3 *and*\n",
    "\\&lt;=7 (is in the range 3 through 7)."
   ]
  },
  {
   "cell_type": "code",
   "execution_count": null,
   "id": "44f29524",
   "metadata": {},
   "outputs": [],
   "source": [
    "if np.sum(coins == 'heads') >= 3 and np.sum(coins == 'heads') <= 7:\n",
    "    print('Trial is of interest')"
   ]
  },
  {
   "cell_type": "markdown",
   "id": "59bbc9b2",
   "metadata": {},
   "source": [
    "**Note: Python interval comparison**\n",
    "\n",
    "In fact, Python has a special shortcut syntax called *interval\n",
    "comparison* for that last question — whether a number is within a range.\n",
    "It looks like this:"
   ]
  },
  {
   "cell_type": "code",
   "execution_count": null,
   "id": "4dbebb8c",
   "metadata": {},
   "outputs": [],
   "source": [
    "# Asks whether thee number of heads is >= 3 *and* <= 7.\n",
    "3 <= np.sum(coins == 'heads') <= 7"
   ]
  },
  {
   "cell_type": "markdown",
   "id": "eca840a4",
   "metadata": {},
   "source": [
    "Notice the value at one end of the range the left (here, the lower\n",
    "value), then the comparison operator, then the value to compare, then\n",
    "another comparison operator, followed by the value at the other end of\n",
    "the range on the right.\n",
    "\n",
    "The interval comparison above is a shortcut for the more verbose version\n",
    "we would need when using `and`:"
   ]
  },
  {
   "cell_type": "code",
   "execution_count": null,
   "id": "18894b03",
   "metadata": {},
   "outputs": [],
   "source": [
    "# Also asks whether thee number of heads is >= 3 *and* <= 7.\n",
    "3 <= np.sum(coins == 'heads') and np.sum(coins == 'heads') <= 7"
   ]
  },
  {
   "cell_type": "markdown",
   "id": "68ba465d",
   "metadata": {},
   "source": [
    "**End of Note: Python interval comparison**\n",
    "\n"
   ]
  }
 ],
 "metadata": {
  "jupytext": {
   "cell_metadata_filter": "-all",
   "main_language": "python",
   "notebook_metadata_filter": "-all"
  },
  "kernelspec": {
   "display_name": "Python (Pyodide)",
   "name": "python"
  }
 },
 "nbformat": 4,
 "nbformat_minor": 5
}
