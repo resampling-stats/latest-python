{
 "cells": [
  {
   "cell_type": "markdown",
   "id": "310469e1",
   "metadata": {},
   "source": [
    "# Logical operators"
   ]
  },
  {
   "cell_type": "markdown",
   "id": "e11bfdea",
   "metadata": {},
   "source": [
    "Find this notebook on the web at\n",
    "<a class=\"quarto-xref\" href=\"/latest-python/testing_counts_2.html#nte-logical_operators\">Note <span>23.1</span></a>.\n",
    "\n",
    "This section continues our programme of expanding the range of Python\n",
    "features that you can use to clear code. As we introduce each feature,\n",
    "we will use them in the following examples.\n",
    "\n",
    "As motivation, we are about to do some simulations where we are\n",
    "interested in the number of some particular type of observations in each\n",
    "trial. For example, let’s do 10 coin tosses with `rnd.choice`:"
   ]
  },
  {
   "cell_type": "code",
   "execution_count": null,
   "id": "5b9da403",
   "metadata": {},
   "outputs": [],
   "source": [
    "import numpy as np\n",
    "rnd = np.random.default_rng()"
   ]
  },
  {
   "cell_type": "code",
   "execution_count": null,
   "id": "84392807",
   "metadata": {},
   "outputs": [],
   "source": [
    "# For each element, heads of tails is equally likely.\n",
    "coins = rnd.choice(['heads', 'tails'], size=10)\n",
    "coins"
   ]
  },
  {
   "cell_type": "markdown",
   "id": "db572fa8",
   "metadata": {},
   "source": [
    "Let us now say that we are interested to record if the trial had\n",
    "*either* 2 or fewer “heads” *or* two or fewer “tails”.\n",
    "\n",
    "We could write it like this:"
   ]
  },
  {
   "cell_type": "code",
   "execution_count": null,
   "id": "1868c11f",
   "metadata": {},
   "outputs": [],
   "source": [
    "if np.sum(coins == 'heads') <= 2:\n",
    "    print('Trial is of interest')"
   ]
  },
  {
   "cell_type": "code",
   "execution_count": null,
   "id": "fa587689",
   "metadata": {},
   "outputs": [],
   "source": [
    "if np.sum(coins == 'tails') <= 2:\n",
    "    print('Trial is of interest')"
   ]
  },
  {
   "cell_type": "markdown",
   "id": "016456c4",
   "metadata": {},
   "source": [
    "It is a little repetitive to have to repeat the code identical code to\n",
    "print the same message for either of the two cases, and it would be even\n",
    "more repetitive if there were more lines of identical code to run for\n",
    "each of the two cases.\n",
    "\n",
    "Python solves this problem with the `or` operator, like this:"
   ]
  },
  {
   "cell_type": "code",
   "execution_count": null,
   "id": "b3166690",
   "metadata": {},
   "outputs": [],
   "source": [
    "if np.sum(coins == 'heads') <= 2 or np.sum(coins == 'tails') <= 2:\n",
    "    print('Trial is of interest')"
   ]
  },
  {
   "cell_type": "markdown",
   "id": "57617bb6",
   "metadata": {},
   "source": [
    "**Note: What is an operator?**\n",
    "\n",
    "Above, we called `or` an *operator*. An operator, for our purposes, is a\n",
    "special character , or a word, that sits between two values, and that\n",
    "tells Python how to combine these values.\n",
    "\n",
    "For example `+` is an operator. When `+` sits between two numbers in\n",
    "code, Python interprets this to mean “take the two numbers on either\n",
    "side, and make a new number that is the result of adding the two\n",
    "numbers”:"
   ]
  },
  {
   "cell_type": "code",
   "execution_count": null,
   "id": "88175fec",
   "metadata": {},
   "outputs": [],
   "source": [
    "# + is an operator that, between two numbers, means \"add the numbers\".\n",
    "1 + 3"
   ]
  },
  {
   "cell_type": "markdown",
   "id": "21b5f27c",
   "metadata": {},
   "source": [
    "`+`, `-`, `/` and `*` are all examples of operators that do *arithmetic*\n",
    "on the numbers to either side — they are *arithmetic* operators."
   ]
  },
  {
   "cell_type": "code",
   "execution_count": null,
   "id": "95d5ecff",
   "metadata": {},
   "outputs": [],
   "source": [
    "# * is an operator that, between two numbers, means \"multiply the numbers\".\n",
    "2 * 4"
   ]
  },
  {
   "cell_type": "markdown",
   "id": "3b609be0",
   "metadata": {},
   "source": [
    "**End of Note: What is an operator?**\n"
   ]
  },
  {
   "cell_type": "markdown",
   "id": "e7a58257",
   "metadata": {},
   "source": [
    "We are about to use the operator `or`. `or` is a *logical* operator. It\n",
    "is a logical operator because it does not operate on *numbers* (as\n",
    "arithmetic operators do), but on *logical* (*Boolean*) values — values\n",
    "that can be either `True` or `False`.\n",
    "\n",
    "For example, here we use `or`. to combine a `True` value (on the left)\n",
    "with a `False` value (on the right). It gives a result — `True`."
   ]
  },
  {
   "cell_type": "code",
   "execution_count": null,
   "id": "b6798d0e",
   "metadata": {},
   "outputs": [],
   "source": [
    "True or False"
   ]
  },
  {
   "cell_type": "markdown",
   "id": "8e9159e8",
   "metadata": {},
   "source": [
    "`or` applies a very simple rule: if *either* the left-hand (LH) *or* the\n",
    "right-hand (RH) values are `True`, then `or` evaluates to `True`. Only\n",
    "if *neither* of the LH and RH values are `True`, does it return `False`."
   ]
  },
  {
   "cell_type": "code",
   "execution_count": null,
   "id": "4b688f22",
   "metadata": {},
   "outputs": [],
   "source": [
    "# Both LH and RH are True, return True.\n",
    "print('True or True result:', True or True)"
   ]
  },
  {
   "cell_type": "code",
   "execution_count": null,
   "id": "8b1e606f",
   "metadata": {},
   "outputs": [],
   "source": [
    "# Only LH is True, return True.\n",
    "print('True or False result:', True or False)"
   ]
  },
  {
   "cell_type": "code",
   "execution_count": null,
   "id": "0f942993",
   "metadata": {},
   "outputs": [],
   "source": [
    "# Only RH is True, return True.\n",
    "print('False or True result:', False or True)"
   ]
  },
  {
   "cell_type": "code",
   "execution_count": null,
   "id": "ee8a66a7",
   "metadata": {},
   "outputs": [],
   "source": [
    "# Neither LH nor RH are True, return False.\n",
    "print('False or False result:', False or False)"
   ]
  },
  {
   "cell_type": "markdown",
   "id": "55056e8e",
   "metadata": {},
   "source": [
    "Now let’s go back to the `if` statement above. The conditional part of\n",
    "the header line is:"
   ]
  },
  {
   "cell_type": "code",
   "execution_count": null,
   "id": "7060fbca",
   "metadata": {},
   "outputs": [],
   "source": [
    "np.sum(coins == 'heads') <= 2 or np.sum(coins == 'tails') <= 2"
   ]
  },
  {
   "cell_type": "markdown",
   "id": "cf7b78c7",
   "metadata": {},
   "source": [
    "This will be `True` *either* when there there are two or fewer “heads”,\n",
    "*or* when there are two or fewer tails. Therefore, when we use this\n",
    "conditional in an `if` statement, we make the *body* of the `if`\n",
    "statement run only if either of the two conditions are `True`."
   ]
  },
  {
   "cell_type": "code",
   "execution_count": null,
   "id": "51df868b",
   "metadata": {},
   "outputs": [],
   "source": [
    "if np.sum(coins == 'heads') <= 2 or np.sum(coins == 'tails') <= 2:\n",
    "    print('Trial is of interest')"
   ]
  },
  {
   "cell_type": "markdown",
   "id": "27d4b012",
   "metadata": {},
   "source": [
    "While we are here, Python has another very useful logical operator:\n",
    "`and`.\n",
    "\n",
    "`and` takes the LH and RH values, and returns `True` only if *both*\n",
    "values are `True`."
   ]
  },
  {
   "cell_type": "code",
   "execution_count": null,
   "id": "38c82efd",
   "metadata": {},
   "outputs": [],
   "source": [
    "# Both LH and RH are True, return True.\n",
    "print('True and True result:', True and True)"
   ]
  },
  {
   "cell_type": "code",
   "execution_count": null,
   "id": "9fc72259",
   "metadata": {},
   "outputs": [],
   "source": [
    "# Only LH is True, return False.\n",
    "print('True and False result:', True and False)"
   ]
  },
  {
   "cell_type": "code",
   "execution_count": null,
   "id": "14ce73e5",
   "metadata": {},
   "outputs": [],
   "source": [
    "# Only RH is True, return False.\n",
    "print('False and True result:', False and True)"
   ]
  },
  {
   "cell_type": "code",
   "execution_count": null,
   "id": "0dfdd07a",
   "metadata": {},
   "outputs": [],
   "source": [
    "# Neither LH nor RH are True, return False.\n",
    "print('False and False result:', False and False)"
   ]
  },
  {
   "cell_type": "markdown",
   "id": "e6bb7d68",
   "metadata": {},
   "source": [
    "We could, for example, ask whether the number of heads is \\&gt;=3 *and*\n",
    "\\&lt;=7 (is in the range 3 through 7)."
   ]
  },
  {
   "cell_type": "code",
   "execution_count": null,
   "id": "8aa38aee",
   "metadata": {},
   "outputs": [],
   "source": [
    "if np.sum(coins == 'heads') >= 3 and np.sum(coins == 'heads') <= 7:\n",
    "    print('Trial is of interest')"
   ]
  },
  {
   "cell_type": "markdown",
   "id": "5b8d14ac",
   "metadata": {},
   "source": [
    "**Note: Python interval comparison**\n",
    "\n",
    "In fact, Python has a special shortcut syntax called *interval\n",
    "comparison* for that last question — whether a number is within a range.\n",
    "It looks like this:"
   ]
  },
  {
   "cell_type": "code",
   "execution_count": null,
   "id": "2d73648b",
   "metadata": {},
   "outputs": [],
   "source": [
    "# Asks whether thee number of heads is >= 3 *and* <= 7.\n",
    "3 <= np.sum(coins == 'heads') <= 7"
   ]
  },
  {
   "cell_type": "markdown",
   "id": "cc9651a7",
   "metadata": {},
   "source": [
    "Notice the value at one end of the range the left (here, the lower\n",
    "value), then the comparison operator, then the value to compare, then\n",
    "another comparison operator, followed by the value at the other end of\n",
    "the range on the right.\n",
    "\n",
    "The interval comparison above is a shortcut for the more verbose version\n",
    "we would need when using `and`:"
   ]
  },
  {
   "cell_type": "code",
   "execution_count": null,
   "id": "241ee7ef",
   "metadata": {},
   "outputs": [],
   "source": [
    "# Also asks whether thee number of heads is >= 3 *and* <= 7.\n",
    "3 <= np.sum(coins == 'heads') and np.sum(coins == 'heads') <= 7"
   ]
  },
  {
   "cell_type": "markdown",
   "id": "a733a7d5",
   "metadata": {},
   "source": [
    "**End of Note: Python interval comparison**\n",
    "\n"
   ]
  }
 ],
 "metadata": {
  "jupytext": {
   "cell_metadata_filter": "-all",
   "main_language": "python",
   "notebook_metadata_filter": "-all"
  },
  "kernelspec": {
   "display_name": "Python (Pyodide)",
   "name": "python"
  }
 },
 "nbformat": 4,
 "nbformat_minor": 5
}
