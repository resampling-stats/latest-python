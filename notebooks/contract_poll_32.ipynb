{
 "cells": [
  {
   "cell_type": "markdown",
   "id": "455105da",
   "metadata": {},
   "source": [
    "# Contract poll looking for &gt;=32"
   ]
  },
  {
   "cell_type": "markdown",
   "id": "77c5f58e",
   "metadata": {},
   "source": [
    "Find this notebook on the web at\n",
    "<a class=\"quarto-xref\" href=\"https://resampling-stats.github.io/latest-python/how_big_sample.html#nte-contract_poll_32\">Note <span>30.4</span></a>.\n",
    "\n",
    "This Python notebook generates samples of 50 simulated voters on the\n",
    "assumption that only 50 percent are in favor of the contract. Then it\n",
    "counts the number of generated samples where 32 or more of the 50\n",
    "respondents said they were in favor of the contract."
   ]
  },
  {
   "cell_type": "code",
   "execution_count": null,
   "id": "2a7f0902",
   "metadata": {},
   "outputs": [],
   "source": [
    "import numpy as np\n",
    "import matplotlib.pyplot as plt\n",
    "\n",
    "rnd = np.random.default_rng()\n",
    "\n",
    "n_trials = 10_000\n",
    "\n",
    "yeses = np.zeros(n_trials)\n",
    "\n",
    "for i in range(n_trials):\n",
    "    answers = rnd.choice(['No', 'Yes'], size=50)\n",
    "    yeses[i] = np.sum(answers == 'Yes')\n",
    "\n",
    "k = np.sum(yeses >= 32)\n",
    "kk = k / n_trials\n",
    "\n",
    "print('Proportion >= 32:', np.round(kk, 2))"
   ]
  }
 ],
 "metadata": {
  "jupytext": {
   "cell_metadata_filter": "-all",
   "main_language": "python",
   "notebook_metadata_filter": "-all"
  }
 },
 "nbformat": 4,
 "nbformat_minor": 5
}
