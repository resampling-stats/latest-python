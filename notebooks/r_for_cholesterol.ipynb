{
 "cells": [
  {
   "cell_type": "markdown",
   "id": "cdbebbaf",
   "metadata": {},
   "source": [
    "# Correlation coefficient for compliance and cholesterol"
   ]
  },
  {
   "cell_type": "markdown",
   "id": "6d469775",
   "metadata": {},
   "source": [
    "Find this notebook on the web at\n",
    "<a class=\"quarto-xref\" href=\"https://resampling-stats.github.io/latest-python/correlation_causation.html#nte-r_for_cholesterol\">Note <span>29.5</span></a>.\n",
    "\n",
    "Calculate correlation coefficient for compliance and cholesterol."
   ]
  },
  {
   "cell_type": "code",
   "execution_count": null,
   "id": "4294bf9f",
   "metadata": {},
   "outputs": [],
   "source": [
    "import numpy as np\n",
    "import pandas as pd\n",
    "\n",
    "df = pd.read_csv('data/cholost.csv')\n",
    "compliance = np.array(df['percent_compliance'])\n",
    "cholesterol = np.array(df['cholesterol_decrease'])\n",
    "\n",
    "# Compliance as standard scores.\n",
    "dev_compliance = compliance - np.mean(compliance)  # Deviations.\n",
    "stdev_compliance = np.sqrt(np.mean(dev_compliance ** 2))  # Standard deviation.\n",
    "# We could also have used np.std to do the calculation above.\n",
    "std_compliance = dev_compliance / stdev_compliance  # Standard scores.\n",
    "\n",
    "# Cholesterol as standard scores.\n",
    "dev_cholesterol = cholesterol - np.mean(cholesterol)  # Deviations.\n",
    "stdev_cholesterol = np.sqrt(np.mean(dev_cholesterol ** 2))  # Standard deviation.\n",
    "# We could also have used np.std to do the calculation above.\n",
    "std_cholesterol = dev_cholesterol / stdev_cholesterol  # Standard scores.\n",
    "\n",
    "# r value is mean of products for standardized scores.\n",
    "r = np.mean(std_compliance * std_cholesterol)\n",
    "\n",
    "print('r for compliance / cholesterol is:', np.round(r, 2))"
   ]
  }
 ],
 "metadata": {
  "jupytext": {
   "cell_metadata_filter": "-all",
   "main_language": "python",
   "notebook_metadata_filter": "-all"
  }
 },
 "nbformat": 4,
 "nbformat_minor": 5
}
