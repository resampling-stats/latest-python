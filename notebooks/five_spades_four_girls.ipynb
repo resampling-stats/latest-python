{
 "cells": [
  {
   "cell_type": "markdown",
   "id": "d4bd8422",
   "metadata": {},
   "source": [
    "# Five spades, four girls"
   ]
  },
  {
   "cell_type": "markdown",
   "id": "99390c44",
   "metadata": {},
   "source": [
    "Find this notebook on the web at Note .\n",
    "\n",
    "This is a compound problem: what are the chances of *both* five or more\n",
    "spades in one bridge hand, and four girls and a boy in a five-child\n",
    "family?\n",
    "\n",
    "“Compound” does not necessarily mean “complicated”. It means that the\n",
    "problem is a compound of two or more simpler problems.\n",
    "\n",
    "A natural way to handle such a compound problem is in stages, as we saw\n",
    "in the archery problem of Section . If a “success” is achieved in the\n",
    "first stage, go on to the second stage; if not, don’t go on. More\n",
    "specifically in this example:\n",
    "\n",
    "- **Step 1.** Use a bridge card deck, and five coins with heads =\n",
    "  “girl”.\n",
    "- **Step 2.** Deal a 13-card bridge hand and count the spades. If 5 or\n",
    "  more spades, record “no” and end the experimental trial. Otherwise,\n",
    "  continue to step 3.\n",
    "- **Step 3.** Throw five coins, and count “heads.” If four heads, record\n",
    "  “yes,” otherwise record “no.”\n",
    "- **Step 4.** Repeat steps 2 and 3 a thousand times.\n",
    "- **Step 5.** Compute the proportion of “yes” in step 3. This estimates\n",
    "  the probability sought.\n",
    "\n",
    "The Python solution to this compound problem is neither long nor\n",
    "difficult. We tackle it almost as if the two parts of the problem were\n",
    "to be dealt with separately. We first determine, in a random bridge\n",
    "hand, whether 5 spades or more are dealt, as was done in the problem\n",
    "Section . Then, `if` 5 or more spades are found, we use `rnd.choice` to\n",
    "generate a random family of 5 children. This means that we need not\n",
    "generate families if 5 or more spades were not dealt to the bridge hand,\n",
    "because a “success” is only recorded if both conditions are met. After\n",
    "we record the number of girls in each sample of 5 children, we need only\n",
    "finish the loop (by unindenting the next line) and then use `np.sum` to\n",
    "count the number of samples that had 4 girls, storing the result in `k`.\n",
    "Since we only drew samples of children for those trials in which a\n",
    "bridge hand of 5 spades had already been dealt, `k` will have the number\n",
    "of trials out of 10000 in which both conditions were met."
   ]
  },
  {
   "cell_type": "code",
   "execution_count": null,
   "id": "ff4fcfb5",
   "metadata": {},
   "outputs": [],
   "source": [
    "import numpy as np\n",
    "\n",
    "rnd = np.random.default_rng()"
   ]
  },
  {
   "cell_type": "code",
   "execution_count": null,
   "id": "5f131289",
   "metadata": {},
   "outputs": [],
   "source": [
    "N = 10000\n",
    "trial_results = np.zeros(N)\n",
    "\n",
    "# Deck with 13 spades and 39 other cards\n",
    "deck = np.repeat(['spade', 'others'], [13, 52 - 13])\n",
    "\n",
    "for i in range(N):\n",
    "    # Shuffle deck and draw 13 cards\n",
    "    hand = rnd.choice(deck, size=13, replace=False)\n",
    "\n",
    "    n_spades = np.sum(hand == 'spade')\n",
    "\n",
    "    if n_spades >= 5:\n",
    "        # Generate a family, zeros for boys, ones for girls\n",
    "        children = rnd.choice(['girl', 'boy'], size=5)\n",
    "        n_girls = np.sum(children == 'girl')\n",
    "        trial_results[i] = n_girls\n",
    "\n",
    "k = np.sum(trial_results == 4)\n",
    "\n",
    "kk = k / N\n",
    "\n",
    "print(kk)"
   ]
  },
  {
   "cell_type": "markdown",
   "id": "c9a833c1",
   "metadata": {},
   "source": [
    "Here is an alternative approach to the same problem, but getting the\n",
    "result at the end of the loop, by combining Boolean arrays (see\n",
    "Section )."
   ]
  },
  {
   "cell_type": "code",
   "execution_count": null,
   "id": "6d2c698d",
   "metadata": {},
   "outputs": [],
   "source": [
    "N = 10000\n",
    "trial_spades = np.zeros(N)\n",
    "trial_girls = np.zeros(N)\n",
    "\n",
    "# Deck with 13 spades and 39 other cards\n",
    "deck = np.repeat(['spade', 'other'], [13, 39])\n",
    "\n",
    "for i in range(N):\n",
    "    # Shuffle deck and draw 13 cards\n",
    "    hand = rnd.choice(deck, 13, replace=False)\n",
    "\n",
    "    n_spades = np.sum(hand == 'spade')\n",
    "    trial_spades[i] = n_spades\n",
    "\n",
    "    # Generate a family, zeros for boys, ones for girls\n",
    "    children = rnd.choice(['girl', 'boy'], size=5)\n",
    "    n_girls = np.sum(children == 'girl')\n",
    "    trial_girls[i] = n_girls\n",
    "\n",
    "k = np.sum((trial_spades >= 5) & (trial_girls == 4))\n",
    "\n",
    "kk = k / N\n",
    "\n",
    "print(kk)"
   ]
  }
 ],
 "metadata": {
  "jupytext": {
   "cell_metadata_filter": "-all",
   "main_language": "python",
   "notebook_metadata_filter": "-all"
  }
 },
 "nbformat": 4,
 "nbformat_minor": 5
}
