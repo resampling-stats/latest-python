{
 "cells": [
  {
   "cell_type": "markdown",
   "id": "fed83eab",
   "metadata": {},
   "source": [
    "# Simulating juries"
   ]
  },
  {
   "cell_type": "markdown",
   "id": "5e59c346",
   "metadata": {},
   "source": [
    "Find this notebook on the web at\n",
    "<a class=\"quarto-xref\" href=\"https://resampling-stats.github.io/latest-python/resampling_with_code2.html#nte-life_and_death\">Note <span>6.1</span></a>.\n",
    "\n",
    "### 6.3.2 Using code to simulate a trial\n",
    "\n",
    "We use the same logic to simulate a trial with the computer. A little\n",
    "code makes the job easier, because we can ask Python to give us 12\n",
    "random numbers from 0 through 99, and to count how many of these numbers\n",
    "are in the range from 75 through 99. Numbers in the range from 75\n",
    "through 99 correspond to black jurors.\n",
    "\n",
    "### 6.3.3 Random numbers from 0 through 99\n",
    "\n",
    "We can now use NumPy and the random number functions from the last\n",
    "chapter to get 12 random numbers from 0 through 99."
   ]
  },
  {
   "cell_type": "code",
   "execution_count": null,
   "id": "c4fcdc17",
   "metadata": {},
   "outputs": [],
   "source": [
    "# Import the Numpy library, rename as \"np\"\n",
    "import numpy as np\n",
    "\n",
    "# Ask Numpy for a random number generator.\n",
    "rnd = np.random.default_rng()\n",
    "\n",
    "# All the integers from 0 up to, but not including 100.\n",
    "zero_thru_99 = np.arange(100)\n",
    "\n",
    "# Get 12 random numbers from 0 through 99\n",
    "a = rnd.choice(zero_thru_99, size=12)\n",
    "\n",
    "# Show the result\n",
    "a"
   ]
  },
  {
   "cell_type": "markdown",
   "id": "905873e8",
   "metadata": {},
   "source": [
    "#### 6.3.3.1 Counting the jurors\n",
    "\n",
    "We use *comparison* and `np.sum` to count how many numbers are greater\n",
    "than 74, and therefore, in the range from 75 through 99:"
   ]
  },
  {
   "cell_type": "code",
   "execution_count": null,
   "id": "c8ab4e36",
   "metadata": {},
   "outputs": [],
   "source": [
    "# How many numbers are greater than 74?\n",
    "b = np.sum(a > 74)\n",
    "# Show the result\n",
    "b"
   ]
  },
  {
   "cell_type": "markdown",
   "id": "63a1e338",
   "metadata": {},
   "source": [
    "#### 6.3.3.2 A single simulated trial\n",
    "\n",
    "We assemble the pieces from the last few sections to make a cell that\n",
    "simulates a single trial:"
   ]
  },
  {
   "cell_type": "code",
   "execution_count": null,
   "id": "f5151a06",
   "metadata": {},
   "outputs": [],
   "source": [
    "rnd = np.random.default_rng()\n",
    "zero_thru_99 = np.arange(100)\n",
    "\n",
    "# Get 12 random numbers from 0 through 99\n",
    "a = rnd.choice(zero_thru_99, size=12)\n",
    "\n",
    "# How many numbers are greater than 74?\n",
    "b = np.sum(a > 74)\n",
    "\n",
    "# Show the result\n",
    "b"
   ]
  },
  {
   "cell_type": "markdown",
   "id": "d51e6425",
   "metadata": {},
   "source": [
    "## 6.4 Three simulation steps\n",
    "\n",
    "Now we come back to the details of how we:\n",
    "\n",
    "1.  Repeat the simulated trial many times;\n",
    "2.  record the results for each trial;\n",
    "3.  calculate the required proportion as an estimate of the probability\n",
    "    we seek.\n",
    "\n",
    "Repeating the trial many times is the job of the `for` loop, and we will\n",
    "come to that soon.\n",
    "\n",
    "In order to record the results, we will store each trial result in an\n",
    "array.\n",
    "\n",
    "### 6.4.1 More on arrays\n",
    "\n",
    "Since we will be working with arrays a lot, it is worth knowing more\n",
    "about them.\n",
    "\n",
    "A Numpy array is a *container* that stores many elements of the same\n",
    "type. You have already seen, in\n",
    "<a class=\"quarto-xref\" href=\"https://resampling-stats.github.io/latest-python/resampling_method.html\"><span>Chapter 2</span></a>, how we\n",
    "can create an array from a sequence of numbers using the `np.array`\n",
    "function."
   ]
  },
  {
   "cell_type": "code",
   "execution_count": null,
   "id": "a0a2e1b5",
   "metadata": {},
   "outputs": [],
   "source": [
    "# Make an array of numbers, store with the name \"some_numbers\".\n",
    "some_numbers = np.array([0, 1, 2, 3, 4, 5, 6, 7, 8, 9])\n",
    "# Show the value of \"some_numbers\"\n",
    "some_numbers"
   ]
  },
  {
   "cell_type": "markdown",
   "id": "cc1b4768",
   "metadata": {},
   "source": [
    "Another way that we can create arrays is to use the `np.zeros` function\n",
    "to make a new array where all the elements are 0."
   ]
  },
  {
   "cell_type": "code",
   "execution_count": null,
   "id": "41af348a",
   "metadata": {},
   "outputs": [],
   "source": [
    "# Make a new array containing 5 zeros.\n",
    "# store with the name \"z\".\n",
    "z = np.zeros(5)\n",
    "# Show the value of \"z\"\n",
    "z"
   ]
  },
  {
   "cell_type": "markdown",
   "id": "079d136b",
   "metadata": {},
   "source": [
    "Notice the argument `5` to the `np.zeros` function. This tells the\n",
    "function how many zeros we want in the array that the function will\n",
    "return.\n",
    "\n",
    "## 6.5 Array length\n",
    "\n",
    "The are various useful things we can do with this array container. One\n",
    "is to ask how many elements there are in the array container. We can use\n",
    "the `len` function to calculate the number of elements in an array:"
   ]
  },
  {
   "cell_type": "code",
   "execution_count": null,
   "id": "84ecaf23",
   "metadata": {},
   "outputs": [],
   "source": [
    "# Show the number of elements in \"z\"\n",
    "len(z)"
   ]
  },
  {
   "cell_type": "markdown",
   "id": "17e4ea81",
   "metadata": {},
   "source": [
    "## 6.6 Indexing into arrays with integers\n",
    "\n",
    "Another thing we can do with arrays is *set* the value for a particular\n",
    "element. To do this, we use square brackets following the array value,\n",
    "on the left hand side of the equals sign, like this:"
   ]
  },
  {
   "cell_type": "code",
   "execution_count": null,
   "id": "254f4027",
   "metadata": {},
   "outputs": [],
   "source": [
    "# Set the value of the *first* element in the array.\n",
    "z[0] = 99\n",
    "# Show the new contents of the array.\n",
    "z"
   ]
  },
  {
   "cell_type": "markdown",
   "id": "1d70bc00",
   "metadata": {},
   "source": [
    "Read the first line of code as “the element at position 0 gets a value\n",
    "of 99”.\n",
    "\n",
    "Notice that the position number of the first element in the array is 0,\n",
    "and the position number of the second element is 1. Think of the\n",
    "position as an *offset* from the beginning of the array. The first\n",
    "element is at the beginning of the array, and so it is at offset\n",
    "(position) 0. This can be a little difficult to get used to at first,\n",
    "but you will find that thinking of the positions of offsets in this way\n",
    "soon starts to come naturally, and later you will also find that it\n",
    "helps you to avoid some common mistakes when using positions for getting\n",
    "and setting values.\n",
    "\n",
    "For practice, let us also set the value of the third element in the\n",
    "array:"
   ]
  },
  {
   "cell_type": "code",
   "execution_count": null,
   "id": "39a8d7c6",
   "metadata": {},
   "outputs": [],
   "source": [
    "# Set the value of the *third* element in the array.\n",
    "z[2] = 99\n",
    "# Show the new contents of the array.\n",
    "z"
   ]
  },
  {
   "cell_type": "markdown",
   "id": "510c3bd5",
   "metadata": {},
   "source": [
    "Read the first code line above as as “set the value at position 2 in the\n",
    "array to have the value 99”.\n",
    "\n",
    "We can also *get* the value of the element at a given position, using\n",
    "the same square-bracket notation:"
   ]
  },
  {
   "cell_type": "code",
   "execution_count": null,
   "id": "3e9e0385",
   "metadata": {},
   "outputs": [],
   "source": [
    "# Get the value of the *first* element in the array.\n",
    "# Store the value with name \"v\"\n",
    "v = z[0]\n",
    "# Show the value we got\n",
    "v"
   ]
  },
  {
   "cell_type": "markdown",
   "id": "20b7720a",
   "metadata": {},
   "source": [
    "Read the first code line here as “v gets the value at position 0 in the\n",
    "array”.\n",
    "\n",
    "Using square brackets to get and set element values is called *indexing*\n",
    "into the array.\n",
    "\n",
    "### 6.6.1 Repeating trials\n",
    "\n",
    "As a preview, let us now imagine that we want to do 50 simulated trials\n",
    "of Robert Swain’s jury in Hypothetical County. We will want to store the\n",
    "count for each trial, to give 50 counts.\n",
    "\n",
    "In order to do this, we make an array to hold the 50 counts. Call this\n",
    "array `z`."
   ]
  },
  {
   "cell_type": "code",
   "execution_count": null,
   "id": "f23875d8",
   "metadata": {},
   "outputs": [],
   "source": [
    "# An array to hold the 50 count values.\n",
    "z = np.zeros(50)"
   ]
  },
  {
   "cell_type": "markdown",
   "id": "f49fd23a",
   "metadata": {},
   "source": [
    "We could run a single trial to get a single simulated count. Here we\n",
    "just repeat the code cell you saw above. Notice that we can get a\n",
    "different result each time we run this code, because the numbers in `a`\n",
    "are *random* choices from the range 0 through 99, and different random\n",
    "numbers will give different counts."
   ]
  },
  {
   "cell_type": "code",
   "execution_count": null,
   "id": "15c5ecdd",
   "metadata": {},
   "outputs": [],
   "source": [
    "rnd = np.random.default_rng()\n",
    "zero_thru_99 = np.arange(100)\n",
    "# Get 12 random numbers from 0 through 99\n",
    "a = rnd.choice(zero_thru_99, size=12)\n",
    "# How many numbers are greater than 74?\n",
    "b = np.sum(a > 74)\n",
    "# Show the result\n",
    "b"
   ]
  },
  {
   "cell_type": "markdown",
   "id": "7b6f6a00",
   "metadata": {},
   "source": [
    "Now we have the result of a single trial, we can store it as the first\n",
    "number in the `z` array:"
   ]
  },
  {
   "cell_type": "code",
   "execution_count": null,
   "id": "565dec24",
   "metadata": {},
   "outputs": [],
   "source": [
    "# Store the single trial count as the first value in the \"z\" array.\n",
    "z[0] = b\n",
    "# Show all the values in the \"z\" array.\n",
    "z"
   ]
  },
  {
   "cell_type": "markdown",
   "id": "7d454d5d",
   "metadata": {},
   "source": [
    "Of course we could just keep doing this: run the cell corresponding to a\n",
    "trial, above, to get a new count, and then store it at the next position\n",
    "in the `z` array. For example, we could store the counts for the first\n",
    "three trials with:"
   ]
  },
  {
   "cell_type": "code",
   "execution_count": null,
   "id": "e866e675",
   "metadata": {},
   "outputs": [],
   "source": [
    "# First trial\n",
    "a = rnd.choice(zero_thru_99, size=12)\n",
    "b = np.sum(a > 74)\n",
    "# Store the result at the first position in z\n",
    "# Remember, the first position is offset 0.\n",
    "z[0] = b\n",
    "# Second trial\n",
    "a = rnd.choice(zero_thru_99, size=12)\n",
    "b = np.sum(a > 74)\n",
    "# Store the result at the second position in z\n",
    "z[1] = b\n",
    "# Third trial\n",
    "a = rnd.choice(zero_thru_99, size=12)\n",
    "b = np.sum(a > 74)\n",
    "# Store the result at the third position in z\n",
    "z[2] = b\n",
    "\n",
    "# And so on ..."
   ]
  },
  {
   "cell_type": "markdown",
   "id": "14b50daa",
   "metadata": {},
   "source": [
    "This would get terribly long and boring to type for 50 trials. Luckily\n",
    "computer code is very good at repeating the same procedure many times.\n",
    "For example, Python can do this using a `for` loop. You have already\n",
    "seen a preview of the `for` loop in\n",
    "<a class=\"quarto-xref\" href=\"https://resampling-stats.github.io/latest-python/resampling_method.html\"><span>Chapter 2</span></a>. Here we\n",
    "dive into `for` loops in more depth.\n",
    "\n",
    "### 6.6.2 For-loops in Python\n",
    "\n",
    "A for-loop is a way of asking Python to:\n",
    "\n",
    "- Take a sequence of things, one by one, and\n",
    "- Do the same task on each one.\n",
    "\n",
    "We often use this idea when we are trying to explain a repeating\n",
    "procedure. For example, imagine we wanted to explain what the\n",
    "supermarket checkout person does for the items in your shopping basket.\n",
    "You might say that they do this:\n",
    "\n",
    "&gt; For each item of shopping in your basket, they take the item off the\n",
    "&gt; conveyor belt, scan it, and put it on the other side of the till.\n",
    "\n",
    "You could also break this description up into bullet points with\n",
    "indentation, to say the same thing:\n",
    "\n",
    "- For each item from your shopping basket, they:\n",
    "  - Take the item off the conveyor belt.\n",
    "  - Scan the item.\n",
    "  - Put it on the other side of the till.\n",
    "\n",
    "Notice the logic; the checkout person is repeating the same procedure\n",
    "for each of a series of items.\n",
    "\n",
    "This is the logic of the `for` loop in Python. The procedure that Python\n",
    "repeats is called the *body of the for loop*. In the example of the\n",
    "checkout person above, the repeating procedure is:\n",
    "\n",
    "- Take the item off the conveyor belt.\n",
    "- Scan the item.\n",
    "- Put it on the other side of the till.\n",
    "\n",
    "Now imagine we wanted to use Python to print out the year of birth for\n",
    "each of the authors for the third edition of this book:\n",
    "\n",
    "| Author               | Year of birth |\n",
    "|----------------------|---------------|\n",
    "| Julian Lincoln Simon | 1932          |\n",
    "| Matthew Brett        | 1964          |\n",
    "| Stéfan van der Walt  | 1980          |\n",
    "\n",
    "We want to see this output:\n",
    "\n",
    "    Author birth year is 1932\n",
    "    Author birth year is 1964\n",
    "    Author birth year is 1980\n",
    "\n",
    "Of course, we could just ask Python to print out these exact lines, like\n",
    "this:"
   ]
  },
  {
   "cell_type": "code",
   "execution_count": null,
   "id": "9a8574f4",
   "metadata": {},
   "outputs": [],
   "source": [
    "print('Author birth year is 1932')"
   ]
  },
  {
   "cell_type": "code",
   "execution_count": null,
   "id": "61ae5e27",
   "metadata": {},
   "outputs": [],
   "source": [
    "print('Author birth year is 1964')"
   ]
  },
  {
   "cell_type": "code",
   "execution_count": null,
   "id": "4fef9962",
   "metadata": {},
   "outputs": [],
   "source": [
    "print('Author birth year is 1980')"
   ]
  },
  {
   "cell_type": "markdown",
   "id": "d66ceda8",
   "metadata": {},
   "source": [
    "We might instead notice that we are repeating the same procedure for\n",
    "each of the three birth years, and decide to do the same thing using a\n",
    "`for` loop:"
   ]
  },
  {
   "cell_type": "code",
   "execution_count": null,
   "id": "61356fcf",
   "metadata": {},
   "outputs": [],
   "source": [
    "author_birth_years = np.array([1932, 1964, 1980])\n",
    "\n",
    "# For each birth year\n",
    "for birth_year in author_birth_years:\n",
    "    # Repeat this procedure ...\n",
    "    print('Author birth year is', birth_year)"
   ]
  },
  {
   "cell_type": "markdown",
   "id": "eb4844e5",
   "metadata": {},
   "source": [
    "The `for` loop starts with a line where we tell it what items we want to\n",
    "repeat the procedure for:\n",
    "\n",
    "    for birth_year in author_birth_years:\n",
    "\n",
    "This *initial line* of the `for` loop ends with a colon.\n",
    "\n",
    "The next thing in the `for` loop is the procedure Python should follow\n",
    "for each item. Python knows that the following lines are the procedure\n",
    "it should repeat, because the lines are *indented*. The *indented* lines\n",
    "are the *body of the for loop*.\n",
    "\n",
    "The initial line of the `for` loop above tells Python that it should\n",
    "take *each item* in `author_birth_years`, one by one — first 1932, then\n",
    "1964, then 1980. For each of these numbers it will:\n",
    "\n",
    "- Put the number into the variable `birth_year`, then\n",
    "- Run the indented code .\n",
    "\n",
    "Just as the person at the supermarket checkout takes each item in turn,\n",
    "for each iteration (repeat) of the `for` loop, `birth_year` gets a new\n",
    "value from the sequence in `author_birth_years`. `birth_year` is called\n",
    "the *loop variable*, because it is the variable that gets a new value\n",
    "each time we begin a new iteration of the `for` loop procedure. As for\n",
    "any variable in Python, we can call our loop variable anything we like.\n",
    "We used `birth_year` here, but we could have used `y` or `year` or some\n",
    "other name.\n",
    "\n",
    "Now you know what the `for` loop is doing, you can see that the `for`\n",
    "loop above is equivalent to the following code:"
   ]
  },
  {
   "cell_type": "code",
   "execution_count": null,
   "id": "04d64676",
   "metadata": {},
   "outputs": [],
   "source": [
    "birth_year = 1932  # Set the loop variable to contain the first value.\n",
    "print('Author birth year is', birth_year)  # Use it."
   ]
  },
  {
   "cell_type": "code",
   "execution_count": null,
   "id": "6b53fac7",
   "metadata": {},
   "outputs": [],
   "source": [
    "birth_year = 1964  # Set the loop variable to contain the next value.\n",
    "print('Author birth year is', birth_year)  # Use the second value."
   ]
  },
  {
   "cell_type": "code",
   "execution_count": null,
   "id": "9535bc7f",
   "metadata": {},
   "outputs": [],
   "source": [
    "birth_year = 1980\n",
    "print('Author birth year is', birth_year)"
   ]
  },
  {
   "cell_type": "markdown",
   "id": "281bb06e",
   "metadata": {},
   "source": [
    "Writing the steps in the `for` loop out like this is called *unrolling*\n",
    "the loop. It can be a useful exercise to do this when you come across a\n",
    "`for` loop, in order to work through the logic of the loop. For example,\n",
    "you may want to write out the unrolled equivalent of the first couple of\n",
    "iterations, to see what the loop variable will be, and what will happen\n",
    "in the body of the loop.\n",
    "\n",
    "We often use `for` loops with ranges (see\n",
    "<a class=\"quarto-xref\" href=\"https://resampling-stats.github.io/latest-python/resampling_with_code.html#sec-ranges\"><span>Section 5.9</span></a>). Here we use a loop\n",
    "to print out the numbers 0 through 3:"
   ]
  },
  {
   "cell_type": "code",
   "execution_count": null,
   "id": "1a982869",
   "metadata": {},
   "outputs": [],
   "source": [
    "for n in np.arange(4):\n",
    "    print('The loop variable n is', n)"
   ]
  },
  {
   "cell_type": "markdown",
   "id": "2bc597fa",
   "metadata": {},
   "source": [
    "Notice that the range ended at (the number before) 4, and that means we\n",
    "repeat the loop body 4 times. We can also use the loop variable value\n",
    "from the range as an *index*, to get or set the first, second, etc\n",
    "values from an array.\n",
    "\n",
    "For example, maybe we would like to show the author position *and* the\n",
    "author year of birth.\n",
    "\n",
    "Remember our author birth years:"
   ]
  },
  {
   "cell_type": "code",
   "execution_count": null,
   "id": "c8c6310e",
   "metadata": {},
   "outputs": [],
   "source": [
    "author_birth_years"
   ]
  },
  {
   "cell_type": "markdown",
   "id": "56350d50",
   "metadata": {},
   "source": [
    "We can get (for example) the second author birth year with:"
   ]
  },
  {
   "cell_type": "code",
   "execution_count": null,
   "id": "5b9e0088",
   "metadata": {},
   "outputs": [],
   "source": [
    "author_birth_years[1]"
   ]
  },
  {
   "cell_type": "markdown",
   "id": "7d4de11b",
   "metadata": {},
   "source": [
    "Remember, for Python, the first element is position 0, so the second\n",
    "element is position 1.\n",
    "\n",
    "Using the combination of looping over a range, and array indexing, we\n",
    "can print out the author position *and* the author birth year:"
   ]
  },
  {
   "cell_type": "code",
   "execution_count": null,
   "id": "8b5bfd42",
   "metadata": {},
   "outputs": [],
   "source": [
    "for n in np.arange(3):\n",
    "    year = author_birth_years[n]\n",
    "    print('Birth year of author position', n, 'is', year)"
   ]
  },
  {
   "cell_type": "markdown",
   "id": "4c120480",
   "metadata": {},
   "source": [
    "Again, remember Python considers 0 as the first position.\n",
    "\n",
    "Just for practice, let us unroll the three iterations through this `for`\n",
    "loop, to remind ourselves what the code is doing:"
   ]
  },
  {
   "cell_type": "code",
   "execution_count": null,
   "id": "6df9383b",
   "metadata": {},
   "outputs": [],
   "source": [
    "# Unrolling the for loop.\n",
    "n = 0\n",
    "year = author_birth_years[n]  # Will be 1932\n",
    "print('Birth year of author position', n, 'is', year)"
   ]
  },
  {
   "cell_type": "code",
   "execution_count": null,
   "id": "af164597",
   "metadata": {},
   "outputs": [],
   "source": [
    "n = 1\n",
    "year = author_birth_years[n]  # Will be 1964\n",
    "print('Birth year of author position', n, 'is', year)"
   ]
  },
  {
   "cell_type": "code",
   "execution_count": null,
   "id": "4e5151ed",
   "metadata": {},
   "outputs": [],
   "source": [
    "n = 2\n",
    "year = author_birth_years[n]  # Will be 1980\n",
    "print('Birth year of author position', n, 'is', year)"
   ]
  },
  {
   "cell_type": "markdown",
   "id": "f10e21e4",
   "metadata": {},
   "source": [
    "### 6.6.3 `range` in Python `for` loops\n",
    "\n",
    "So far we have used `np.arange` to give us the sequence of integers that\n",
    "we feed into the `for` loop. But — as you saw in\n",
    "<a class=\"quarto-xref\" href=\"https://resampling-stats.github.io/latest-python/resampling_with_code.html#sec-python-range\"><span>Section 5.10</span></a> — we can also\n",
    "get a range of numbers from Python’s `range` function. `range` is a\n",
    "common and useful alternative way to provide a range of numbers to a\n",
    "`for` loop.\n",
    "\n",
    "You have just seen how we would use `np.arange` to send the numbers 0,\n",
    "1, 2, and 3 to a `for` loop, in the example above, repeated here:"
   ]
  },
  {
   "cell_type": "code",
   "execution_count": null,
   "id": "4a43573d",
   "metadata": {},
   "outputs": [],
   "source": [
    "for n in np.arange(3):\n",
    "    year = author_birth_years[n]\n",
    "    print('Birth year of author position', n, 'is', year)"
   ]
  },
  {
   "cell_type": "markdown",
   "id": "c962a2a8",
   "metadata": {},
   "source": [
    "We could also use `range` instead of `np.arange` to do the same task:"
   ]
  },
  {
   "cell_type": "code",
   "execution_count": null,
   "id": "7fc19483",
   "metadata": {},
   "outputs": [],
   "source": [
    "for n in range(3):\n",
    "    year = author_birth_years[n]\n",
    "    print('Birth year of author position', n, 'is', year)"
   ]
  },
  {
   "cell_type": "markdown",
   "id": "c1767e71",
   "metadata": {},
   "source": [
    "In fact, you will see this pattern throughout the book, where we use\n",
    "`for` statements like `for value in range(10000):` to ask Python to put\n",
    "each number in the range 0 up to (not including) 10000 into the variable\n",
    "`value`, and then do something in the body of the loop. Just to be\n",
    "clear, we could always, and almost as easily, write\n",
    "`for value in np.arange(10000):` to do the same task. However, we\n",
    "generally prefer `range` in our Python `for` loops, because it is just a\n",
    "little less typing (without the `np.a` of `np.arange`), and because it\n",
    "is a more common pattern in standard Python code.[^1]\n",
    "\n",
    "### 6.6.4 Putting it all together\n",
    "\n",
    "Here is the code we worked out above, to implement a single trial:"
   ]
  },
  {
   "cell_type": "code",
   "execution_count": null,
   "id": "71d0c8df",
   "metadata": {},
   "outputs": [],
   "source": [
    "rnd = np.random.default_rng()\n",
    "zero_thru_99 = np.arange(100)\n",
    "# Get 12 random numbers from 0 through 99\n",
    "a = rnd.choice(zero_thru_99, size=12)\n",
    "# How many numbers are greater than 74?\n",
    "b = np.sum(a > 74)\n",
    "# Show the result\n",
    "b"
   ]
  },
  {
   "cell_type": "markdown",
   "id": "57aa2e3f",
   "metadata": {},
   "source": [
    "We found that we could use arrays to store the results of these trials,\n",
    "and that we could use `for` loops to repeat the same procedure many\n",
    "times.\n",
    "\n",
    "Now we can put these parts together to do 50 simulated trials:"
   ]
  },
  {
   "cell_type": "code",
   "execution_count": null,
   "id": "1f0db07b",
   "metadata": {},
   "outputs": [],
   "source": [
    "# Procedure for 50 simulated trials.\n",
    "\n",
    "# The Numpy random number generator.\n",
    "rnd = np.random.default_rng()\n",
    "\n",
    "# All the numbers from 0 through 99.\n",
    "zero_through_99 = np.arange(100)\n",
    "\n",
    "# An array to store the counts for each trial.\n",
    "z = np.zeros(50)\n",
    "\n",
    "# Repeat the trial procedure 50 times.\n",
    "for i in np.arange(50):\n",
    "    # Get 12 random numbers from 0 through 99\n",
    "    a = rnd.choice(zero_through_99, size=12)\n",
    "    # How many numbers are greater than 74?\n",
    "    b = np.sum(a > 74)\n",
    "    # Store the result at the next position in the \"z\" array.\n",
    "    z[i] = b\n",
    "    # Now go back and do the next trial until finished.\n",
    "# Show the result of all 50 trials.\n",
    "z"
   ]
  },
  {
   "cell_type": "markdown",
   "id": "680f8dde",
   "metadata": {},
   "source": [
    "Finally, we need to count how many of the trials in `z` ended up with\n",
    "all-white juries. These are the trials with a `z` (count) value of 0.\n",
    "\n",
    "To do this, we can ask an array which elements match a certain\n",
    "condition. E.g.:"
   ]
  },
  {
   "cell_type": "code",
   "execution_count": null,
   "id": "7db0beb9",
   "metadata": {},
   "outputs": [],
   "source": [
    "x = np.array([2, 1, 3, 0])\n",
    "y = x < 2\n",
    "# Show the result\n",
    "y"
   ]
  },
  {
   "cell_type": "markdown",
   "id": "1aa00628",
   "metadata": {},
   "source": [
    "We now use that same technique to ask, of *each of the 50 counts*,\n",
    "whether the array `z` is equal to 0, like this:"
   ]
  },
  {
   "cell_type": "code",
   "execution_count": null,
   "id": "081e6e08",
   "metadata": {},
   "outputs": [],
   "source": [
    "# Is the value of z equal to 0?\n",
    "all_white = z == 0\n",
    "# Show the result of the comparison.\n",
    "all_white"
   ]
  },
  {
   "cell_type": "markdown",
   "id": "18ff4488",
   "metadata": {},
   "source": [
    "We need to get the number of `True` values in `all_white`, to find how\n",
    "many simulated trials gave all-white juries."
   ]
  },
  {
   "cell_type": "code",
   "execution_count": null,
   "id": "b5353713",
   "metadata": {},
   "outputs": [],
   "source": [
    "# Count the number of True values in \"all_white\"\n",
    "# This is the same as the number of values in \"z\" that are equal to 0.\n",
    "n_all_white = np.sum(all_white)\n",
    "# Show the result of the comparison.\n",
    "n_all_white"
   ]
  },
  {
   "cell_type": "markdown",
   "id": "33e88bc1",
   "metadata": {},
   "source": [
    "`n_all_white` is the number of simulated trials for which all the jury\n",
    "members were white. It only remains to get the proportion of trials for\n",
    "which this was true, and to do this, we divide by the number of trials."
   ]
  },
  {
   "cell_type": "code",
   "execution_count": null,
   "id": "bd5f2016",
   "metadata": {},
   "outputs": [],
   "source": [
    "# Proportion of trials where all jury members were white.\n",
    "p = n_all_white / 50\n",
    "# Show the result\n",
    "p"
   ]
  },
  {
   "cell_type": "markdown",
   "id": "704b4cb2",
   "metadata": {},
   "source": [
    "From this initial simulation, it seems there is around a 0% chance that\n",
    "a jury selected randomly from the population, which was 26% black, would\n",
    "have no black jurors.\n",
    "\n",
    "## 6.7 Many many trials\n",
    "\n",
    "Our experiment above is only 50 simulated trials. The higher the number\n",
    "of trials, the more confident we can be of our estimate for `p` — the\n",
    "proportion of trials where we get an all-white jury.\n",
    "\n",
    "It is no extra trouble for us to tell the computer to do a very large\n",
    "number of trials. For example, we might want to run 10,000 trials\n",
    "instead of 50. All we have to do is to run the loop 10,000 times instead\n",
    "of 50 times. The computer has to do more work, but it is more than up to\n",
    "the job.\n",
    "\n",
    "Here is exactly the same code we ran above, but collected into one cell,\n",
    "and using 10,000 trials instead of 50. We have left out the comments, to\n",
    "make the code more compact."
   ]
  },
  {
   "cell_type": "code",
   "execution_count": null,
   "id": "0feea401",
   "metadata": {},
   "outputs": [],
   "source": [
    "# Full simulation procedure, with 10,000 trials.\n",
    "rnd = np.random.default_rng()\n",
    "zero_through_99 = np.arange(100)\n",
    "# 10,000 trials.\n",
    "z = np.zeros(10000)\n",
    "for i in np.arange(10000):\n",
    "    a = rnd.choice(zero_through_99, size=12)\n",
    "    b = np.sum(a > 74)\n",
    "    z[i] = b\n",
    "all_white = z == 0\n",
    "n_all_white = sum(all_white)\n",
    "p = n_all_white / 10000\n",
    "p"
   ]
  },
  {
   "cell_type": "markdown",
   "id": "d7abe404",
   "metadata": {},
   "source": [
    "We now have a new, more accurate estimate of the proportion of\n",
    "Hypothetical County juries that are all white. The proportion is 0.03,\n",
    "and so 3%.\n",
    "\n",
    "This proportion means that, for any one jury from Hypothetical County,\n",
    "there is a less than one in 20 chance that the jury would be all white.\n",
    "\n",
    "As we will see in more detail later, we might consider using the results\n",
    "from this experiment in Hypothetical County, to reflect on the result we\n",
    "saw in the real Talladega County. We might conclude, for example, that\n",
    "there was likely some systematic difference between Hypothetical County\n",
    "and Talledega County. Maybe the difference was that there was, in fact,\n",
    "some bias in the jury selection in Talledega county, and that the\n",
    "Supreme Court was wrong to reject this. You will hear more of this line\n",
    "of reasoning later in the book.\n"
   ]
  },
  {
   "cell_type": "markdown",
   "id": "0f60023c",
   "metadata": {},
   "source": [
    "[^1]: Actually, there is a reason why many Python programmers prefer\n",
    "    `range` to `np.arange` in the headers for their `for` loops. `range`\n",
    "    is a very efficient container, in that it doesn’t need to take up\n",
    "    all the memory required to create the full array, it just needs to\n",
    "    keep track of the number to give you next. For example, consider\n",
    "    `for i in    np.arange(10000000):` — in this case Python has to make\n",
    "    an array with 10,000,000 elements, and then, from that array, it\n",
    "    passes each value one by one to the `for` loop. On the other hand,\n",
    "    `for i in range(10000000):` will do the job just as well, passing\n",
    "    the same sequence of 0 through 9,999,999 to `i`, one by one, but\n",
    "    `range(10000000)` never has to make the whole 10,000,000 element\n",
    "    array — it just needs to keep track of which number to give up next.\n",
    "    Therefore `range` is very quick, and very efficient in memory. This\n",
    "    doesn’t have any great practical impact for the arrays we are using\n",
    "    here, typically of 10,0000 elements or so, but it can be important\n",
    "    for larger arrays."
   ]
  }
 ],
 "metadata": {
  "jupytext": {
   "cell_metadata_filter": "-all",
   "main_language": "python",
   "notebook_metadata_filter": "-all"
  }
 },
 "nbformat": 4,
 "nbformat_minor": 5
}
