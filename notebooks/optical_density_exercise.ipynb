{
 "cells": [
  {
   "cell_type": "markdown",
   "id": "202afe8c",
   "metadata": {},
   "source": [
    "# Optical density exercise\n"
   ]
  },
  {
   "cell_type": "code",
   "execution_count": null,
   "id": "1104931c",
   "metadata": {},
   "outputs": [],
   "source": [
    "import numpy as np\n",
    "import matplotlib.pyplot as plt\n",
    "\n",
    "rnd = np.random.default_rng()"
   ]
  },
  {
   "cell_type": "markdown",
   "id": "3e95f31f",
   "metadata": {},
   "source": [
    "Suppose we have 10 measurements of Optical Density on a batch of HIV\n",
    "negative control samples:"
   ]
  },
  {
   "cell_type": "code",
   "execution_count": null,
   "id": "1c58627f",
   "metadata": {},
   "outputs": [],
   "source": [
    "density = np.array(\n",
    "    [.02, .026, .023, .017, .022, .019, .018, .018, .017, .022])"
   ]
  },
  {
   "cell_type": "markdown",
   "id": "7f532483",
   "metadata": {},
   "source": [
    "Derive a 95 percent confidence interval for the sample mean. Are there\n",
    "enough measurements to produce a satisfactory answer?"
   ]
  }
 ],
 "metadata": {
  "jupytext": {
   "cell_metadata_filter": "-all",
   "main_language": "python",
   "notebook_metadata_filter": "-all"
  }
 },
 "nbformat": 4,
 "nbformat_minor": 5
}
