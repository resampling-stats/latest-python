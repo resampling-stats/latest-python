{
 "cells": [
  {
   "cell_type": "markdown",
   "id": "f2e566d7",
   "metadata": {},
   "source": [
    "# Sampling tools"
   ]
  },
  {
   "cell_type": "markdown",
   "id": "d1e9bfd8",
   "metadata": {},
   "source": [
    "Find this notebook on the web at\n",
    "<a class=\"quarto-xref\" href=\"https://resampling-stats.github.io/latest-python/sampling_tools.html#nte-sampling_tools\">Note <span>7.1</span></a>.\n",
    "\n",
    "## 7.2 Samples and labels and strings\n",
    "\n",
    "Thus far we have used numbers such as 1 and 0 and 10 to represent the\n",
    "elements we are sampling from. For example, in\n",
    "<a class=\"quarto-xref\" href=\"https://resampling-stats.github.io/latest-python/resampling_with_code2.html\"><span>Chapter 6</span></a>, we were\n",
    "simulating the chance of a particular juror being black, given that 26%\n",
    "of the eligible jurors in the county were black. We used *integers* for\n",
    "that task, where we started with all the integers from 0 through 99, and\n",
    "asked NumPy to select values at random from those integers. When NumPy\n",
    "selected an integer from 0 through 25, we chose to label the resulting\n",
    "simulated juror as black — there are 26 integers in the range 0 through\n",
    "25, so there is a 26% chance that any one integer will be in that range.\n",
    "If the integer was from 26 through 99, the simulated juror was white\n",
    "(there are 74 integers in the range 26 through 99).\n",
    "\n",
    "Here is the process of simulating a single juror, adapted from\n",
    "<a class=\"quarto-xref\" href=\"https://resampling-stats.github.io/latest-python/resampling_with_code2.html#sec-random-zero-through-ninety-nine\"><span>Section 6.3.3</span></a>:"
   ]
  },
  {
   "cell_type": "code",
   "execution_count": null,
   "id": "b0c717f1",
   "metadata": {},
   "outputs": [],
   "source": [
    "import numpy as np\n",
    "# Ask Numpy for a random number generator.\n",
    "rnd = np.random.default_rng()\n",
    "\n",
    "# All the integers from 0 up to, but not including 100.\n",
    "zero_thru_99 = np.arange(100)\n",
    "\n",
    "# Get one random numbers from 0 through 99\n",
    "a = rnd.choice(zero_thru_99)\n",
    "\n",
    "# Show the result\n",
    "a"
   ]
  },
  {
   "cell_type": "markdown",
   "id": "307e440a",
   "metadata": {},
   "source": [
    "After that, we have to unpack our labeling of 0 through 25 as being\n",
    "“black” and 26 through 99 as being “white”. We might do that like this:"
   ]
  },
  {
   "cell_type": "code",
   "execution_count": null,
   "id": "75c3944f",
   "metadata": {},
   "outputs": [],
   "source": [
    "this_juror_is_black = a < 26\n",
    "this_juror_is_black"
   ]
  },
  {
   "cell_type": "markdown",
   "id": "079f98d7",
   "metadata": {},
   "source": [
    "**Note: Numpy display of single Boolean values**\n",
    "\n",
    "You saw in\n",
    " and\n",
    " that\n",
    "Numpy has a particular way of displaying single values.\n",
    "<a class=\"quarto-xref\" href=\"https://resampling-stats.github.io/latest-python/resampling_method.html#nte-numpy-int-display\">Note <span>2.3</span></a> was about\n",
    "display of *integer* (`int`) values, and\n",
    "<a class=\"quarto-xref\" href=\"https://resampling-stats.github.io/latest-python/resampling_with_code.html#nte-numpy-float-display\">Note <span>5.3</span></a> was\n",
    "about display of *floating point* (`float`) values. The display above is\n",
    "Numpy’s version of the Boolean value `False`. As you’d expect, Numpy\n",
    "shows the single value `True` as `np.True_`.\n",
    "\n",
    "**End of Note: Numpy display of single Boolean values**\n",
    "\n",
    "This all works as we want it to, but it’s just a little bit difficult to\n",
    "remember the coding (less than 26 means “black”, greater than 25 means\n",
    "“white”). We had to use that coding because we committed ourselves to\n",
    "using random numbers to simulate the outcomes.\n",
    "\n",
    "However, Python can also store bits of text, called *strings*. Values\n",
    "that are bits of text can be very useful because the text values can be\n",
    "memorable labels for the entities we are sampling from, in our\n",
    "simulations.\n",
    "\n",
    "Before we get to strings, let us consider the different types of value\n",
    "we have seen so far.\n",
    "\n",
    "## 7.3 Types of values in Python\n",
    "\n",
    "You have already come across the idea that Python values can be integers\n",
    "(positive or negative whole numbers), like this:"
   ]
  },
  {
   "cell_type": "code",
   "execution_count": null,
   "id": "469eb3de",
   "metadata": {},
   "outputs": [],
   "source": [
    "v = 10\n",
    "v"
   ]
  },
  {
   "cell_type": "markdown",
   "id": "5b10fa59",
   "metadata": {},
   "source": [
    "Here the variable `v` holds the value. We can see what type of value `v`\n",
    "holds by using the `type` function:"
   ]
  },
  {
   "cell_type": "code",
   "execution_count": null,
   "id": "debd7cf6",
   "metadata": {},
   "outputs": [],
   "source": [
    "type(v)"
   ]
  },
  {
   "cell_type": "markdown",
   "id": "3e0fbd48",
   "metadata": {},
   "source": [
    "Python can also have *floating point* values. These are values with a\n",
    "decimal point — numbers that do not have to be integers, but also can be\n",
    "any value between the integers. These floating point values are of type\n",
    "`float`:"
   ]
  },
  {
   "cell_type": "code",
   "execution_count": null,
   "id": "39cdd66d",
   "metadata": {},
   "outputs": [],
   "source": [
    "f = 10.1\n",
    "type(f)"
   ]
  },
  {
   "cell_type": "markdown",
   "id": "f9d04ee3",
   "metadata": {},
   "source": [
    "### 7.3.1 Numpy arrays\n",
    "\n",
    "You have also seen that Numpy contains another type, the *array*. An\n",
    "array is a value that contains a sequence of values. For example, here\n",
    "is an array of integers:"
   ]
  },
  {
   "cell_type": "code",
   "execution_count": null,
   "id": "879eed59",
   "metadata": {},
   "outputs": [],
   "source": [
    "arr = np.array([0, 10, 99, 4])\n",
    "arr"
   ]
  },
  {
   "cell_type": "markdown",
   "id": "eb8456d3",
   "metadata": {},
   "source": [
    "Notice that this value `arr` is of type `np.ndarray`:"
   ]
  },
  {
   "cell_type": "code",
   "execution_count": null,
   "id": "8edcd63a",
   "metadata": {},
   "outputs": [],
   "source": [
    "type(arr)"
   ]
  },
  {
   "cell_type": "markdown",
   "id": "0f35047c",
   "metadata": {},
   "source": [
    "The array has its own internal record of what type of values it holds.\n",
    "This is called the array `dtype`:"
   ]
  },
  {
   "cell_type": "code",
   "execution_count": null,
   "id": "7d5084ea",
   "metadata": {},
   "outputs": [],
   "source": [
    "arr.dtype"
   ]
  },
  {
   "cell_type": "markdown",
   "id": "5e133b7e",
   "metadata": {},
   "source": [
    "The array `dtype` records the type of value stored in the array. All\n",
    "values in the array must be of this type, and all values in the array\n",
    "are therefore of the same type.\n",
    "\n",
    "The array above contains integers, but we can also make arrays\n",
    "containing floating point values:"
   ]
  },
  {
   "cell_type": "code",
   "execution_count": null,
   "id": "edfa4377",
   "metadata": {},
   "outputs": [],
   "source": [
    "float_arr = np.array([0.1, 10.1, 99.0, 4.3])\n",
    "float_arr"
   ]
  },
  {
   "cell_type": "code",
   "execution_count": null,
   "id": "72b57026",
   "metadata": {},
   "outputs": [],
   "source": [
    "float_arr.dtype"
   ]
  },
  {
   "cell_type": "markdown",
   "id": "b3273b52",
   "metadata": {},
   "source": [
    "### 7.3.2 Lists\n",
    "\n",
    "We have elided past another Python type, the *list*. In fact we have\n",
    "already used lists in making arrays. For example, here we make an array\n",
    "with four values:"
   ]
  },
  {
   "cell_type": "code",
   "execution_count": null,
   "id": "4597f4d4",
   "metadata": {},
   "outputs": [],
   "source": [
    "np.array([0, 10, 99, 4])"
   ]
  },
  {
   "cell_type": "markdown",
   "id": "c7ac4852",
   "metadata": {},
   "source": [
    "We could also write the statement above in two steps:"
   ]
  },
  {
   "cell_type": "code",
   "execution_count": null,
   "id": "78fde51b",
   "metadata": {},
   "outputs": [],
   "source": [
    "my_list = [0, 10, 99, 4]\n",
    "np.array(my_list)"
   ]
  },
  {
   "cell_type": "markdown",
   "id": "f65e35bc",
   "metadata": {},
   "source": [
    "In the first statement — `my_list = [0, 10, 99, 4]` — we construct a\n",
    "*list* — a container for the four values. Let’s look at the `my_list`\n",
    "value:"
   ]
  },
  {
   "cell_type": "code",
   "execution_count": null,
   "id": "d923c5c9",
   "metadata": {},
   "outputs": [],
   "source": [
    "my_list"
   ]
  },
  {
   "cell_type": "markdown",
   "id": "507ee5d6",
   "metadata": {},
   "source": [
    "Notice that we do not see `array` in the display — this is not an array\n",
    "but a list:"
   ]
  },
  {
   "cell_type": "code",
   "execution_count": null,
   "id": "9c30ea63",
   "metadata": {},
   "outputs": [],
   "source": [
    "type(my_list)"
   ]
  },
  {
   "cell_type": "markdown",
   "id": "0241dc55",
   "metadata": {},
   "source": [
    "A list is a basic Python type. We can construct it by using the square\n",
    "brackets notation that you see above; we start with `[`, then we put the\n",
    "values we want to go in the list, separated by commas, followed by `]`.\n",
    "Here is another list:"
   ]
  },
  {
   "cell_type": "code",
   "execution_count": null,
   "id": "af9083c9",
   "metadata": {},
   "outputs": [],
   "source": [
    "# Creating another list.\n",
    "list_2 = [5, 10, 20]"
   ]
  },
  {
   "cell_type": "markdown",
   "id": "ff6fd870",
   "metadata": {},
   "source": [
    "As you saw, we have been building arrays by building lists, and then\n",
    "passing the list to the `np.array` function, to create an array."
   ]
  },
  {
   "cell_type": "code",
   "execution_count": null,
   "id": "03dc1e23",
   "metadata": {},
   "outputs": [],
   "source": [
    "list_again = [100, 10, 0]\n",
    "np.array(list_again)"
   ]
  },
  {
   "cell_type": "markdown",
   "id": "4bdec58c",
   "metadata": {},
   "source": [
    "Of course, we can do this one line, as we have been doing up till now,\n",
    "by constructing the list inside the parentheses of the function. So, the\n",
    "following cell has just the same output as the cell above:"
   ]
  },
  {
   "cell_type": "code",
   "execution_count": null,
   "id": "43aa59cc",
   "metadata": {},
   "outputs": [],
   "source": [
    "# Constructing the list inside the function brackets.\n",
    "np.array([100, 10, 0])"
   ]
  },
  {
   "cell_type": "markdown",
   "id": "328b7abe",
   "metadata": {},
   "source": [
    "Lists are like arrays in that they are values that contain values, but\n",
    "they are unlike arrays in various ways — that we will not go into now.\n",
    "We often use lists to construct sequences into lists to turn them into\n",
    "arrays. For our purposes, and particularly for our calculations, arrays\n",
    "are much more useful and efficient than lists.\n",
    "\n"
   ]
  },
  {
   "cell_type": "markdown",
   "id": "dec0ccde",
   "metadata": {},
   "source": [
    "## 7.4 String values\n",
    "\n",
    "So far, all the values you have seen in Python arrays have been numbers.\n",
    "Now we get on to values that are bits of text. These are called\n",
    "*strings*.\n",
    "\n",
    "Here is a single Python string value:"
   ]
  },
  {
   "cell_type": "code",
   "execution_count": null,
   "id": "dad6fb93",
   "metadata": {},
   "outputs": [],
   "source": [
    "s = \"Resampling\"\n",
    "s"
   ]
  },
  {
   "cell_type": "markdown",
   "id": "9e00d6ad",
   "metadata": {},
   "source": [
    "What is the `type` of the new bit-of-text value `s`?"
   ]
  },
  {
   "cell_type": "code",
   "execution_count": null,
   "id": "8f672f24",
   "metadata": {},
   "outputs": [],
   "source": [
    "type(s)"
   ]
  },
  {
   "cell_type": "markdown",
   "id": "b07f7e6d",
   "metadata": {},
   "source": [
    "The Python `str` value is a bit of text, and therefore consists of a\n",
    "sequence of characters.\n",
    "\n",
    "As arrays are containers for other things, such as numbers, strings are\n",
    "containers for characters.\n",
    "\n",
    "As we can find the number of elements in an array\n",
    "(<a class=\"quarto-xref\" href=\"https://resampling-stats.github.io/latest-python/resampling_with_code2.html#sec-array-length\"><span>Section 6.5</span></a>), we can find\n",
    "the number of characters in a string with the `len` function:"
   ]
  },
  {
   "cell_type": "code",
   "execution_count": null,
   "id": "fd38064a",
   "metadata": {},
   "outputs": [],
   "source": [
    "# Number of characters in s\n",
    "len(s)"
   ]
  },
  {
   "cell_type": "markdown",
   "id": "755a439d",
   "metadata": {},
   "source": [
    "As we can *index* into array values to get individual elements\n",
    "(<a class=\"quarto-xref\" href=\"https://resampling-stats.github.io/latest-python/resampling_with_code2.html#sec-array-indexing\"><span>Section 6.6</span></a>), we can\n",
    "index into string values to get individual characters:"
   ]
  },
  {
   "cell_type": "code",
   "execution_count": null,
   "id": "72761805",
   "metadata": {},
   "outputs": [],
   "source": [
    "# Get the second character of the string\n",
    "# Remember, Python's index positions start at 0.\n",
    "second_char = s[1]\n",
    "second_char"
   ]
  },
  {
   "cell_type": "markdown",
   "id": "f5588f3f",
   "metadata": {},
   "source": [
    "## 7.5 Strings in arrays\n",
    "\n",
    "As we can store numbers as elements in arrays, we can also store strings\n",
    "as array elements."
   ]
  },
  {
   "cell_type": "code",
   "execution_count": null,
   "id": "d25fab84",
   "metadata": {},
   "outputs": [],
   "source": [
    "# Just for clarity, make the list first.\n",
    "# Lists can also contain strings.\n",
    "list_of_strings = ['Julian', 'Lincoln', 'Simon']\n",
    "# Then pass the list to np.array to make the array.\n",
    "arr_of_strings = np.array(list_of_strings)\n",
    "arr_of_strings"
   ]
  },
  {
   "cell_type": "code",
   "execution_count": null,
   "id": "f59ec0ff",
   "metadata": {},
   "outputs": [],
   "source": [
    "# We can also create the list and the array in one line,\n",
    "# as we have been doing up til now.\n",
    "arr_of_strings = np.array(['Julian', 'Lincoln', 'Simon'])\n",
    "arr_of_strings"
   ]
  },
  {
   "cell_type": "markdown",
   "id": "9edaa383",
   "metadata": {},
   "source": [
    "Notice the array `dtype`:"
   ]
  },
  {
   "cell_type": "code",
   "execution_count": null,
   "id": "ec3b03b9",
   "metadata": {},
   "outputs": [],
   "source": [
    "arr_of_strings.dtype"
   ]
  },
  {
   "cell_type": "markdown",
   "id": "0287a327",
   "metadata": {},
   "source": [
    "The `U` in the `dtype` tells you that the elements in the array are\n",
    "[Unicode](https://en.wikipedia.org/wiki/Unicode) strings (Unicode is a\n",
    "computer representation of text characters). The number after the `U`\n",
    "gives the maximum number of characters for any string in the array, here\n",
    "set to the length of the longest string when we created the array.\n",
    "\n",
    "**Note: Take care with Numpy string arrays**\n",
    "\n",
    "It is easy to run into trouble with Numpy string arrays where the\n",
    "elements have a maximum length, as here. Remember, the `dtype` of the\n",
    "array tells you what type of element the array can hold. Here the\n",
    "`dtype` is telling you that the array can hold strings of maximum length\n",
    "7 characters. Now imagine trying to put a longer string into the array —\n",
    "what do you think would happen?\n",
    "\n",
    "This happens:"
   ]
  },
  {
   "cell_type": "code",
   "execution_count": null,
   "id": "e1219abc",
   "metadata": {},
   "outputs": [],
   "source": [
    "# An array of small strings.\n",
    "small_strings = np.array(['six', 'one', 'two'])\n",
    "small_strings.dtype"
   ]
  },
  {
   "cell_type": "code",
   "execution_count": null,
   "id": "126dcdda",
   "metadata": {},
   "outputs": [],
   "source": [
    "# Set a new value for the first element (first string).\n",
    "small_strings[0] = 'seven'\n",
    "small_strings"
   ]
  },
  {
   "cell_type": "markdown",
   "id": "8429f9b9",
   "metadata": {},
   "source": [
    "Numpy truncates the new string to match the original maximum length.\n",
    "\n",
    "For that reason, it is often useful to instruct Numpy that you want to\n",
    "use effectively infinite length strings, by specifying the array `dtype`\n",
    "as `object` *when you make the array*, like this:"
   ]
  },
  {
   "cell_type": "code",
   "execution_count": null,
   "id": "e15bc63f",
   "metadata": {},
   "outputs": [],
   "source": [
    "# An array of small strings, but this time, tell Numpy\n",
    "# that the strings should be of effectively infinite length.\n",
    "small_strings_better = np.array(['six', 'one', 'two'], dtype=object)\n",
    "small_strings_better"
   ]
  },
  {
   "cell_type": "markdown",
   "id": "a2938dcc",
   "metadata": {},
   "source": [
    "Notice that the code uses a *named function argument*\n",
    "(<a class=\"quarto-xref\" href=\"https://resampling-stats.github.io/latest-python/resampling_with_code.html#sec-named-arguments\"><span>Section 5.8</span></a>), to\n",
    "specify to `np.array` that the array elements should be of type\n",
    "`object`. This type can store any Python value, and so, when the array\n",
    "is storing strings, it will use Python’s own string values as elements,\n",
    "rather than the more efficient but more fragile Unicode strings that\n",
    "Numpy uses by default."
   ]
  },
  {
   "cell_type": "code",
   "execution_count": null,
   "id": "443161cf",
   "metadata": {},
   "outputs": [],
   "source": [
    "# Set a new value for the first element in the new array.\n",
    "small_strings_better[0] = 'seven'\n",
    "small_strings_better"
   ]
  },
  {
   "cell_type": "markdown",
   "id": "4847bfc2",
   "metadata": {},
   "source": [
    "**End of Note: Take care with Numpy string arrays**\n",
    "\n"
   ]
  },
  {
   "cell_type": "markdown",
   "id": "7aaf6cf9",
   "metadata": {},
   "source": [
    "As for any array, you can select elements with *indexing*. When you\n",
    "select an element with a given position (index), you get the *string* at\n",
    "at that position:"
   ]
  },
  {
   "cell_type": "code",
   "execution_count": null,
   "id": "f58a4c9b",
   "metadata": {},
   "outputs": [],
   "source": [
    "# Julian Lincoln Simon's second name.\n",
    "# (Remember, Python's positions start at 0).\n",
    "middle_name = arr_of_strings[1]\n",
    "middle_name"
   ]
  },
  {
   "cell_type": "markdown",
   "id": "680f6925",
   "metadata": {},
   "source": [
    "**Note: Numpy display of single string-type values**\n",
    "\n",
    "`np.str_` in the output shows us that the result was a Numpy single\n",
    "value of *string* (`str_`) type.\n",
    "\n",
    "**End of Note: Numpy display of single string-type values**\n",
    "\n",
    "Notice the output from this cell:\n",
    "\n",
    "As for numbers, we can compare strings with, for example, the `==`\n",
    "operator, that asks whether the two strings are equal:"
   ]
  },
  {
   "cell_type": "code",
   "execution_count": null,
   "id": "2fdfe610",
   "metadata": {},
   "outputs": [],
   "source": [
    "middle_name == 'Lincoln'"
   ]
  },
  {
   "cell_type": "markdown",
   "id": "c7b56802",
   "metadata": {},
   "source": [
    "## 7.6 Repeating elements\n",
    "\n",
    "Now let us go back to the problem of selecting black and white jurors.\n",
    "\n",
    "We started with the strategy of using numbers 0 through 25 to mean\n",
    "“black” jurors, and 26 through 99 to mean “white” jurors. We selected\n",
    "values at random from 0 through 99, and then worked out whether the\n",
    "number meant a “black” juror (was less than 26) or a “white” juror (was\n",
    "greater than 25).\n",
    "\n",
    "It would be good to use strings instead of numbers to identify the\n",
    "potential jurors. Then we would not have to remember our coding of 0\n",
    "through 25 and 26 through 99.\n",
    "\n",
    "If only there was a way to make an array of 100 strings, where 26 of the\n",
    "strings were “black” and 74 were “white”. Then we could select randomly\n",
    "from that array, and it would be immediately obvious that we had a\n",
    "“black” or “white” juror.\n",
    "\n",
    "Luckily we can do that, by using the `np.repeat` function to construct\n",
    "the array.\n",
    "\n",
    "**Note: np.repeat**\n",
    "\n",
    "`np.repeat` is a useful Numpy function that makes a new output array by\n",
    "repeating elements from the input arrays.\n",
    "\n",
    "More specifically, `np.repeat` accepts two arguments (inputs), and sends\n",
    "back an array as output. The first input is an array or list or some\n",
    "other sequence for which you want to repeat elements. The second input\n",
    "tells `np.repeat` how many repeats to do, for each element.\n",
    "\n",
    "This is most easy to see by examples.\n",
    "\n",
    "Here we repeat all three elements in the first sequence (in this case a\n",
    "list) by a count (number) given in the second argument."
   ]
  },
  {
   "cell_type": "code",
   "execution_count": null,
   "id": "8b41f027",
   "metadata": {},
   "outputs": [],
   "source": [
    "# Repeat each element in the first list (or array) 4 times.\n",
    "to_repeat = [1, 2, 3]  # First input argument.\n",
    "n_repeats = 4  # Second input argument.\n",
    "np.repeat(to_repeat, n_repeats)"
   ]
  },
  {
   "cell_type": "markdown",
   "id": "9c9cb1e0",
   "metadata": {},
   "source": [
    "Of course we could also write this without the variables:"
   ]
  },
  {
   "cell_type": "code",
   "execution_count": null,
   "id": "78990753",
   "metadata": {},
   "outputs": [],
   "source": [
    "# Repeat each element in the first list (or array) 4 times.\n",
    "np.repeat([1, 2, 3], 4)"
   ]
  },
  {
   "cell_type": "markdown",
   "id": "76982c88",
   "metadata": {},
   "source": [
    "The second argument (number of repeats) can also be a sequence, such as\n",
    "an array or list, with one element for each element of the first array.\n",
    "In that case, it gives the number of repeats for each element. We will\n",
    "use string elements for this example."
   ]
  },
  {
   "cell_type": "code",
   "execution_count": null,
   "id": "d16bdc2e",
   "metadata": {},
   "outputs": [],
   "source": [
    "# Repeat the first element 3 times, the second 2 times, and the third 4 times.\n",
    "# Second input is number of repeats for each element of the first argument.\n",
    "np.repeat(['one', 'two', 'three'], [3, 2, 4])"
   ]
  },
  {
   "cell_type": "markdown",
   "id": "02e98209",
   "metadata": {},
   "source": [
    "**End of Note: np.repeat**\n",
    "\n",
    "Here we use `np.repeat` to make up our simulated jury pool."
   ]
  },
  {
   "cell_type": "code",
   "execution_count": null,
   "id": "e1a86d97",
   "metadata": {},
   "outputs": [],
   "source": [
    "# The values that we will repeat to fill up the larger array.\n",
    "# Use a list to store the sequence of values.\n",
    "juror_types = ['black', 'white']\n",
    "# The number of times we want to repeat \"black\" and \"white\".\n",
    "# Use a list to store the sequence of values.\n",
    "repeat_nos = [26, 74]\n",
    "# Repeat \"black\" 26 times and \"white\" 74 times.\n",
    "# We have passed two lists here, but we could also have passed\n",
    "# arrays - the Numpy repeat function converts the lists to arrays\n",
    "# before it builds the repeats.\n",
    "jury_pool = np.repeat(juror_types, repeat_nos)\n",
    "# Show the result\n",
    "jury_pool"
   ]
  },
  {
   "cell_type": "markdown",
   "id": "4339a802",
   "metadata": {},
   "source": [
    "We can use this array of repeats of strings, to sample from. The result\n",
    "is easier to grasp, because we are using the string labels, instead of\n",
    "numbers:"
   ]
  },
  {
   "cell_type": "code",
   "execution_count": null,
   "id": "2a2e28c0",
   "metadata": {},
   "outputs": [],
   "source": [
    "# Select one juror at random from the black / white pool.\n",
    "one_juror = rnd.choice(jury_pool)\n",
    "one_juror"
   ]
  },
  {
   "cell_type": "markdown",
   "id": "063cc855",
   "metadata": {},
   "source": [
    "We can select our full jury of 12 jurors, and see the results in a more\n",
    "obvious form:"
   ]
  },
  {
   "cell_type": "code",
   "execution_count": null,
   "id": "9f7cd674",
   "metadata": {},
   "outputs": [],
   "source": [
    "# Select 12 jurors at random from the black / white pool.\n",
    "one_jury = rnd.choice(jury_pool, 12)\n",
    "one_jury"
   ]
  },
  {
   "cell_type": "markdown",
   "id": "23142205",
   "metadata": {},
   "source": [
    "**Note: Using the size argument to rnd.choice**\n",
    "\n",
    "In the code above, we have specified the *size* of the sample we want\n",
    "(12) with the second argument to `rnd.choice`. As you saw in\n",
    "<a class=\"quarto-xref\" href=\"https://resampling-stats.github.io/latest-python/resampling_with_code.html#sec-named-arguments\"><span>Section 5.8</span></a>, we can\n",
    "also give names to the function arguments, in this case, to make it\n",
    "clearer what we mean by “12” in the code above. In fact, from now on,\n",
    "that is what we will do; we will specify the *size* of our sample by\n",
    "using the *name* for the function argument to `rnd.choice` — `size` —\n",
    "like this:"
   ]
  },
  {
   "cell_type": "code",
   "execution_count": null,
   "id": "89a274ed",
   "metadata": {},
   "outputs": [],
   "source": [
    "# Select 12 jurors at random from the black / white pool.\n",
    "# Specify the sample size using the \"size\" named argument.\n",
    "one_jury = rnd.choice(jury_pool, size=12)\n",
    "one_jury"
   ]
  },
  {
   "cell_type": "markdown",
   "id": "4f6d0eff",
   "metadata": {},
   "source": [
    "**End of Note: Using the size argument to rnd.choice**\n",
    "\n",
    "We can use `==` on the array to get `True` values where the juror was\n",
    "“black” and `False` values otherwise:"
   ]
  },
  {
   "cell_type": "code",
   "execution_count": null,
   "id": "dab4a959",
   "metadata": {},
   "outputs": [],
   "source": [
    "are_black = one_jury == 'black'\n",
    "are_black"
   ]
  },
  {
   "cell_type": "markdown",
   "id": "64cfafe6",
   "metadata": {},
   "source": [
    "Finally, we can `np.sum` to find the number of black jurors\n",
    "(<a class=\"quarto-xref\" href=\"https://resampling-stats.github.io/latest-python/resampling_with_code.html#sec-count-with-sum\"><span>Section 5.15</span></a>):"
   ]
  },
  {
   "cell_type": "code",
   "execution_count": null,
   "id": "c37a7c81",
   "metadata": {},
   "outputs": [],
   "source": [
    "# Number of black jurors in this simulated jury.\n",
    "n_black = np.sum(are_black)\n",
    "n_black"
   ]
  },
  {
   "cell_type": "markdown",
   "id": "6d7f443c",
   "metadata": {},
   "source": [
    "Putting that all together, this is our new procedure to select one jury\n",
    "and count the number of black jurors:"
   ]
  },
  {
   "cell_type": "code",
   "execution_count": null,
   "id": "6731f42b",
   "metadata": {},
   "outputs": [],
   "source": [
    "one_jury = rnd.choice(jury_pool, size=12)\n",
    "are_black = one_jury == 'black'\n",
    "n_black = np.sum(are_black)\n",
    "n_black"
   ]
  },
  {
   "cell_type": "markdown",
   "id": "4273979e",
   "metadata": {},
   "source": [
    "Or we can be even more compact by putting several statements together\n",
    "into one line:"
   ]
  },
  {
   "cell_type": "code",
   "execution_count": null,
   "id": "d0a000d7",
   "metadata": {},
   "outputs": [],
   "source": [
    "# The same as above, but on one line.\n",
    "n_black = np.sum(rnd.choice(jury_pool, size=12) == 'black')\n",
    "n_black"
   ]
  },
  {
   "cell_type": "markdown",
   "id": "9c04bad6",
   "metadata": {},
   "source": [
    "## 7.7 Resampling with and without replacement\n",
    "\n",
    "Now let us return to the details of Robert Swain’s case, that you first\n",
    "saw in .\n",
    "\n",
    "We looked at the composition of Robert Swain’s 12-person jury — but in\n",
    "fact, by law, that does not have to be representative of the eligible\n",
    "jurors. The 12-person jury is drawn from a jury *panel*, of 100 people,\n",
    "and this should, in turn, be drawn from the population of all eligible\n",
    "jurors in the county, consisting, at the time, of “all male citizens in\n",
    "the community over 21 who are reputed to be honest, intelligent men and\n",
    "are esteemed for their integrity, good character and sound judgment.”\n",
    "So, unless there was some bias against black jurors, we might expect the\n",
    "100-person jury panel to be a plausibly random sample of the eligible\n",
    "jurors, of whom 26% were black. See [the Supreme Court case\n",
    "judgement](https://supreme.justia.com/cases/federal/us/380/202) for\n",
    "details.\n",
    "\n",
    "In fact, in Robert Swain’s trial, there were 8 black members in the\n",
    "100-person jury panel. We will leave it to you to adapt the simulation\n",
    "from <a class=\"quarto-xref\" href=\"https://resampling-stats.github.io/latest-python/resampling_with_code2.html\"><span>Chapter 6</span></a> to ask the\n",
    "question — is 8% surprising as a random sample from a population with\n",
    "26% black people?\n",
    "\n",
    "But we have a different question: given that 8 out of 100 of the jury\n",
    "panel were black, is it surprising that none of the 12-person jury were\n",
    "black? As usual, we can answer that question with simulation.\n",
    "\n",
    "Let’s think about what a single simulated jury selection would look\n",
    "like.\n",
    "\n",
    "First we compile a representation of the actual jury panel, using the\n",
    "tools we have used above."
   ]
  },
  {
   "cell_type": "code",
   "execution_count": null,
   "id": "261d6d24",
   "metadata": {},
   "outputs": [],
   "source": [
    "juror_types = ['black', 'white']\n",
    "# in fact there were 8 black jurors and 92 white jurors.\n",
    "panel_nos = [8, 92]\n",
    "jury_panel = np.repeat(juror_types, panel_nos)\n",
    "# Show the result\n",
    "jury_panel"
   ]
  },
  {
   "cell_type": "markdown",
   "id": "8836f396",
   "metadata": {},
   "source": [
    "Now consider taking a 12-person jury at random from this panel. We\n",
    "select the first juror at random, so that juror has an 8 out of 100\n",
    "chance of being black. But when we select the second jury member, the\n",
    "situation has changed slightly. We can’t select the first juror again,\n",
    "so our panel is now 99 people. If our first juror was black, then the\n",
    "chances of selecting another black juror next are not 8 out of 100, but\n",
    "7 out of 99 — a smaller chance. The problem is, as we shall see in more\n",
    "detail later, the chances of getting a black juror as the second, and\n",
    "third and fourth members of the jury depend on whether we selected a\n",
    "black juror as the first and second and third jury members. At its most\n",
    "extreme, imagine we had already selected eight jurors, and by some\n",
    "strange chance, all eight were black. Now our chances of selecting a\n",
    "black juror as the ninth juror are zero — there are no black jurors left\n",
    "to select from the panel.\n",
    "\n",
    "In this case we are selecting jurors from the panel *without\n",
    "replacement*, meaning, that once we have selected a particular juror, we\n",
    "cannot select them again, and we do not put them back into the panel\n",
    "when we select our next juror.\n",
    "\n",
    "This is the probability equivalent of the situation when you are dealing\n",
    "a hand of cards. Let’s say someone is dealing you, and you only, a hand\n",
    "of five cards. You get an ace as your first card. Your chances of\n",
    "getting an ace as your first card were just the number of aces in the\n",
    "deck divided by the number of cards — four in 52 – $\\frac{4}{52}$. But\n",
    "for your second card, the probability has changed, because there is one\n",
    "less ace remaining in the pack, and one less card, so your chances of\n",
    "getting an ace as your second card are now $\\frac{3}{51}$. This is\n",
    "sampling without replacement — in a normal game, you can’t get the same\n",
    "card twice. Of course, you could imagine getting a hand where you\n",
    "sampled *with replacement*. In that case, you’d get a card, you’d write\n",
    "down what it was, and you’d give the card back to the dealer, who would\n",
    "*replace* the card in the deck, shuffle again, and give you another\n",
    "card.\n",
    "\n",
    "As you can see, the chances change if you are sampling with or without\n",
    "replacement, and the kind of sampling you do, will dictate how you model\n",
    "your chances in your simulations.\n",
    "\n",
    "Because this distinction is so common, and so important, the machinery\n",
    "you have already seen in `rnd.choice` has simple ways for you to select\n",
    "your sampling type. You have already seen sampling *with replacement*,\n",
    "and it looks like this:"
   ]
  },
  {
   "cell_type": "code",
   "execution_count": null,
   "id": "ab596fb8",
   "metadata": {},
   "outputs": [],
   "source": [
    "# Take a sample of 12 jurors from the panel *with replacement*\n",
    "# With replacement is the default for `rnd.choice`.\n",
    "strange_jury = rnd.choice(jury_panel, size=12)\n",
    "strange_jury"
   ]
  },
  {
   "cell_type": "markdown",
   "id": "e066900c",
   "metadata": {},
   "source": [
    "This is a strange jury, because it can select any member of the jury\n",
    "pool more than once. Perhaps that juror would have to fill two (or\n",
    "more!) seats, or run quickly between them. But of course, that is not\n",
    "how juries are selected. They are selected *without replacement*:"
   ]
  },
  {
   "cell_type": "code",
   "execution_count": null,
   "id": "64f2c319",
   "metadata": {},
   "outputs": [],
   "source": [
    "# Take a sample of 12 jurors from the panel *without replacement*\n",
    "ok_jury = rnd.choice(jury_panel, 12, replace=False)\n",
    "ok_jury"
   ]
  },
  {
   "cell_type": "markdown",
   "id": "53436f2b",
   "metadata": {},
   "source": [
    "**Note: Comments at the end of lines**\n",
    "\n",
    "You have already seen comment lines. These are lines beginning with `#`,\n",
    "to signal to Python that the rest of the line is text for humans to\n",
    "read, but Python to ignore."
   ]
  },
  {
   "cell_type": "code",
   "execution_count": null,
   "id": "a06fd323",
   "metadata": {},
   "outputs": [],
   "source": [
    "# This is a comment.  Python ignores this line."
   ]
  },
  {
   "cell_type": "markdown",
   "id": "1dabf925",
   "metadata": {},
   "source": [
    "You can also put comments at the *end of code lines*, by finishing the\n",
    "code part of the line, and then putting a `#`, followed by more text.\n",
    "Again, Python will ignore everything after the `#` as a text for humans,\n",
    "but not for Python."
   ]
  },
  {
   "cell_type": "code",
   "execution_count": null,
   "id": "5de35293",
   "metadata": {},
   "outputs": [],
   "source": [
    "print('Hello')  # This is a comment at the end of the line."
   ]
  },
  {
   "cell_type": "markdown",
   "id": "9a9fb32d",
   "metadata": {},
   "source": [
    "**End of Note: Comments at the end of lines**\n",
    "\n",
    "To finish the procedure for simulating a single jury selection, we count\n",
    "the number of black jurors:"
   ]
  },
  {
   "cell_type": "code",
   "execution_count": null,
   "id": "6d096ea6",
   "metadata": {},
   "outputs": [],
   "source": [
    "n_black = np.sum(ok_jury == 'black')  # How many black jurors?\n",
    "n_black"
   ]
  },
  {
   "cell_type": "markdown",
   "id": "22acfa2b",
   "metadata": {},
   "source": [
    "Now we have the procedure for one simulated trial, here is the procedure\n",
    "for 10000 simulated trials."
   ]
  },
  {
   "cell_type": "code",
   "execution_count": null,
   "id": "8374f9dd",
   "metadata": {},
   "outputs": [],
   "source": [
    "counts = np.zeros(10000)\n",
    "for i in np.arange(10000):\n",
    "    # Single trial procedure\n",
    "    jury = rnd.choice(jury_panel, size=12, replace=False)\n",
    "    n_black = np.sum(jury == 'black')  # How many black jurors?\n",
    "    # Store the result\n",
    "    counts[i] = n_black\n",
    "\n",
    "# Number of juries with 0 black jurors.\n",
    "zero_black = np.sum(counts == 0)\n",
    "# Proportion\n",
    "p_zero_black = zero_black / 10000\n",
    "print(p_zero_black)"
   ]
  },
  {
   "cell_type": "markdown",
   "id": "2de0c5f8",
   "metadata": {},
   "source": [
    "We have found that, when there are only 8% black jurors in the jury\n",
    "panel, having no black jurors in the final jury happens about 34% of the\n",
    "time, even in this case, where the jury is selected completely at random\n",
    "from the jury panel.\n",
    "\n",
    "We should look for the main source of bias in the initial selection of\n",
    "the jury panel, not in the selection of the jury from the panel.\n"
   ]
  },
  {
   "cell_type": "markdown",
   "id": "1f97d179",
   "metadata": {},
   "source": [
    "**Note: With or without replacement for the original jury selection**\n",
    "\n",
    "You may have noticed in\n",
    "<a class=\"quarto-xref\" href=\"https://resampling-stats.github.io/latest-python/resampling_with_code2.html\"><span>Chapter 6</span></a> that we were\n",
    "sampling Robert Swain’s jury from the eligible pool of jurors, *with\n",
    "replacement*. You might reasonably ask whether we should have selected\n",
    "from the eligible jurors *without replacement*, given that the same\n",
    "juror cannot serve more than once in the same jury, and therefore, the\n",
    "same argument applies there as here.\n",
    "\n",
    "The trick there was that we were selecting from a very large pool of\n",
    "many thousand eligible jurors, of whom 26% were black. Let’s say there\n",
    "were 10,000 eligible jurors, of whom 2,600 were black. When selecting\n",
    "the first juror, there is exactly a 2,600 in 10,000 chance of getting a\n",
    "black juror — 26%. If we do get a black juror first, then the chance\n",
    "that the second juror will be black has changed slightly, 2,599 in\n",
    "9,999. But these changes are very small; even if we select eleven black\n",
    "jurors out of eleven, when we come to the twelfth juror, we still have a\n",
    "2,589 out of 9,989 chance of getting another black juror, and that works\n",
    "out at a 25.92% chance — hardly changed from the original 26%. So yes,\n",
    "you’d be right, we really should have compiled our population of 2,600\n",
    "black jurors and 7,400 white jurors, and then sampled without\n",
    "replacement from that population, but as the resulting sample\n",
    "probabilities will be very similar to the simpler sampling with\n",
    "replacement, we chose to try and slide that one quietly past you, in the\n",
    "hope you would forgive us when you realized.\n",
    "\n",
    "**End of Note: With or without replacement for the original jury\n",
    "selection**\n",
    "\n",
    "## 7.8 Conclusion\n",
    "\n",
    "This chapter introduced you to the idea of strings — values in Python\n",
    "that store bits of text. Strings are very useful as labels for the\n",
    "entities we are sampling from, when we do our simulations. Strings are\n",
    "particularly useful when we use them with arrays, and one way we often\n",
    "do that is to build up arrays of strings to sample from, using the\n",
    "`np.repeat` function.\n",
    "\n",
    "There is a fundamental distinction between two different types of\n",
    "sampling — sampling *with replacement*, where we draw an element from a\n",
    "larger pool, then put that element back before drawing again, and\n",
    "sampling *without replacement*, where we remove the element from the\n",
    "remaining pool when we draw it into the sample. As we will see later, it\n",
    "is often a judgment call which of these two types of sampling is a more\n",
    "reasonable model of the world you are trying to simulate.\n",
    "\n",
    "<div class=\"hidden\" id=\"quarto-navigation-envelope\">\n",
    "<span class=\"hidden quarto-markdown-envelope-contents\" render-id=\"quarto-int-sidebar-title\">Resampling statistics</span>\n",
    "<span class=\"hidden quarto-markdown-envelope-contents\" render-id=\"quarto-int-navbar-title\">Resampling statistics</span>\n",
    "<span class=\"hidden quarto-markdown-envelope-contents\" render-id=\"quarto-int-next\"><span class=\"chapter-number\">8</span> \n",
    "<span class=\"chapter-title\">Probability Theory, Part 1</span></span>\n",
    "<span class=\"hidden quarto-markdown-envelope-contents\" render-id=\"quarto-int-prev\"><span class=\"chapter-number\">6</span> \n",
    "<span class=\"chapter-title\">More resampling with code</span></span>\n",
    "<span class=\"hidden quarto-markdown-envelope-contents\" render-id=\"quarto-int-sidebar:/index.html{{&lt;-var-lang-&gt;}}-version\">Python\n",
    "version</span> <span class=\"hidden quarto-markdown-envelope-contents\" render-id=\"quarto-int-sidebar:/preface_third.htmlPreface-to-the-third-edition\">Preface\n",
    "to the third edition</span>\n",
    "<span class=\"hidden quarto-markdown-envelope-contents\" render-id=\"quarto-int-sidebar:/preface_second.htmlPreface-to-the-second-edition\">Preface\n",
    "to the second edition</span>\n",
    "<span class=\"hidden quarto-markdown-envelope-contents\" render-id=\"quarto-int-sidebar:/intro.html&lt;span-class='chapter-number'&gt;1&lt;/span&gt;--&lt;span-class='chapter-title'&gt;Introduction&lt;/span&gt;\"><span class=\"chapter-number\">1</span> \n",
    "<span class=\"chapter-title\">Introduction</span></span>\n",
    "<span class=\"hidden quarto-markdown-envelope-contents\" render-id=\"quarto-int-sidebar:/resampling_method.html&lt;span-class='chapter-number'&gt;2&lt;/span&gt;--&lt;span-class='chapter-title'&gt;The-resampling-method&lt;/span&gt;\"><span class=\"chapter-number\">2</span> \n",
    "<span class=\"chapter-title\">The resampling method</span></span>\n",
    "<span class=\"hidden quarto-markdown-envelope-contents\" render-id=\"quarto-int-sidebar:/what_is_probability.html&lt;span-class='chapter-number'&gt;3&lt;/span&gt;--&lt;span-class='chapter-title'&gt;What-is-probability?&lt;/span&gt;\"><span class=\"chapter-number\">3</span> \n",
    "<span class=\"chapter-title\">What is probability?</span></span>\n",
    "<span class=\"hidden quarto-markdown-envelope-contents\" render-id=\"quarto-int-sidebar:/about_technology.html&lt;span-class='chapter-number'&gt;4&lt;/span&gt;--&lt;span-class='chapter-title'&gt;Introducing-{{&lt;-var-lang-&gt;}}-and-the-Jupyter-notebook&lt;/span&gt;\"><span class=\"chapter-number\">4</span> \n",
    "<span class=\"chapter-title\">Introducing Python and the Jupyter\n",
    "notebook</span></span>\n",
    "<span class=\"hidden quarto-markdown-envelope-contents\" render-id=\"quarto-int-sidebar:/resampling_with_code.html&lt;span-class='chapter-number'&gt;5&lt;/span&gt;--&lt;span-class='chapter-title'&gt;Resampling-with-code&lt;/span&gt;\"><span class=\"chapter-number\">5</span> \n",
    "<span class=\"chapter-title\">Resampling with code</span></span>\n",
    "<span class=\"hidden quarto-markdown-envelope-contents\" render-id=\"quarto-int-sidebar:/resampling_with_code2.html&lt;span-class='chapter-number'&gt;6&lt;/span&gt;--&lt;span-class='chapter-title'&gt;More-resampling-with-code&lt;/span&gt;\"><span class=\"chapter-number\">6</span> \n",
    "<span class=\"chapter-title\">More resampling with code</span></span>\n",
    "<span class=\"hidden quarto-markdown-envelope-contents\" render-id=\"quarto-int-sidebar:/sampling_tools.html&lt;span-class='chapter-number'&gt;7&lt;/span&gt;--&lt;span-class='chapter-title'&gt;Tools-for-samples-and-sampling&lt;/span&gt;\"><span class=\"chapter-number\">7</span> \n",
    "<span class=\"chapter-title\">Tools for samples and sampling</span></span>\n",
    "<span class=\"hidden quarto-markdown-envelope-contents\" render-id=\"quarto-int-sidebar:/probability_theory_1a.html&lt;span-class='chapter-number'&gt;8&lt;/span&gt;--&lt;span-class='chapter-title'&gt;Probability-Theory,-Part-1&lt;/span&gt;\"><span class=\"chapter-number\">8</span> \n",
    "<span class=\"chapter-title\">Probability Theory, Part 1</span></span>\n",
    "<span class=\"hidden quarto-markdown-envelope-contents\" render-id=\"quarto-int-sidebar:/probability_theory_1b.html&lt;span-class='chapter-number'&gt;9&lt;/span&gt;--&lt;span-class='chapter-title'&gt;Probability-Theory-Part-1-(continued)&lt;/span&gt;\"><span class=\"chapter-number\">9</span> \n",
    "<span class=\"chapter-title\">Probability Theory Part 1\n",
    "(continued)</span></span>\n",
    "<span class=\"hidden quarto-markdown-envelope-contents\" render-id=\"quarto-int-sidebar:/more_sampling_tools.html&lt;span-class='chapter-number'&gt;10&lt;/span&gt;--&lt;span-class='chapter-title'&gt;Two-puzzles-and-more-tools&lt;/span&gt;\"><span class=\"chapter-number\">10</span> \n",
    "<span class=\"chapter-title\">Two puzzles and more tools</span></span>\n",
    "<span class=\"hidden quarto-markdown-envelope-contents\" render-id=\"quarto-int-sidebar:/probability_theory_2_compound.html&lt;span-class='chapter-number'&gt;11&lt;/span&gt;--&lt;span-class='chapter-title'&gt;Probability-Theory,-Part-2:-Compound-Probability&lt;/span&gt;\"><span class=\"chapter-number\">11</span> \n",
    "<span class=\"chapter-title\">Probability Theory, Part 2: Compound\n",
    "Probability</span></span>\n",
    "<span class=\"hidden quarto-markdown-envelope-contents\" render-id=\"quarto-int-sidebar:/probability_theory_3.html&lt;span-class='chapter-number'&gt;12&lt;/span&gt;--&lt;span-class='chapter-title'&gt;Probability-Theory,-Part-3&lt;/span&gt;\"><span class=\"chapter-number\">12</span> \n",
    "<span class=\"chapter-title\">Probability Theory, Part 3</span></span>\n",
    "<span class=\"hidden quarto-markdown-envelope-contents\" render-id=\"quarto-int-sidebar:/probability_theory_4_finite.html&lt;span-class='chapter-number'&gt;13&lt;/span&gt;--&lt;span-class='chapter-title'&gt;Probability-Theory,-Part-4:-Estimating-Probabilities-from-Finite-Universes&lt;/span&gt;\"><span class=\"chapter-number\">13</span> \n",
    "<span class=\"chapter-title\">Probability Theory, Part 4: Estimating\n",
    "Probabilities from Finite Universes</span></span>\n",
    "<span class=\"hidden quarto-markdown-envelope-contents\" render-id=\"quarto-int-sidebar:/sampling_variability.html&lt;span-class='chapter-number'&gt;14&lt;/span&gt;--&lt;span-class='chapter-title'&gt;On-Variability-in-Sampling&lt;/span&gt;\"><span class=\"chapter-number\">14</span> \n",
    "<span class=\"chapter-title\">On Variability in Sampling</span></span>\n",
    "<span class=\"hidden quarto-markdown-envelope-contents\" render-id=\"quarto-int-sidebar:/monte_carlo.html&lt;span-class='chapter-number'&gt;15&lt;/span&gt;--&lt;span-class='chapter-title'&gt;The-Procedures-of-Monte-Carlo-Simulation-(and-Resampling)&lt;/span&gt;\"><span class=\"chapter-number\">15</span> \n",
    "<span class=\"chapter-title\">The Procedures of Monte Carlo Simulation\n",
    "(and Resampling)</span></span>\n",
    "<span class=\"hidden quarto-markdown-envelope-contents\" render-id=\"quarto-int-sidebar:/standard_scores.html&lt;span-class='chapter-number'&gt;16&lt;/span&gt;--&lt;span-class='chapter-title'&gt;Ranks,-Quantiles-and-Standard-Scores&lt;/span&gt;\"><span class=\"chapter-number\">16</span> \n",
    "<span class=\"chapter-title\">Ranks, Quantiles and Standard\n",
    "Scores</span></span>\n",
    "<span class=\"hidden quarto-markdown-envelope-contents\" render-id=\"quarto-int-sidebar:/inference_ideas.html&lt;span-class='chapter-number'&gt;17&lt;/span&gt;--&lt;span-class='chapter-title'&gt;The-Basic-Ideas-in-Statistical-Inference&lt;/span&gt;\"><span class=\"chapter-number\">17</span> \n",
    "<span class=\"chapter-title\">The Basic Ideas in Statistical\n",
    "Inference</span></span>\n",
    "<span class=\"hidden quarto-markdown-envelope-contents\" render-id=\"quarto-int-sidebar:/inference_intro.html&lt;span-class='chapter-number'&gt;18&lt;/span&gt;--&lt;span-class='chapter-title'&gt;Introduction-to-Statistical-Inference&lt;/span&gt;\"><span class=\"chapter-number\">18</span> \n",
    "<span class=\"chapter-title\">Introduction to Statistical\n",
    "Inference</span></span>\n",
    "<span class=\"hidden quarto-markdown-envelope-contents\" render-id=\"quarto-int-sidebar:/point_estimation.html&lt;span-class='chapter-number'&gt;19&lt;/span&gt;--&lt;span-class='chapter-title'&gt;Point-Estimation&lt;/span&gt;\"><span class=\"chapter-number\">19</span> \n",
    "<span class=\"chapter-title\">Point Estimation</span></span>\n",
    "<span class=\"hidden quarto-markdown-envelope-contents\" render-id=\"quarto-int-sidebar:/framing_questions.html&lt;span-class='chapter-number'&gt;20&lt;/span&gt;--&lt;span-class='chapter-title'&gt;Framing-Statistical-Questions&lt;/span&gt;\"><span class=\"chapter-number\">20</span> \n",
    "<span class=\"chapter-title\">Framing Statistical Questions</span></span>\n",
    "<span class=\"hidden quarto-markdown-envelope-contents\" render-id=\"quarto-int-sidebar:/testing_counts_1.html&lt;span-class='chapter-number'&gt;21&lt;/span&gt;--&lt;span-class='chapter-title'&gt;Hypothesis-Testing-with-Counted-Data,-Part-1&lt;/span&gt;\"><span class=\"chapter-number\">21</span> \n",
    "<span class=\"chapter-title\">Hypothesis-Testing with Counted Data, Part\n",
    "1</span></span> <span class=\"hidden quarto-markdown-envelope-contents\" render-id=\"quarto-int-sidebar:/significance.html&lt;span-class='chapter-number'&gt;22&lt;/span&gt;--&lt;span-class='chapter-title'&gt;The-Concept-of-Statistical-Significance-in-Testing-Hypotheses&lt;/span&gt;\"><span class=\"chapter-number\">22</span> \n",
    "<span class=\"chapter-title\">The Concept of Statistical Significance in\n",
    "Testing Hypotheses</span></span>\n",
    "<span class=\"hidden quarto-markdown-envelope-contents\" render-id=\"quarto-int-sidebar:/testing_counts_2.html&lt;span-class='chapter-number'&gt;23&lt;/span&gt;--&lt;span-class='chapter-title'&gt;The-Statistics-of-Hypothesis-Testing-with-Counted-Data,-Part-2&lt;/span&gt;\"><span class=\"chapter-number\">23</span> \n",
    "<span class=\"chapter-title\">The Statistics of Hypothesis-Testing with\n",
    "Counted Data, Part 2</span></span>\n",
    "<span class=\"hidden quarto-markdown-envelope-contents\" render-id=\"quarto-int-sidebar:/testing_measured.html&lt;span-class='chapter-number'&gt;24&lt;/span&gt;--&lt;span-class='chapter-title'&gt;The-Statistics-of-Hypothesis-Testing-With-Measured-Data&lt;/span&gt;\"><span class=\"chapter-number\">24</span> \n",
    "<span class=\"chapter-title\">The Statistics of Hypothesis-Testing With\n",
    "Measured Data</span></span>\n",
    "<span class=\"hidden quarto-markdown-envelope-contents\" render-id=\"quarto-int-sidebar:/testing_procedures.html&lt;span-class='chapter-number'&gt;25&lt;/span&gt;--&lt;span-class='chapter-title'&gt;General-Procedures-for-Testing-Hypotheses&lt;/span&gt;\"><span class=\"chapter-number\">25</span> \n",
    "<span class=\"chapter-title\">General Procedures for Testing\n",
    "Hypotheses</span></span>\n",
    "<span class=\"hidden quarto-markdown-envelope-contents\" render-id=\"quarto-int-sidebar:/confidence_1.html&lt;span-class='chapter-number'&gt;26&lt;/span&gt;--&lt;span-class='chapter-title'&gt;Confidence-Intervals,-Part-1:-Assessing-the-Accuracy-of-Samples&lt;/span&gt;\"><span class=\"chapter-number\">26</span> \n",
    "<span class=\"chapter-title\">Confidence Intervals, Part 1: Assessing the\n",
    "Accuracy of Samples</span></span>\n",
    "<span class=\"hidden quarto-markdown-envelope-contents\" render-id=\"quarto-int-sidebar:/confidence_2.html&lt;span-class='chapter-number'&gt;27&lt;/span&gt;--&lt;span-class='chapter-title'&gt;Confidence-Intervals,-Part-2:-The-Two-Approaches-to-Estimating-Confidence-Intervals&lt;/span&gt;\"><span class=\"chapter-number\">27</span> \n",
    "<span class=\"chapter-title\">Confidence Intervals, Part 2: The Two\n",
    "Approaches to Estimating Confidence Intervals</span></span>\n",
    "<span class=\"hidden quarto-markdown-envelope-contents\" render-id=\"quarto-int-sidebar:/reliability_average.html&lt;span-class='chapter-number'&gt;28&lt;/span&gt;--&lt;span-class='chapter-title'&gt;Some-Last-Words-About-the-Reliability-of-Sample-Averages&lt;/span&gt;\"><span class=\"chapter-number\">28</span> \n",
    "<span class=\"chapter-title\">Some Last Words About the Reliability of\n",
    "Sample Averages</span></span>\n",
    "<span class=\"hidden quarto-markdown-envelope-contents\" render-id=\"quarto-int-sidebar:/correlation_causation.html&lt;span-class='chapter-number'&gt;29&lt;/span&gt;--&lt;span-class='chapter-title'&gt;Correlation-and-Causation&lt;/span&gt;\"><span class=\"chapter-number\">29</span> \n",
    "<span class=\"chapter-title\">Correlation and Causation</span></span>\n",
    "<span class=\"hidden quarto-markdown-envelope-contents\" render-id=\"quarto-int-sidebar:/how_big_sample.html&lt;span-class='chapter-number'&gt;30&lt;/span&gt;--&lt;span-class='chapter-title'&gt;How-Large-a-Sample?&lt;/span&gt;\"><span class=\"chapter-number\">30</span> \n",
    "<span class=\"chapter-title\">How Large a Sample?</span></span>\n",
    "<span class=\"hidden quarto-markdown-envelope-contents\" render-id=\"quarto-int-sidebar:/bayes_simulation.html&lt;span-class='chapter-number'&gt;31&lt;/span&gt;--&lt;span-class='chapter-title'&gt;Bayesian-Analysis-by-Simulation&lt;/span&gt;\"><span class=\"chapter-number\">31</span> \n",
    "<span class=\"chapter-title\">Bayesian Analysis by\n",
    "Simulation</span></span>\n",
    "<span class=\"hidden quarto-markdown-envelope-contents\" render-id=\"quarto-int-sidebar:/references.htmlReferences\">References</span>\n",
    "<span class=\"hidden quarto-markdown-envelope-contents\" render-id=\"quarto-int-sidebar:quarto-sidebar-section-1\">Appendices</span>\n",
    "<span class=\"hidden quarto-markdown-envelope-contents\" render-id=\"quarto-int-sidebar:/exercise_solutions.html&lt;span-class='chapter-number'&gt;A&lt;/span&gt;--&lt;span-class='chapter-title'&gt;Exercise-Solutions&lt;/span&gt;\"><span class=\"chapter-number\">A</span> \n",
    "<span class=\"chapter-title\">Exercise Solutions</span></span>\n",
    "<span class=\"hidden quarto-markdown-envelope-contents\" render-id=\"quarto-int-sidebar:/technical_note.html&lt;span-class='chapter-number'&gt;B&lt;/span&gt;--&lt;span-class='chapter-title'&gt;Technical-Note-to-the-Professional-Reader&lt;/span&gt;\"><span class=\"chapter-number\">B</span> \n",
    "<span class=\"chapter-title\">Technical Note to the Professional\n",
    "Reader</span></span>\n",
    "<span class=\"hidden quarto-markdown-envelope-contents\" render-id=\"quarto-int-sidebar:/acknowlegements.html&lt;span-class='chapter-number'&gt;C&lt;/span&gt;--&lt;span-class='chapter-title'&gt;Acknowledgements&lt;/span&gt;\"><span class=\"chapter-number\">C</span> \n",
    "<span class=\"chapter-title\">Acknowledgements</span></span>\n",
    "<span class=\"hidden quarto-markdown-envelope-contents\" render-id=\"quarto-int-sidebar:/code_topics.html&lt;span-class='chapter-number'&gt;D&lt;/span&gt;--&lt;span-class='chapter-title'&gt;Code-topics&lt;/span&gt;\"><span class=\"chapter-number\">D</span> \n",
    "<span class=\"chapter-title\">Code topics</span></span>\n",
    "<span class=\"hidden quarto-markdown-envelope-contents\" render-id=\"quarto-int-sidebar:/errors_suggestions.html&lt;span-class='chapter-number'&gt;E&lt;/span&gt;--&lt;span-class='chapter-title'&gt;Errors-and-suggestions&lt;/span&gt;\"><span class=\"chapter-number\">E</span> \n",
    "<span class=\"chapter-title\">Errors and suggestions</span></span>\n",
    "<span class=\"hidden quarto-markdown-envelope-contents\" render-id=\"quarto-breadcrumbs-&lt;span-class='chapter-number'&gt;7&lt;/span&gt;--&lt;span-class='chapter-title'&gt;Tools-for-samples-and-sampling&lt;/span&gt;\"><span class=\"chapter-number\">7</span> \n",
    "<span class=\"chapter-title\">Tools for samples and sampling</span></span>\n",
    "</div>\n",
    "<div class=\"hidden\" id=\"quarto-meta-markdown\">\n",
    "<span class=\"hidden quarto-markdown-envelope-contents\" render-id=\"quarto-metatitle\"><span class=\"quarto-section-identifier\" id=\"sec-sampling-tools\"><span class=\"chapter-number\">7</span> \n",
    "<span class=\"chapter-title\">Tools for samples and sampling</span></span>\n",
    "– Resampling statistics</span>\n",
    "<span class=\"hidden quarto-markdown-envelope-contents\" render-id=\"quarto-twittercardtitle\"><span class=\"quarto-section-identifier\" id=\"sec-sampling-tools\"><span class=\"chapter-number\">7</span> \n",
    "<span class=\"chapter-title\">Tools for samples and sampling</span></span>\n",
    "– Resampling statistics</span>\n",
    "<span class=\"hidden quarto-markdown-envelope-contents\" render-id=\"quarto-ogcardtitle\"><span class=\"quarto-section-identifier\" id=\"sec-sampling-tools\"><span class=\"chapter-number\">7</span> \n",
    "<span class=\"chapter-title\">Tools for samples and sampling</span></span>\n",
    "– Resampling statistics</span>\n",
    "<span class=\"hidden quarto-markdown-envelope-contents\" render-id=\"quarto-metasitename\">Resampling statistics</span>\n",
    "<span class=\"hidden quarto-markdown-envelope-contents\" render-id=\"quarto-twittercarddesc\"></span>\n",
    "<span class=\"hidden quarto-markdown-envelope-contents\" render-id=\"quarto-ogcardddesc\"></span>\n",
    "</div>"
   ]
  }
 ],
 "metadata": {
  "jupytext": {
   "cell_metadata_filter": "-all",
   "main_language": "python",
   "notebook_metadata_filter": "-all"
  }
 },
 "nbformat": 4,
 "nbformat_minor": 5
}
