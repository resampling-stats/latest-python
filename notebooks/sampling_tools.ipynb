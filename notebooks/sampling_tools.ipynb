{
 "cells": [
  {
   "cell_type": "markdown",
   "id": "b7fe545e",
   "metadata": {},
   "source": [
    "# Sampling tools"
   ]
  },
  {
   "cell_type": "markdown",
   "id": "ceac4e01",
   "metadata": {},
   "source": [
    "## 7.2 Samples and labels and strings\n",
    "\n",
    "Thus far we have used numbers such as 1 and 0 and 10 to represent the\n",
    "elements we are sampling from. For example, in\n",
    "<a href=\"#sec-resampling-two\" class=\"quarto-xref\"><span\n",
    "class=\"quarto-unresolved-ref\">sec-resampling-two</span></a>, we were\n",
    "simulating the chance of a particular juror being black, given that 26%\n",
    "of the eligible jurors in the county were black. We used *integers* for\n",
    "that task, where we started with all the integers from 0 through 99, and\n",
    "asked NumPy to select values at random from those integers. When NumPy\n",
    "selected an integer from 0 through 25, we chose to label the resulting\n",
    "simulated juror as black — there are 26 integers in the range 0 through\n",
    "25, so there is a 26% chance that any one integer will be in that range.\n",
    "If the integer was from 26 through 99, the simulated juror was white\n",
    "(there are 74 integers in the range 26 through 99).\n",
    "\n",
    "Here is the process of simulating a single juror, adapted from\n",
    "<a href=\"#sec-random-zero-through-ninety-nine\" class=\"quarto-xref\"><span\n",
    "class=\"quarto-unresolved-ref\">sec-random-zero-through-ninety-nine</span></a>:"
   ]
  },
  {
   "cell_type": "code",
   "execution_count": null,
   "id": "59da49ed",
   "metadata": {},
   "outputs": [],
   "source": [
    "import numpy as np\n",
    "# Ask NumPy for a random number generator.\n",
    "rnd = np.random.default_rng()\n",
    "\n",
    "# All the integers from 0 up to, but not including 100.\n",
    "zero_thru_99 = np.arange(100)\n",
    "\n",
    "# Get one random numbers from 0 through 99\n",
    "a = rnd.choice(zero_thru_99)\n",
    "\n",
    "# Show the result\n",
    "a"
   ]
  },
  {
   "cell_type": "markdown",
   "id": "0a239243",
   "metadata": {},
   "source": [
    "After that, we have to unpack our labeling of 0 through 25 as being\n",
    "“black” and 26 through 99 as being “white”. We might do that like this:"
   ]
  },
  {
   "cell_type": "code",
   "execution_count": null,
   "id": "fc31bffc",
   "metadata": {},
   "outputs": [],
   "source": [
    "this_juror_is_black = a < 26\n",
    "this_juror_is_black"
   ]
  },
  {
   "cell_type": "markdown",
   "id": "2623af8a",
   "metadata": {},
   "source": [
    "This all works as we want it to, but it’s just a little bit difficult to\n",
    "remember the coding (less than 26 means “black”, greater than 25 means\n",
    "“white”). We had to use that coding because we committed ourselves to\n",
    "using random numbers to simulate the outcomes.\n",
    "\n",
    "However, Python can also store bits of text, called *strings*. Values\n",
    "that are bits of text can be very useful because the text values can be\n",
    "memorable labels for the entities we are sampling from, in our\n",
    "simulations.\n",
    "\n",
    "Before we get to strings, let us consider the we have seen so far.\n",
    "\n",
    "## 7.3 Types of values in Python\n",
    "\n"
   ]
  },
  {
   "cell_type": "markdown",
   "id": "a1fa55d5",
   "metadata": {},
   "source": [
    "## 7.4 String values\n",
    "\n",
    "So far, all the values you have seen in Python arrays have been numbers.\n",
    "Now we get on to values that are bits of text. These are called\n",
    "*strings*.\n",
    "\n",
    "Here is a single Python string value:"
   ]
  },
  {
   "cell_type": "code",
   "execution_count": null,
   "id": "5ef21abc",
   "metadata": {},
   "outputs": [],
   "source": [
    "s = \"Resampling\"\n",
    "s"
   ]
  },
  {
   "cell_type": "markdown",
   "id": "d263aa95",
   "metadata": {},
   "source": [
    "What is the of the new bit-of-text value `s`?"
   ]
  },
  {
   "cell_type": "code",
   "execution_count": null,
   "id": "470e8b72",
   "metadata": {},
   "outputs": [],
   "source": [
    "type(s)"
   ]
  },
  {
   "cell_type": "markdown",
   "id": "074ae48a",
   "metadata": {},
   "source": [
    "The Python value is a bit of text, and therefore consists of a sequence\n",
    "of characters.\n",
    "\n",
    "As arrays are containers for other things, such as numbers, strings are\n",
    "containers for characters.\n",
    "\n",
    "## 7.5 Strings in arrays\n",
    "\n",
    "As we can store numbers as elements in arrays, we can also store strings\n",
    "as array elements."
   ]
  },
  {
   "cell_type": "code",
   "execution_count": null,
   "id": "58c4a32b",
   "metadata": {},
   "outputs": [],
   "source": [
    "# Just for clarity, make the list first.\n",
    "# Lists can also contain strings.\n",
    "list_of_strings = ['Julian', 'Lincoln', 'Simon']\n",
    "# Then pass the list to np.array to make the array.\n",
    "arr_of_strings = np.array(list_of_strings)\n",
    "arr_of_strings"
   ]
  },
  {
   "cell_type": "code",
   "execution_count": null,
   "id": "a470c529",
   "metadata": {},
   "outputs": [],
   "source": [
    "# We can also create the list and the array in one line,\n",
    "# as we have been doing up til now.\n",
    "arr_of_strings = np.array(['Julian', 'Lincoln', 'Simon'])\n",
    "arr_of_strings"
   ]
  },
  {
   "cell_type": "markdown",
   "id": "67e641d3",
   "metadata": {},
   "source": [
    "As for any array, you can select elements with *indexing*. When you\n",
    "select an element with a given position (index), you get the *string* at\n",
    "at that position:"
   ]
  },
  {
   "cell_type": "code",
   "execution_count": null,
   "id": "eba8e258",
   "metadata": {},
   "outputs": [],
   "source": [
    "# Julian Lincoln Simon's second name.\n",
    "# (Remember, Python's positions start at 0).\n",
    "middle_name = arr_of_strings[1]\n",
    "middle_name"
   ]
  },
  {
   "cell_type": "markdown",
   "id": "96262465",
   "metadata": {},
   "source": [
    "As for numbers, we can compare strings with, for example, the `==`\n",
    "operator, that asks whether the two strings are equal:"
   ]
  },
  {
   "cell_type": "code",
   "execution_count": null,
   "id": "a5da3ccb",
   "metadata": {},
   "outputs": [],
   "source": [
    "middle_name == 'Lincoln'"
   ]
  },
  {
   "cell_type": "markdown",
   "id": "34aeebdc",
   "metadata": {},
   "source": [
    "## 7.6 Repeating elements\n",
    "\n",
    "Now let us go back to the problem of selecting black and white jurors.\n",
    "\n",
    "We started with the strategy of using numbers 0 through 25 to mean\n",
    "“black” jurors, and 26 through 99 to mean “white” jurors. We selected\n",
    "values at random from 0 through 99, and then worked out whether the\n",
    "number meant a “black” juror (was less than 26) or a “white” juror (was\n",
    "greater than 25).\n",
    "\n",
    "It would be good to use strings instead of numbers to identify the\n",
    "potential jurors. Then we would not have to remember our coding of 0\n",
    "through 25 and 26 through 99.\n",
    "\n",
    "If only there was a way to make an array of 100 strings, where 26 of the\n",
    "strings were “black” and 74 were “white”. Then we could select randomly\n",
    "from that array, and it would be immediately obvious that we had a\n",
    "“black” or “white” juror.\n",
    "\n",
    "Luckily, of course, we can do that, by using the function to construct\n",
    "the array.\n",
    "\n",
    "Here is how that works:"
   ]
  },
  {
   "cell_type": "code",
   "execution_count": null,
   "id": "31da9304",
   "metadata": {},
   "outputs": [],
   "source": [
    "# The values that we will repeat to fill up the larger array.\n",
    "# Use a list to store the sequence of values.\n",
    "juror_types = ['black', 'white']\n",
    "# The number of times we want to repeat \"black\" and \"white\".\n",
    "# Use a list to store the sequence of values.\n",
    "repeat_nos = [26, 74]\n",
    "# Repeat \"black\" 26 times and \"white\" 74 times.\n",
    "# We have passed two lists here, but we could also have passed\n",
    "# arrays - the Numpy repeat function converts the lists to arrays\n",
    "# before it builds the repeats.\n",
    "jury_pool = np.repeat(juror_types, repeat_nos)\n",
    "# Show the result\n",
    "jury_pool"
   ]
  },
  {
   "cell_type": "markdown",
   "id": "51125a70",
   "metadata": {},
   "source": [
    "We can use this array of repeats of strings, to sample from. The result\n",
    "is easier to grasp, because we are using the string labels, instead of\n",
    "numbers:"
   ]
  },
  {
   "cell_type": "code",
   "execution_count": null,
   "id": "235d9394",
   "metadata": {},
   "outputs": [],
   "source": [
    "# Select one juror at random from the black / white pool.\n",
    "one_juror = rnd.choice(jury_pool)\n",
    "one_juror"
   ]
  },
  {
   "cell_type": "markdown",
   "id": "2553b1ef",
   "metadata": {},
   "source": [
    "We can select our full jury of 12 jurors, and see the results in a more\n",
    "obvious form:"
   ]
  },
  {
   "cell_type": "code",
   "execution_count": null,
   "id": "eed7b7b6",
   "metadata": {},
   "outputs": [],
   "source": [
    "# Select 12 jurors at random from the black / white pool.\n",
    "one_jury = rnd.choice(jury_pool, 12)\n",
    "one_jury"
   ]
  },
  {
   "cell_type": "markdown",
   "id": "5903e18d",
   "metadata": {},
   "source": [
    "**Note: Using the `size` argument to `rnd.choice`**\n",
    "\n",
    "In the code above, we have specified the *size* of the sample we want\n",
    "(12) with the second argument to `rnd.choice`. As you saw in\n",
    "<a href=\"#sec-named-arguments\" class=\"quarto-xref\"><span\n",
    "class=\"quarto-unresolved-ref\">sec-named-arguments</span></a>, we can\n",
    "also give names to the function arguments, in this case, to make it\n",
    "clearer what we mean by “12” in the code above. In fact, from now on,\n",
    "that is what we will do; we will specify the *size* of our sample by\n",
    "using the *name* for the function argument to `rnd.choice` — `size` —\n",
    "like this:"
   ]
  },
  {
   "cell_type": "code",
   "execution_count": null,
   "id": "af026d5d",
   "metadata": {},
   "outputs": [],
   "source": [
    "# Select 12 jurors at random from the black / white pool.\n",
    "# Specify the sample size using the \"size\" named argument.\n",
    "one_jury = rnd.choice(jury_pool, size=12)\n",
    "one_jury"
   ]
  },
  {
   "cell_type": "markdown",
   "id": "d91d278c",
   "metadata": {},
   "source": [
    "**End of note**\n",
    "\n",
    "We can use `==` on the array to get `True` values where the juror was\n",
    "“black” and `False` values otherwise:"
   ]
  },
  {
   "cell_type": "code",
   "execution_count": null,
   "id": "8b12d478",
   "metadata": {},
   "outputs": [],
   "source": [
    "are_black = one_jury == 'black'\n",
    "are_black"
   ]
  },
  {
   "cell_type": "markdown",
   "id": "72696539",
   "metadata": {},
   "source": [
    "Finally, we can to find the number of black jurors\n",
    "(<a href=\"#sec-count-with-sum\" class=\"quarto-xref\"><span\n",
    "class=\"quarto-unresolved-ref\">sec-count-with-sum</span></a>):"
   ]
  },
  {
   "cell_type": "code",
   "execution_count": null,
   "id": "c9c5762e",
   "metadata": {},
   "outputs": [],
   "source": [
    "# Number of black jurors in this simulated jury.\n",
    "n_black = np.sum(are_black)\n",
    "n_black"
   ]
  },
  {
   "cell_type": "markdown",
   "id": "d34366c4",
   "metadata": {},
   "source": [
    "Putting that all together, this is our new procedure to select one jury\n",
    "and count the number of black jurors:"
   ]
  },
  {
   "cell_type": "code",
   "execution_count": null,
   "id": "bf05f36e",
   "metadata": {},
   "outputs": [],
   "source": [
    "one_jury = rnd.choice(jury_pool, size=12)\n",
    "are_black = one_jury == 'black'\n",
    "n_black = np.sum(are_black)\n",
    "n_black"
   ]
  },
  {
   "cell_type": "markdown",
   "id": "f8f1b99d",
   "metadata": {},
   "source": [
    "Or we can be even more compact by putting several statements together\n",
    "into one line:"
   ]
  },
  {
   "cell_type": "code",
   "execution_count": null,
   "id": "50709a02",
   "metadata": {},
   "outputs": [],
   "source": [
    "# The same as above, but on one line.\n",
    "n_black = np.sum(rnd.choice(jury_pool, size=12) == 'black')\n",
    "n_black"
   ]
  },
  {
   "cell_type": "markdown",
   "id": "4d38d4ce",
   "metadata": {},
   "source": [
    "## 7.7 Resampling with and without replacement\n",
    "\n",
    "Now let us return to the details of Robert Swain’s case, that you first\n",
    "saw in <a href=\"#sec-resampling-two\" class=\"quarto-xref\"><span\n",
    "class=\"quarto-unresolved-ref\">sec-resampling-two</span></a>.\n",
    "\n",
    "We looked at the composition of Robert Swain’s 12-person jury — but in\n",
    "fact, by law, that does not have to be representative of the eligible\n",
    "jurors. The 12-person jury is drawn from a jury *panel*, of 100 people,\n",
    "and this should, in turn, be drawn from the population of all eligible\n",
    "jurors in the county, consisting, at the time, of “all male citizens in\n",
    "the community over 21 who are reputed to be honest, intelligent men and\n",
    "are esteemed for their integrity, good character and sound judgment.”\n",
    "So, unless there was some bias against black jurors, we might expect the\n",
    "100-person jury panel to be a plausibly random sample of the eligible\n",
    "jurors, of whom 26% were black. See [the Supreme Court case\n",
    "judgement](https://supreme.justia.com/cases/federal/us/380/202) for\n",
    "details.\n",
    "\n",
    "In fact, in Robert Swain’s trial, there were 8 black members in the\n",
    "100-person jury panel. We will leave it to you to adapt the simulation\n",
    "from <a href=\"#sec-resampling-two\" class=\"quarto-xref\"><span\n",
    "class=\"quarto-unresolved-ref\">sec-resampling-two</span></a> to ask the\n",
    "question — is 8% surprising as a random sample from a population with\n",
    "26% black people?\n",
    "\n",
    "But we have a different question: given that 8 out of 100 of the jury\n",
    "panel were black, is it surprising that none of the 12-person jury were\n",
    "black? As usual, we can answer that question with simulation.\n",
    "\n",
    "Let’s think about what a single simulated jury selection would look\n",
    "like.\n",
    "\n",
    "First we compile a representation of the actual jury panel, using the\n",
    "tools we have used above."
   ]
  },
  {
   "cell_type": "code",
   "execution_count": null,
   "id": "403324c5",
   "metadata": {},
   "outputs": [],
   "source": [
    "juror_types = ['black', 'white']\n",
    "# in fact there were 8 black jurors and 92 white jurors.\n",
    "panel_nos = [8, 92]\n",
    "jury_panel = np.repeat(juror_types, panel_nos)\n",
    "# Show the result\n",
    "jury_panel"
   ]
  },
  {
   "cell_type": "markdown",
   "id": "795e4192",
   "metadata": {},
   "source": [
    "Now consider taking a 12-person jury at random from this panel. We\n",
    "select the first juror at random, so that juror has an 8 out of 100\n",
    "chance of being black. But when we select the second jury member, the\n",
    "situation has changed slightly. We can’t select the first juror again,\n",
    "so our panel is now 99 people. If our first juror was black, then the\n",
    "chances of selecting another black juror next are not 8 out of 100, but\n",
    "7 out of 99 — a smaller chance. The problem is, as we shall see in more\n",
    "detail later, the chances of getting a black juror as the second, and\n",
    "third and fourth members of the jury depend on whether we selected a\n",
    "black juror as the first and second and third jury members. At its most\n",
    "extreme, imagine we had already selected eight jurors, and by some\n",
    "strange chance, all eight were black. Now our chances of selecting a\n",
    "black juror as the ninth juror are zero — there are no black jurors left\n",
    "to select from the panel.\n",
    "\n",
    "In this case we are selecting jurors from the panel *without\n",
    "replacement*, meaning, that once we have selected a particular juror, we\n",
    "cannot select them again, and we do not put them back into the panel\n",
    "when we select our next juror.\n",
    "\n",
    "This is the probability equivalent of the situation when you are dealing\n",
    "a hand of cards. Let’s say someone is dealing you, and you only, a hand\n",
    "of five cards. You get an ace as your first card. Your chances of\n",
    "getting an ace as your first card were just the number of aces in the\n",
    "deck divided by the number of cards — four in 52 – $\\frac{4}{52}$. But\n",
    "for your second card, the probability has changed, because there is one\n",
    "less ace remaining in the pack, and one less card, so your chances of\n",
    "getting an ace as your second card are now $\\frac{3}{51}$. This is\n",
    "sampling without replacement — in a normal game, you can’t get the same\n",
    "card twice. Of course, you could imagine getting a hand where you\n",
    "sampled *with replacement*. In that case, you’d get a card, you’d write\n",
    "down what it was, and you’d give the card back to the dealer, who would\n",
    "*replace* the card in the deck, shuffle again, and give you another\n",
    "card.\n",
    "\n",
    "As you can see, the chances change if you are sampling with or without\n",
    "replacement, and the kind of sampling you do, will dictate how you model\n",
    "your chances in your simulations.\n",
    "\n",
    "Because this distinction is so common, and so important, the machinery\n",
    "you have already seen in has simple ways for you to select your sampling\n",
    "type. You have already seen sampling *with replacement*, and it looks\n",
    "like this:"
   ]
  },
  {
   "cell_type": "code",
   "execution_count": null,
   "id": "0412b9b3",
   "metadata": {},
   "outputs": [],
   "source": [
    "# Take a sample of 12 jurors from the panel *with replacement*\n",
    "# With replacement is the default for `rnd.choice`.\n",
    "strange_jury = rnd.choice(jury_panel, size=12)\n",
    "strange_jury"
   ]
  },
  {
   "cell_type": "markdown",
   "id": "c3910d0b",
   "metadata": {},
   "source": [
    "This is a strange jury, because it can select any member of the jury\n",
    "pool more than once. Perhaps that juror would have to fill two (or\n",
    "more!) seats, or run quickly between them. But of course, that is not\n",
    "how juries are selected. They are selected *without replacement*:"
   ]
  },
  {
   "cell_type": "code",
   "execution_count": null,
   "id": "0e781520",
   "metadata": {},
   "outputs": [],
   "source": [
    "# Take a sample of 12 jurors from the panel *without replacement*\n",
    "ok_jury = rnd.choice(jury_panel, 12, replace=False)\n",
    "ok_jury"
   ]
  },
  {
   "cell_type": "markdown",
   "id": "80118a28",
   "metadata": {},
   "source": [
    "**Note: Note 7.1: Comments at the end of lines**\n",
    "\n",
    "You have already seen comment lines. These are lines beginning with `#`,\n",
    "to signal to Python that the rest of the line is text for humans to\n",
    "read, but Python to ignore."
   ]
  },
  {
   "cell_type": "code",
   "execution_count": null,
   "id": "6fcb2413",
   "metadata": {},
   "outputs": [],
   "source": [
    "# This is a comment.  Python ignores this line."
   ]
  },
  {
   "cell_type": "markdown",
   "id": "0603f9e4",
   "metadata": {},
   "source": [
    "You can also put comments at the *end of code lines*, by finishing the\n",
    "code part of the line, and then putting a `#`, followed by more text.\n",
    "Again, Python will ignore everything after the `#` as a text for humans,\n",
    "but not for Python."
   ]
  },
  {
   "cell_type": "code",
   "execution_count": null,
   "id": "64fa7574",
   "metadata": {},
   "outputs": [],
   "source": [
    "print('Hello')  # This is a comment at the end of the line."
   ]
  },
  {
   "cell_type": "markdown",
   "id": "065a92fa",
   "metadata": {},
   "source": [
    "**End of note**\n",
    "\n",
    "To finish the procedure for simulating a single jury selection, we count\n",
    "the number of black jurors:"
   ]
  },
  {
   "cell_type": "code",
   "execution_count": null,
   "id": "58e8b5fc",
   "metadata": {},
   "outputs": [],
   "source": [
    "n_black = np.sum(ok_jury == 'black')  # How many black jurors?\n",
    "n_black"
   ]
  },
  {
   "cell_type": "markdown",
   "id": "70e5126a",
   "metadata": {},
   "source": [
    "Now we have the procedure for one simulated trial, here is the procedure\n",
    "for 10000 simulated trials."
   ]
  },
  {
   "cell_type": "code",
   "execution_count": null,
   "id": "30da703a",
   "metadata": {},
   "outputs": [],
   "source": [
    "counts = np.zeros(10000)\n",
    "for i in np.arange(10000):\n",
    "    # Single trial procedure\n",
    "    jury = rnd.choice(jury_panel, size=12, replace=False)\n",
    "    n_black = np.sum(jury == 'black')  # How many black jurors?\n",
    "    # Store the result\n",
    "    counts[i] = n_black\n",
    "\n",
    "# Number of juries with 0 black jurors.\n",
    "zero_black = np.sum(counts == 0)\n",
    "# Proportion\n",
    "p_zero_black = zero_black / 10000\n",
    "print(p_zero_black)"
   ]
  },
  {
   "cell_type": "markdown",
   "id": "8e69f390",
   "metadata": {},
   "source": [
    "We have found that, when there are only 8% black jurors in the jury\n",
    "panel, having no black jurors in the final jury happens about 34% of the\n",
    "time, even in this case, where the jury is selected completely at random\n",
    "from the jury panel.\n",
    "\n",
    "We should look for the main source of bias in the initial selection of\n",
    "the jury panel, not in the selection of the jury from the panel.\n"
   ]
  }
 ],
 "metadata": {
  "jupytext": {
   "cell_metadata_filter": "-all",
   "main_language": "python",
   "notebook_metadata_filter": "-all"
  }
 },
 "nbformat": 4,
 "nbformat_minor": 5
}
