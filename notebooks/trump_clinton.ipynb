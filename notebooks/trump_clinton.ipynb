{
 "cells": [
  {
   "cell_type": "markdown",
   "id": "f8df3ae2",
   "metadata": {},
   "source": [
    "# Trump/Clinton poll simulation"
   ]
  },
  {
   "cell_type": "markdown",
   "id": "243d842f",
   "metadata": {},
   "source": [
    "Find this notebook on the web at Note .\n",
    "\n",
    "What is the probability that a sample outcome such as actually observed\n",
    "(840 Trump, 660 Clinton) would occur by chance if Clinton is “really”\n",
    "ahead — that is, if Clinton has 50 percent (or more) of the support? To\n",
    "restate in sharper statistical language: What is the probability that\n",
    "the observed sample or one even more favorable to Trump would occur if\n",
    "the universe has a mean of 50 percent or below?\n",
    "\n",
    "Here is a procedure that responds to that question:\n",
    "\n",
    "1.  Create a benchmark universe with one ball marked “Trump” and another\n",
    "    marked “Clinton”\n",
    "2.  Draw a ball, record its marking, and replace. (We sample with\n",
    "    replacement to simulate the practically-infinite population of U. S.\n",
    "    voters.)\n",
    "3.  Repeat step 2 1500 times and count the number of “Trump”s. If 840 or\n",
    "    greater, record “Y”; otherwise, record “N.”\n",
    "4.  Repeat steps 3 and 4 perhaps 1000 or 10,000 times, and count the\n",
    "    number of “Y”s. The outcome estimates the probability that 840 or\n",
    "    more Trump choices would occur if the universe is “really” half or\n",
    "    more in favor of Clinton.\n",
    "\n",
    "Before we come to the simulation, we need some new code to tune our\n",
    "histograms (see Section ). We are going to set the bins for the\n",
    "histogram using advanced ranges.\n",
    "\n",
    "<div __quarto_custom=\"true\" __quarto_custom_type=\"Callout\"\n",
    "__quarto_custom_context=\"Block\" __quarto_custom_id=\"625\">\n",
    "\n",
    "<div __quarto_custom_scaffold=\"true\">\n",
    "\n",
    "Advanced ranges\n",
    "\n",
    "</div>\n",
    "\n",
    "<div __quarto_custom_scaffold=\"true\">\n",
    "\n",
    "So far (Section ) we have used `np.arange` to make regular sequences of\n",
    "integers. For example, to make an array of the sequential integers from\n",
    "3 through 12, we could use:"
   ]
  },
  {
   "cell_type": "code",
   "execution_count": null,
   "id": "027162af",
   "metadata": {},
   "outputs": [],
   "source": [
    "np.arange(3, 13)"
   ]
  },
  {
   "cell_type": "markdown",
   "id": "38f1ad85",
   "metadata": {},
   "source": [
    "Sometimes we want to be able to specify a step size — the gap between\n",
    "the numbers in the sequence. In the sequence above, the gap (step)\n",
    "between each number is 1. We might want some other step size. To create\n",
    "a sequence of integers from 3 through 33 in steps of 5, we could write:"
   ]
  },
  {
   "cell_type": "code",
   "execution_count": null,
   "id": "e45ca7ec",
   "metadata": {},
   "outputs": [],
   "source": [
    "np.arange(3, 34, step=5)"
   ]
  },
  {
   "cell_type": "markdown",
   "id": "f0c5bb65",
   "metadata": {},
   "source": [
    "Read this as “give me the sequence (range) of numbers, starting at 3, up\n",
    "to but not including 34, in steps of 5.\n",
    "\n",
    "So far we have used integers as the start, stop and step values, but we\n",
    "could also use floating point values. For example, to get a sequence of\n",
    "values starting at 0.1 up to and including 0.9, in steps of 0.2:"
   ]
  },
  {
   "cell_type": "code",
   "execution_count": null,
   "id": "d43cfdb7",
   "metadata": {},
   "outputs": [],
   "source": [
    "np.arange(0.1, 1, step=0.2)"
   ]
  },
  {
   "cell_type": "markdown",
   "id": "067c02ea",
   "metadata": {},
   "source": [
    "</div>\n",
    "\n",
    "</div>\n"
   ]
  },
  {
   "cell_type": "markdown",
   "id": "7e44c874",
   "metadata": {},
   "source": [
    "With that background, we can proceed with the Python implementation of\n",
    "the simulation procedure."
   ]
  },
  {
   "cell_type": "code",
   "execution_count": null,
   "id": "08f735ff",
   "metadata": {},
   "outputs": [],
   "source": [
    "import numpy as np\n",
    "import matplotlib.pyplot as plt\n",
    "\n",
    "rnd = np.random.default_rng()\n",
    "\n",
    "# Number of repeats we will run.\n",
    "n = 10_000\n",
    "\n",
    "# Make an integer array to store the counts.\n",
    "trumps = np.zeros(n, dtype=int)\n",
    "\n",
    "for i in range(n):\n",
    "    votes = rnd.choice(['Trump', 'Clinton'], size=1500)\n",
    "    trumps[i] = np.sum(votes == 'Trump')\n",
    "\n",
    "# Integer bins from 670 through 830 in steps of 5.\n",
    "plt.hist(trumps, bins=range(670, 831, 5))\n",
    "plt.title('Number of Trump voters of 1500 in null-world simulation')\n",
    "\n",
    "# How often >= 840 Trump votes in random draw?\n",
    "k = np.sum(trumps >= 840)\n",
    "# As a proportion of simulated resamples.\n",
    "kk = k / n\n",
    "\n",
    "print('Proportion voting for Trump:', kk)"
   ]
  },
  {
   "cell_type": "markdown",
   "id": "ab6deb22",
   "metadata": {},
   "source": [
    "The value for `kk` is our estimate of the probability that Trump’s\n",
    "“victory” in the sample would occur by chance if he really were behind.\n",
    "In this case, our probability estimate is less than 1 in 10,000 (\\<\n",
    "0.0001)."
   ]
  }
 ],
 "metadata": {
  "jupytext": {
   "cell_metadata_filter": "-all",
   "main_language": "python",
   "notebook_metadata_filter": "-all"
  }
 },
 "nbformat": 4,
 "nbformat_minor": 5
}
