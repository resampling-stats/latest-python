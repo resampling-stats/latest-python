{
 "cells": [
  {
   "cell_type": "markdown",
   "id": "cbeaee63",
   "metadata": {},
   "source": [
    "# Selecting elements by slicing"
   ]
  },
  {
   "cell_type": "markdown",
   "id": "5e416f39",
   "metadata": {},
   "source": [
    "As you saw in <a href=\"#sec-array-indexing\" class=\"quarto-xref\"><span\n",
    "class=\"quarto-unresolved-ref\">sec-array-indexing</span></a>, we do\n",
    "*indexing* when we put square brackets following a value that is a\n",
    "container, such as an array. Inside the square brackets we put another\n",
    "value to specify which elements we want to fetch from the container.\n",
    "\n",
    "We will use the `some_numbers` array as our container for indexing:"
   ]
  },
  {
   "cell_type": "code",
   "execution_count": null,
   "id": "ef278eb1",
   "metadata": {},
   "outputs": [],
   "source": [
    "import numpy as np\n",
    "\n",
    "some_numbers = np.array([3, 1, 4, 1, 5, 9, 2, 6])"
   ]
  },
  {
   "cell_type": "markdown",
   "id": "f5fb681a",
   "metadata": {},
   "source": [
    "In the indexing expression below, we have the array `some_numbers`,\n",
    "followed by the value `3` inside the square brackets, telling Python\n",
    "that we want the value from the `some_numbers` container."
   ]
  },
  {
   "cell_type": "code",
   "execution_count": null,
   "id": "2164b18f",
   "metadata": {},
   "outputs": [],
   "source": [
    "# Indexing with an integer inside the square brackets.\n",
    "some_numbers[3]"
   ]
  },
  {
   "cell_type": "markdown",
   "id": "f527b329",
   "metadata": {},
   "source": [
    "In the example above, we put an integer (a whole number) inside the\n",
    "square brackets, to specify the position of the element we want to fetch\n",
    "from the container.\n",
    "\n"
   ]
  }
 ],
 "metadata": {
  "jupytext": {
   "cell_metadata_filter": "-all",
   "main_language": "python",
   "notebook_metadata_filter": "-all"
  }
 },
 "nbformat": 4,
 "nbformat_minor": 5
}
