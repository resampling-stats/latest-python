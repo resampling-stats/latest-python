{
 "cells": [
  {
   "cell_type": "markdown",
   "id": "e55a3e18",
   "metadata": {},
   "source": [
    "# Voter participation in 1844 election"
   ]
  },
  {
   "cell_type": "markdown",
   "id": "bb9a2d9c",
   "metadata": {},
   "source": [
    "Find this notebook on the web at Note .\n",
    "\n",
    "Notebook for voter participation exercise."
   ]
  },
  {
   "cell_type": "code",
   "execution_count": null,
   "id": "f0ce1dd1",
   "metadata": {},
   "outputs": [],
   "source": [
    "import numpy as np\n",
    "import pandas as pd\n",
    "\n",
    "rnd = np.random.default_rng()\n",
    "\n",
    "voter_df = pd.read_csv('data/election_1844.csv')\n",
    "participation = np.array(voter_df['Participation'])\n",
    "spread = np.array(voter_df['Spread'])"
   ]
  }
 ],
 "metadata": {
  "jupytext": {
   "cell_metadata_filter": "-all",
   "main_language": "python",
   "notebook_metadata_filter": "-all"
  }
 },
 "nbformat": 4,
 "nbformat_minor": 5
}
