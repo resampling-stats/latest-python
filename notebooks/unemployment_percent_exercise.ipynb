{
 "cells": [
  {
   "cell_type": "markdown",
   "id": "e1fcb402",
   "metadata": {},
   "source": [
    "# Unemployment percent exercise"
   ]
  },
  {
   "cell_type": "markdown",
   "id": "f538d296",
   "metadata": {},
   "source": [
    "Find this notebook on the web at Note .\n",
    "\n",
    "In a sample of 200 people, 7 percent are found to be unemployed.\n",
    "Determine a 95 percent confidence interval for the true population\n",
    "proportion."
   ]
  },
  {
   "cell_type": "code",
   "execution_count": null,
   "id": "ba6e0294",
   "metadata": {},
   "outputs": [],
   "source": [
    "import numpy as np\n",
    "import matplotlib.pyplot as plt\n",
    "\n",
    "rnd = np.random.default_rng()\n",
    "\n",
    "# Your code here."
   ]
  }
 ],
 "metadata": {
  "jupytext": {
   "cell_metadata_filter": "-all",
   "main_language": "python",
   "notebook_metadata_filter": "-all"
  }
 },
 "nbformat": 4,
 "nbformat_minor": 5
}
