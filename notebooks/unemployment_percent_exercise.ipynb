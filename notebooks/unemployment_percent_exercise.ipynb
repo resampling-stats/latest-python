{
 "cells": [
  {
   "cell_type": "markdown",
   "id": "1916f08f",
   "metadata": {},
   "source": [
    "# Unemployment percent exercise"
   ]
  },
  {
   "cell_type": "markdown",
   "id": "74eea7b1",
   "metadata": {},
   "source": [
    "Find this notebook on the web at\n",
    "<a class=\"quarto-xref\" href=\"https://resampling-stats.github.io/latest-python/confidence_2.html#nte-unemployment_percent_exercise\">Note <span>27.1</span></a>.\n",
    "\n",
    "In a sample of 200 people, 7 percent are found to be unemployed.\n",
    "Determine a 95 percent confidence interval for the true population\n",
    "proportion."
   ]
  },
  {
   "cell_type": "code",
   "execution_count": null,
   "id": "a7151bd2",
   "metadata": {},
   "outputs": [],
   "source": [
    "import numpy as np\n",
    "import matplotlib.pyplot as plt\n",
    "\n",
    "rnd = np.random.default_rng()\n",
    "\n",
    "# Your code here."
   ]
  }
 ],
 "metadata": {
  "jupytext": {
   "cell_metadata_filter": "-all",
   "main_language": "python",
   "notebook_metadata_filter": "-all"
  }
 },
 "nbformat": 4,
 "nbformat_minor": 5
}
