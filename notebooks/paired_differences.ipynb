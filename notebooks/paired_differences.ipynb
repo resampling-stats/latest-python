{
 "cells": [
  {
   "cell_type": "markdown",
   "id": "49830568",
   "metadata": {},
   "source": [
    "# Paired differences exercise"
   ]
  },
  {
   "cell_type": "markdown",
   "id": "ec86a0b4",
   "metadata": {},
   "source": [
    "Find this notebook on the web at\n",
    "<a class=\"quarto-xref\" href=\"https://resampling-stats.github.io/latest-python/testing_measured.html#nte-paired_differences\">Note <span>24.7</span></a>."
   ]
  },
  {
   "cell_type": "code",
   "execution_count": null,
   "id": "5148e4fe",
   "metadata": {},
   "outputs": [],
   "source": [
    "import numpy as np\n",
    "import pandas as pd\n",
    "\n",
    "rnd = np.random.default_rng()\n",
    "\n",
    "df = pd.read_csv('data/hamilton.csv')\n",
    "before = np.array(df['score_before'])\n",
    "after = np.array(df['score_after'])\n",
    "\n",
    "# Your code here."
   ]
  }
 ],
 "metadata": {
  "jupytext": {
   "cell_metadata_filter": "-all",
   "main_language": "python",
   "notebook_metadata_filter": "-all"
  }
 },
 "nbformat": 4,
 "nbformat_minor": 5
}
