{
 "cells": [
  {
   "cell_type": "markdown",
   "id": "1fca6ebf",
   "metadata": {},
   "source": [
    "# Paired differences exercise"
   ]
  },
  {
   "cell_type": "markdown",
   "id": "d6da16f0",
   "metadata": {},
   "source": [
    "Find this notebook on the web at\n",
    "<a class=\"quarto-xref\" href=\"https://resampling-stats.github.io/latest-python/testing_measured.html#nte-paired_differences\">Note <span>24.7</span></a>."
   ]
  },
  {
   "cell_type": "code",
   "execution_count": null,
   "id": "d4272f3d",
   "metadata": {},
   "outputs": [],
   "source": [
    "import numpy as np\n",
    "import pandas as pd\n",
    "\n",
    "rnd = np.random.default_rng()\n",
    "\n",
    "df = pd.read_csv('data/hamilton.csv')\n",
    "before = np.array(df['score_before'])\n",
    "after = np.array(df['score_after'])\n",
    "\n",
    "# Your code here."
   ]
  }
 ],
 "metadata": {
  "jupytext": {
   "cell_metadata_filter": "-all",
   "main_language": "python",
   "notebook_metadata_filter": "-all"
  }
 },
 "nbformat": 4,
 "nbformat_minor": 5
}
