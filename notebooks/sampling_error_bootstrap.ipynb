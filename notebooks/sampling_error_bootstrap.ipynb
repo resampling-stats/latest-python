{
 "cells": [
  {
   "cell_type": "markdown",
   "id": "4de8d737",
   "metadata": {},
   "source": [
    "# Sampling error for pig ration weight gain via bootstrap"
   ]
  },
  {
   "cell_type": "markdown",
   "id": "b1371a4a",
   "metadata": {},
   "source": [
    "Find this notebook on the web at\n",
    "<a class=\"quarto-xref\" href=\"https://resampling-stats.github.io/latest-python/how_big_sample.html#nte-sampling_error_bootstrap\">Note <span>30.2</span></a>.\n",
    "\n",
    "Use the bootstrap (resampling with replacement) procedure to estimate\n",
    "how much error to expect when taking samples of different sizes."
   ]
  },
  {
   "cell_type": "code",
   "execution_count": null,
   "id": "4cb6181b",
   "metadata": {},
   "outputs": [],
   "source": [
    "import numpy as np\n",
    "import matplotlib.pyplot as plt\n",
    "\n",
    "rnd = np.random.default_rng()\n",
    "\n",
    "sampsize = 12\n",
    "\n",
    "gains = np.array([31, 34, 29, 26, 32, 35, 38, 34, 32, 31, 30, 29])\n",
    "\n",
    "n_trials = 10_000\n",
    "results = np.zeros(n_trials)\n",
    "\n",
    "for i in range(n_trials):\n",
    "    fake_gains = rnd.choice(gains, size=sampsize)\n",
    "    results[i] = np.mean(fake_gains)\n",
    "\n",
    "plt.hist(results, bins=25)\n",
    "plt.title('Distribution of mean of ' + str(sampsize) +\n",
    "          ' weights from ' + str(n_trials) + ' bootstrap samples')\n",
    "plt.xlabel('Mean weight')\n",
    "\n",
    "# Find values such that to 5%, 95% of values are below given value.\n",
    "# (These are the 5% and 95% percentile values).\n",
    "hi_lo_range = np.quantile(results, [0.05, 0.95])\n",
    "\n",
    "print('5% and 95% percentiles of bootstrap means:', np.round(hi_lo_range, 2))"
   ]
  }
 ],
 "metadata": {
  "jupytext": {
   "cell_metadata_filter": "-all",
   "main_language": "python",
   "notebook_metadata_filter": "-all"
  }
 },
 "nbformat": 4,
 "nbformat_minor": 5
}
