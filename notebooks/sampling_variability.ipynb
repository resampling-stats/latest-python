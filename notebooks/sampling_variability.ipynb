{
 "cells": [
  {
   "cell_type": "markdown",
   "id": "0df297c8",
   "metadata": {},
   "source": [
    "# Experiment in sampling variability"
   ]
  },
  {
   "cell_type": "markdown",
   "id": "fdd76b66",
   "metadata": {},
   "source": [
    "Try generating some rookie “seasons” yourself with the following\n",
    "commands, ranging the batter’s “true” performance by changing the value\n",
    "of `p_hit` (the probability of a hit)."
   ]
  },
  {
   "cell_type": "code",
   "execution_count": null,
   "id": "13fb1e59",
   "metadata": {},
   "outputs": [],
   "source": [
    "import numpy as np\n",
    "\n",
    "rnd = np.random.default_rng()"
   ]
  },
  {
   "cell_type": "code",
   "execution_count": null,
   "id": "be99d54d",
   "metadata": {},
   "outputs": [],
   "source": [
    "# Simulate a rookie season of 400 at-bats.\n",
    "\n",
    "# You might try changing the value below and rerunning.\n",
    "# This is the true (long-run) probability of a hit for this batter.\n",
    "p_hit = 0.4\n",
    "print('True average is:', p_hit)"
   ]
  },
  {
   "cell_type": "code",
   "execution_count": null,
   "id": "08f8424a",
   "metadata": {},
   "outputs": [],
   "source": [
    "at_bats = rnd.choice(['Hit', 'Out'], p=[p_hit, 1 - p_hit], size=400)\n",
    "simulated_average = np.sum(at_bats == 'Hit') / 400\n",
    "# Show the result\n",
    "print('Simulated average is:', simulated_average)"
   ]
  },
  {
   "cell_type": "markdown",
   "id": "91726414",
   "metadata": {},
   "source": [
    "Simulate a set of 10 or 20 such rookie seasons, and look at the one who\n",
    "did best. How did their rookie season compare to their “true” average?"
   ]
  }
 ],
 "metadata": {
  "jupytext": {
   "cell_metadata_filter": "-all",
   "main_language": "python",
   "notebook_metadata_filter": "-all"
  }
 },
 "nbformat": 4,
 "nbformat_minor": 5
}
