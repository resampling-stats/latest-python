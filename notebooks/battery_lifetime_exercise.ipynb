{
 "cells": [
  {
   "cell_type": "markdown",
   "id": "9381846d",
   "metadata": {},
   "source": [
    "# Battery lifetime exercise"
   ]
  },
  {
   "cell_type": "markdown",
   "id": "38d625ef",
   "metadata": {},
   "source": [
    "Find this notebook on the web at\n",
    "<a class=\"quarto-xref\" href=\"https://resampling-stats.github.io/latest-python/confidence_2.html#nte-battery_lifetime_exercise\">Note <span>27.2</span></a>.\n",
    "\n",
    "A sample of 20 batteries is tested, and the average lifetime is 28.85\n",
    "months. Establish a 95 percent confidence interval for the true average\n",
    "value. The sample values (lifetimes in months) are listed below."
   ]
  },
  {
   "cell_type": "code",
   "execution_count": null,
   "id": "c27d58f7",
   "metadata": {},
   "outputs": [],
   "source": [
    "import numpy as np\n",
    "import matplotlib.pyplot as plt\n",
    "\n",
    "rnd = np.random.default_rng()\n",
    "\n",
    "lifetimes = np.array([30, 32, 31, 28, 31, 29, 29, 24, 30, 31,\n",
    "                      28, 28, 32, 31, 24, 23, 31, 27, 27, 31])\n",
    "\n",
    "print('Mean is:', np.mean(lifetimes))"
   ]
  }
 ],
 "metadata": {
  "jupytext": {
   "cell_metadata_filter": "-all",
   "main_language": "python",
   "notebook_metadata_filter": "-all"
  }
 },
 "nbformat": 4,
 "nbformat_minor": 5
}
