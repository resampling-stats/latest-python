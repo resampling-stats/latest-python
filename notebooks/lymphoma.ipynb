{
 "cells": [
  {
   "cell_type": "markdown",
   "id": "30aef42a",
   "metadata": {},
   "source": [
    "# Simulating lymphoma trials"
   ]
  },
  {
   "cell_type": "markdown",
   "id": "c446c0de",
   "metadata": {},
   "source": [
    "Find this notebook on the web at\n",
    "<a class=\"quarto-xref\" href=\"https://resampling-stats.github.io/latest-python/resampling_with_code.html#nte-lymphoma\">Note <span>5.1</span></a>.\n",
    "\n",
    "## 5.5 Simulate one trial with code\n",
    "\n",
    "We can use the computer to do something very similar to rolling 17\n",
    "10-sided dice, by asking the computer for 17 random whole numbers from 0\n",
    "through 9.\n",
    "\n",
    "**Note: Whole numbers**\n",
    "\n",
    "A whole number is a number that is not negative, and does not have\n",
    "fractional part (does not have anything after a decimal point). 0 and 1\n",
    "and 2 and 3 are whole numbers, but -1 and $\\frac{3}{5}$ and 11.3 are\n",
    "not. The whole numbers from 0 through 9 are 0, 1, 2, 3, 4, 5, 6, 7, 8,\n",
    "9.\n",
    "\n",
    "**End of Note: Whole numbers**\n",
    "\n",
    "We have already discussed what we mean by *random* in\n",
    "<a class=\"quarto-xref\" href=\"https://resampling-stats.github.io/latest-python/resampling_method.html#sec-randomness-computer\"><span>Section 2.2</span></a>.\n",
    "\n",
    "We will be asking the computer to generate many random numbers. So,\n",
    "before we start, we again import Numpy and get its *random number\n",
    "generator*:"
   ]
  },
  {
   "cell_type": "code",
   "execution_count": null,
   "id": "a9b708a9",
   "metadata": {},
   "outputs": [],
   "source": [
    "import numpy as np\n",
    "\n",
    "# Ask for Numpy's default random number generator and name\n",
    "# it `rnd`.  `rnd` is short for \"random\".\n",
    "rnd = np.random.default_rng()"
   ]
  },
  {
   "cell_type": "markdown",
   "id": "a80fd6e1",
   "metadata": {},
   "source": [
    "## 5.6 From numbers to arrays\n",
    "\n",
    "We next need to prepare the *sequence* of numbers that we want NumPy to\n",
    "select from.\n",
    "\n",
    "We have already seen the idea that Python has *values* that are\n",
    "individual numbers. Remember, a *variable* is a *named value*. Here we\n",
    "attach the name `a` to the value 1."
   ]
  },
  {
   "cell_type": "code",
   "execution_count": null,
   "id": "c39d3474",
   "metadata": {},
   "outputs": [],
   "source": [
    "a = 1\n",
    "# Show the value of \"a\"\n",
    "a"
   ]
  },
  {
   "cell_type": "markdown",
   "id": "f6654e0f",
   "metadata": {},
   "source": [
    "NumPy also allows *values* that are *sequences of numbers*. NumPy calls\n",
    "these sequences *arrays*.\n",
    "\n",
    "Here we make a array that contains the 10 numbers we will select from:"
   ]
  },
  {
   "cell_type": "code",
   "execution_count": null,
   "id": "a8b209d7",
   "metadata": {},
   "outputs": [],
   "source": [
    "# Make an array of numbers, store with the name \"some_numbers\".\n",
    "some_numbers = np.array([0, 1, 2, 3, 4, 5, 6, 7, 8, 9])\n",
    "# Show the value of \"some_numbers\"\n",
    "some_numbers"
   ]
  },
  {
   "cell_type": "markdown",
   "id": "f390ef02",
   "metadata": {},
   "source": [
    "Notice that the value for `some_numbers` is an array, and that this\n",
    "value *contains* 10 numbers.\n",
    "\n",
    "Put another way, `some_numbers` is now the name we can use for this\n",
    "collection of 10 values.\n",
    "\n",
    "Arrays are very useful for simulations and data analysis, and we will be\n",
    "using these for nearly every example in this book.\n",
    "\n",
    "## 5.7 Functions\n",
    "\n",
    "*Functions* are another tool that we will be using everywhere, and that\n",
    "you seen already, although we have not introduced them until now.\n",
    "\n",
    "You can think of functions as named *production lines*.\n",
    "\n",
    "For example, consider the Python *function* `np.round`"
   ]
  },
  {
   "cell_type": "code",
   "execution_count": null,
   "id": "2d1a3ea6",
   "metadata": {},
   "outputs": [],
   "source": [
    "# We load the Numpy library so we have access to the Numpy functions.\n",
    "import numpy as np"
   ]
  },
  {
   "cell_type": "markdown",
   "id": "c1a08c2a",
   "metadata": {},
   "source": [
    "`np.round` is the name for a simple production line, that takes in a\n",
    "number, and (by default) sends back the number rounded to the nearest\n",
    "*integer*.\n",
    "\n",
    "**Note: What is an integer?**\n",
    "\n",
    "An *integer* is a positive or negative *whole number*.\n",
    "\n",
    "In other words, a number is an *integer* if the number is *either* a\n",
    "whole number (0, 1, 2 …), *or* a negative whole number (-1, -2, -3 …).\n",
    "All of -208, -2, 0, 10, 105 are integers, but $\\frac{3}{5}$, -10.3 and\n",
    "0.2 are not.\n",
    "\n",
    "We will use the term *integer* fairly often, because it is a convenient\n",
    "way to name all the positive and negative whole numbers.\n",
    "\n",
    "**End of Note: What is an integer?**\n",
    "\n",
    "Think of a function as a named *production line*. We sent the function\n",
    "(production line) raw material (components) to work on. The production\n",
    "line does some work on the components. A finished result comes off the\n",
    "other end.\n",
    "\n",
    "Therefore, think of `np.round` as the name of a production line, that\n",
    "takes in a *component* (in this case, any number), and does some work,\n",
    "and sends back the finished *result* (in this case, the number rounded\n",
    "to the nearest integer.\n",
    "\n",
    "The components we send to a function are called *arguments*. The\n",
    "finished result the function sends back is the *return value*.\n",
    "\n",
    "- **Arguments**: the value or values we send to a function.\n",
    "- **Return value**: the values the function sends back.\n",
    "\n",
    "See <a class=\"quarto-xref\" href=\"https://resampling-stats.github.io/latest-python/resampling_with_code.html#fig-round_function_pl\">Figure <span>5.2</span></a> for an\n",
    "illustration of `np.round` as a production line.\n",
    "\n",
    "In the next few code cells, you see examples where `np.round` takes in a\n",
    "not-integer number, as an *argument*, and sends back the nearest integer\n",
    "as the *return value*:"
   ]
  },
  {
   "cell_type": "code",
   "execution_count": null,
   "id": "c2d003ec",
   "metadata": {},
   "outputs": [],
   "source": [
    "# Put in 3.2, round sends back 3.\n",
    "np.round(3.2)"
   ]
  },
  {
   "cell_type": "code",
   "execution_count": null,
   "id": "2112e526",
   "metadata": {},
   "outputs": [],
   "source": [
    "# Put in -2.7, round sends back -3.\n",
    "np.round(-2.7)"
   ]
  },
  {
   "cell_type": "markdown",
   "id": "3357fdc6",
   "metadata": {},
   "source": [
    "Like many functions, `np.round` can take more than one argument\n",
    "(component). You can send `round` the number of digits you want to round\n",
    "to, after the number of you want it to work on, like this (see\n",
    "<a class=\"quarto-xref\" href=\"https://resampling-stats.github.io/latest-python/resampling_with_code.html#fig-round_ndigits_pl\">Figure <span>5.3</span></a>):"
   ]
  },
  {
   "cell_type": "code",
   "execution_count": null,
   "id": "8bde63e9",
   "metadata": {},
   "outputs": [],
   "source": [
    "# Put in 3.1415, and the number of digits to round to (2).\n",
    "# round sends back 3.14\n",
    "np.round(3.1415, 2)"
   ]
  },
  {
   "cell_type": "markdown",
   "id": "3dc2f3c5",
   "metadata": {},
   "source": [
    "Notice that the second argument — here 2 — is *optional*. We only have\n",
    "to send `round` one argument: the number we want it to round. But we can\n",
    "*optionally* send it a second argument — the number of decimal places we\n",
    "want it to round to. If we don’t specify the second argument, then\n",
    "`round` assumes we want to round to 0 decimal places, and therefore, to\n",
    "the nearest integer.\n",
    "\n",
    "## 5.8 Functions and named arguments\n",
    "\n",
    "In the example above, we sent `round` two arguments. `round` knows that\n",
    "we mean the first argument to be the number we want to round, and the\n",
    "second argument is the number of decimal places we want to round to. It\n",
    "knows which is which by the *position* of the arguments — the *first*\n",
    "argument is the *number* it should round, and *second* is the number of\n",
    "digits.\n",
    "\n",
    "In fact, internally, the `round` function also gives these arguments\n",
    "*names*. It calls the number it should round — `a` — and the number of\n",
    "digits it should round to — `decimals`. This is useful, because it is\n",
    "often clearer and simpler to identify the argument we are specifying\n",
    "with its name, instead of just relying on its position.\n",
    "\n",
    "If we aren’t using the argument names, we call the round function as we\n",
    "did above:"
   ]
  },
  {
   "cell_type": "code",
   "execution_count": null,
   "id": "4e5eec70",
   "metadata": {},
   "outputs": [],
   "source": [
    "# Put in 3.1415, and the number of digits to round to (2).\n",
    "# round sends back 3.14\n",
    "np.round(3.1415, 2)"
   ]
  },
  {
   "cell_type": "markdown",
   "id": "14029a93",
   "metadata": {},
   "source": [
    "In this call, we relied on the fact that we, the people writing the\n",
    "code, and you, the person reading the code, remember that the second\n",
    "argument (2) means the number of decimal places it should round to. But,\n",
    "we can also specify the argument using its name, like this (see\n",
    "<a class=\"quarto-xref\" href=\"https://resampling-stats.github.io/latest-python/resampling_with_code.html#fig-np_round_function_named\">Figure <span>5.4</span></a>):"
   ]
  },
  {
   "cell_type": "code",
   "execution_count": null,
   "id": "d36bdbed",
   "metadata": {},
   "outputs": [],
   "source": [
    "# Put in 3.1415, and the number of digits to round to (2).\n",
    "# Use the name of the number-of-decimals argument for clarity:\n",
    "np.round(3.1415, decimals=2)"
   ]
  },
  {
   "cell_type": "markdown",
   "id": "2de77cdc",
   "metadata": {},
   "source": [
    "Here Python sees the *first* argument, as before, and assumes that it is\n",
    "the number we want to round. Then it sees the second, named argument —\n",
    "`decimals=2` — and knows, *from the name*, that we mean this to be the\n",
    "number of decimals to round to.\n",
    "\n",
    "In fact, we could even specify *both* arguments by name, like this:"
   ]
  },
  {
   "cell_type": "code",
   "execution_count": null,
   "id": "43c5fca3",
   "metadata": {},
   "outputs": [],
   "source": [
    "# Put in 3.1415, and the number of digits to round to (2).\n",
    "np.round(a=3.1415, decimals=2)"
   ]
  },
  {
   "cell_type": "markdown",
   "id": "7d16b7bf",
   "metadata": {},
   "source": [
    "We don’t usually name both arguments for `round`, as we have above,\n",
    "because it is so obvious that the first argument is the thing we want to\n",
    "round, and so naming the argument does not make it any more clear what\n",
    "the code is doing. But — as so often in programming — whether to use the\n",
    "names, or let Python work out which argument is which by position, is a\n",
    "judgment call. The judgment you are making is about the way to write the\n",
    "code to be most clear for your reader, where your most important reader\n",
    "may be you, coming back to the code in a week or a year.\n",
    "\n",
    "**Note: How do you know what names to use for the function arguments?**\n",
    "\n",
    "You can find the names of the function arguments in the help for the\n",
    "function, either online, or in the notebook interface. For example, to\n",
    "get the help for `np.round`, including the argument names, you could\n",
    "make a new cell, and type `np.round?`, then execute the cell by pressing\n",
    "Shift-Enter. This will show the help for the function in the notebook\n",
    "interface.\n",
    "\n",
    "**End of Note: How do you know what names to use for the function\n",
    "arguments?**\n",
    "\n",
    "## 5.9 Ranges\n",
    "\n",
    "Now let us return to the variable `some_numbers` that we created above:"
   ]
  },
  {
   "cell_type": "code",
   "execution_count": null,
   "id": "e7972118",
   "metadata": {},
   "outputs": [],
   "source": [
    "# Make an array of numbers, store with the name \"some_numbers\".\n",
    "some_numbers = np.array([0, 1, 2, 3, 4, 5, 6, 7, 8, 9])\n",
    "# Show the value of \"some_numbers\"\n",
    "some_numbers"
   ]
  },
  {
   "cell_type": "markdown",
   "id": "77e49dcd",
   "metadata": {},
   "source": [
    "In fact, we often need to do this: generate a sequence or *range* of\n",
    "integers, such as 0 through 9.\n",
    "\n",
    "**Note: Pick a number from 1 through 5**\n",
    "\n",
    "Ranges can be confusing in normal speech because it is not always clear\n",
    "whether they include their beginning and end. For example, if someone\n",
    "says “pick a number between 1 and 5”, do they mean to pick from *all* of\n",
    "the numbers, including the first and last (any of 1 or 2 or 3 or 4 or\n",
    "5)? Or do they mean only the numbers that are *between* 1 and 5 (so 2 or\n",
    "3 or 4)? Or do they mean all the numbers up to, but not including 5 (so\n",
    "1 or 2 or 3 or 4)?\n",
    "\n",
    "To avoid this confusion, we will nearly always use “from” and “through”\n",
    "in ranges, meaning that we do include both the start and the end number.\n",
    "For example, if we say “pick a number from 1 through 5” we mean one of 1\n",
    "or 2 or 3 or 4 or 5.\n",
    "\n",
    "**End of Note: Pick a number from 1 through 5**\n",
    "\n",
    "Creating ranges of numbers is so common that Python has a standard Numpy\n",
    "function `np.arange` to do that."
   ]
  },
  {
   "cell_type": "code",
   "execution_count": null,
   "id": "80316fe5",
   "metadata": {},
   "outputs": [],
   "source": [
    "# An array containing all the numbers from 0 through 9.\n",
    "some_numbers = np.arange(0, 10)\n",
    "some_numbers"
   ]
  },
  {
   "cell_type": "markdown",
   "id": "531fb9b3",
   "metadata": {},
   "source": [
    "Notice that we send `np.arange` the *arguments* 0 and 10. The first\n",
    "argument, here 0, is the *start* value. The second argument, here 10, is\n",
    "the *stop* value. Numpy (in the `arange` function) understands this to\n",
    "mean: *start* at 0 (the start value) and go up to *but do not include*\n",
    "10 (the stop value).\n",
    "\n",
    "You can therefore read `np.arange(0, 10)` as “the sequence of integers\n",
    "starting at 0, up to, but not including 10”.\n",
    "\n",
    "Like `np.round`, the arguments to `np.arange` also have names, so, we\n",
    "could also write:"
   ]
  },
  {
   "cell_type": "code",
   "execution_count": null,
   "id": "d73105aa",
   "metadata": {},
   "outputs": [],
   "source": [
    "# An array containing all the numbers from 0 through 9.\n",
    "# Now using named arguments.\n",
    "some_numbers = np.arange(start=0, stop=10)\n",
    "some_numbers"
   ]
  },
  {
   "cell_type": "markdown",
   "id": "10e3eeb7",
   "metadata": {},
   "source": [
    "So far, we have sent `arange` two arguments, but we can also send just\n",
    "one argument, like this:"
   ]
  },
  {
   "cell_type": "code",
   "execution_count": null,
   "id": "4aec28b6",
   "metadata": {},
   "outputs": [],
   "source": [
    "# An array containing all the numbers from 0 through 9.\n",
    "some_integers = np.arange(10)\n",
    "some_integers"
   ]
  },
  {
   "cell_type": "markdown",
   "id": "65de0c56",
   "metadata": {},
   "source": [
    "When we sent `arange` a single argument, like this, `arange` understands\n",
    "this to mean we have sent just the *stop* value, and that is should\n",
    "assume a *start* value of 0.\n",
    "\n",
    "Again, if we wanted, we could send this argument by name:"
   ]
  },
  {
   "cell_type": "code",
   "execution_count": null,
   "id": "7bb80720",
   "metadata": {
    "lines_to_next_cell": 0
   },
   "outputs": [],
   "source": [
    "# An array containing all the numbers from 0 through 9.\n",
    "# Specify the stop value by explicit name, for clarity.\n",
    "some_integers = np.arange(stop=10)\n",
    "some_integers"
   ]
  },
  {
   "cell_type": "markdown",
   "id": "1f074ee5",
   "metadata": {},
   "source": []
  },
  {
   "cell_type": "markdown",
   "id": "7e336fe9",
   "metadata": {},
   "source": [
    "Here are some more examples of `np.arange`:"
   ]
  },
  {
   "cell_type": "code",
   "execution_count": null,
   "id": "1fafbe4a",
   "metadata": {},
   "outputs": [],
   "source": [
    "# All the integers starting at 10, up to, but not including 15.\n",
    "# In other words, 10 through 14.\n",
    "np.arange(10, 15)"
   ]
  },
  {
   "cell_type": "code",
   "execution_count": null,
   "id": "cc8455ef",
   "metadata": {},
   "outputs": [],
   "source": [
    "# Here we are only sending one value (7). np.arange understands this to be\n",
    "# the stop value, and assumes 0 as the start value.\n",
    "# In other words, 0 through 6\n",
    "np.arange(7)"
   ]
  },
  {
   "cell_type": "markdown",
   "id": "0bcc106b",
   "metadata": {},
   "source": [
    "## 5.10 `range` in Python\n",
    "\n",
    "So far you have seen ranges of integers using `np.arange`. The `np.`\n",
    "prefix refers to the fact that `np.arange` is a function from the Numpy\n",
    "module (library). The `a` in `arange` signals that the result\n",
    "`np.arange` returns is an *array*:"
   ]
  },
  {
   "cell_type": "code",
   "execution_count": null,
   "id": "01d27bcf",
   "metadata": {},
   "outputs": [],
   "source": [
    "arr = np.arange(7)\n",
    "# Show the result\n",
    "arr"
   ]
  },
  {
   "cell_type": "code",
   "execution_count": null,
   "id": "5fcc97f8",
   "metadata": {},
   "outputs": [],
   "source": [
    "# Show what type of thing this is.\n",
    "type(arr)"
   ]
  },
  {
   "cell_type": "markdown",
   "id": "58b41a51",
   "metadata": {},
   "source": [
    "We do often use `np.arange` to get a range of integers in a convenient\n",
    "array format, but Python has another way of getting a range of integers\n",
    "— the `range` function.\n",
    "\n",
    "The `range` function is very similar to `np.arange`, but it is *not*\n",
    "part of Numpy — it is basic function in Python — and it does *not*\n",
    "return an *array* of numbers, it returns something else. Here we ask for\n",
    "a `range` from 0 through 6 (0 up to, but not including 7):"
   ]
  },
  {
   "cell_type": "code",
   "execution_count": null,
   "id": "861e41f1",
   "metadata": {},
   "outputs": [],
   "source": [
    "# Notice no `np.` before `range`.\n",
    "r = range(7)\n",
    "r"
   ]
  },
  {
   "cell_type": "markdown",
   "id": "84221b06",
   "metadata": {},
   "source": [
    "Notice that the thing that came back is something that *represents* or\n",
    "*stands in for* the number 0 through 6. It is not an array, but a\n",
    "specific type of thing called — a `range`:"
   ]
  },
  {
   "cell_type": "code",
   "execution_count": null,
   "id": "9934abf1",
   "metadata": {},
   "outputs": [],
   "source": [
    "type(r)"
   ]
  },
  {
   "cell_type": "markdown",
   "id": "68449239",
   "metadata": {},
   "source": [
    "The `range` above is a container for the numbers 0 through 6. We can get\n",
    "the numbers out of the container in many different ways, but one of them\n",
    "is to convert this container to an array, using the `np.array` function.\n",
    "The `np.array` function takes the thing we pass it, and makes it into an\n",
    "array. When we apply `np.array` to `r` above, we get the numbers that\n",
    "`r` contains:"
   ]
  },
  {
   "cell_type": "code",
   "execution_count": null,
   "id": "8db96d73",
   "metadata": {},
   "outputs": [],
   "source": [
    "# Get the numbers from the range `r`, convert to an array.\n",
    "a_from_r = np.array(r)\n",
    "# Show the result\n",
    "a_from_r"
   ]
  },
  {
   "cell_type": "markdown",
   "id": "41d29f1f",
   "metadata": {},
   "source": [
    "The `range` function has the same `start` and `stop` arguments that\n",
    "`np.arange` does, and with the same meaning:"
   ]
  },
  {
   "cell_type": "code",
   "execution_count": null,
   "id": "e7dc56e5",
   "metadata": {},
   "outputs": [],
   "source": [
    "# 3 up to, not including 12.\n",
    "# (3 through 11)\n",
    "r_2 = range(3, 12)\n",
    "r_2"
   ]
  },
  {
   "cell_type": "code",
   "execution_count": null,
   "id": "651bca74",
   "metadata": {},
   "outputs": [],
   "source": [
    "np.array(r_2)"
   ]
  },
  {
   "cell_type": "markdown",
   "id": "5e950edd",
   "metadata": {},
   "source": [
    "You may reasonably ask — why do I need this `range` thing, if I have the\n",
    "very similar `np.arange`? The answer is — you don’t *need* `range`, and\n",
    "you can always use `np.arange` where you would use `range`, but for\n",
    "reasons we will go into later\n",
    "(<a class=\"quarto-xref\" href=\"https://resampling-stats.github.io/latest-python/resampling_with_code2.html#sec-for-range\"><span>Section 6.6.3</span></a>), `range` is a\n",
    "good option when we want to represent a sequence of numbers as input to\n",
    "a `for` loop. We cover `for` loops in more detail in\n",
    "<a class=\"quarto-xref\" href=\"https://resampling-stats.github.io/latest-python/resampling_with_code2.html#sec-for-loops\"><span>Section 6.6.2</span></a>, but for now, the\n",
    "only thing to remember is that `range` and `np.arange` are both ways of\n",
    "expressing sequential ranges of integers.\n",
    "\n",
    "## 5.11 Choosing values at random\n",
    "\n",
    "We can use the `rnd.choice` function to select a single value *at\n",
    "random* from the sequence of numbers in `some_integers`.\n",
    "\n",
    "**Note: More on rnd.choice**\n",
    "\n",
    "The `rnd.choice` function will be a fundamental tool for taking many\n",
    "kinds of samples, and we cover it in more detail in\n",
    "<a class=\"quarto-xref\" href=\"https://resampling-stats.github.io/latest-python/sampling_tools.html\"><span>Chapter 7</span></a>.\n",
    "\n",
    "**End of Note: More on rnd.choice**"
   ]
  },
  {
   "cell_type": "code",
   "execution_count": null,
   "id": "1a065796",
   "metadata": {},
   "outputs": [],
   "source": [
    "# Select an integer from the choices in some_integers.\n",
    "my_integer = rnd.choice(some_integers)\n",
    "# Show the value that results.\n",
    "my_integer"
   ]
  },
  {
   "cell_type": "markdown",
   "id": "33dca45c",
   "metadata": {},
   "source": [
    "Like `np.round` (above), `rnd.choice` is a *function*.\n",
    "\n",
    "**Note: Functions and methods**\n",
    "\n",
    "Actually, to be precise, we should call `rnd.choice` a *method*. A\n",
    "method is a *function attached to a value*. In this case the function\n",
    "`choice` is attached to the value `rnd`. That’s not an important\n",
    "distinction for us at the moment, so please forgive our strategic\n",
    "imprecision, and let us continue to say that `rnd.choice` is a function.\n",
    "\n",
    "**End of Note: Functions and methods**\n",
    "\n",
    "As you remember, a function is a named *production line*. In our case,\n",
    "the production line has the name `rnd.choice`.\n",
    "\n",
    "We sent `rnd.choice`. a value to work on — an *argument*. In this case,\n",
    "the argument was the value of `some_integers`.\n",
    "\n",
    "<a class=\"quarto-xref\" href=\"https://resampling-stats.github.io/latest-python/resampling_with_code.html#fig-rnd_choice_pl\">Figure <span>5.5</span></a> is a diagram\n",
    "illustrating an example run of the `rnd.choice` function (production\n",
    "line).\n",
    "\n",
    "Here is the same code again, with new comments."
   ]
  },
  {
   "cell_type": "code",
   "execution_count": null,
   "id": "e2e720b8",
   "metadata": {},
   "outputs": [],
   "source": [
    "# Send the value of \"some_integers\" to rnd.choice\n",
    "# some_integers is the *argument*.\n",
    "# Put the *return* value from the function into \"my_number\".\n",
    "my_number = rnd.choice(some_integers)\n",
    "# Show the value that results.\n",
    "my_number"
   ]
  },
  {
   "cell_type": "markdown",
   "id": "b834ebba",
   "metadata": {},
   "source": [
    "## 5.12 Creating arrays with sampling\n",
    "\n",
    "In the code above, we asked Python to select a single number at random —\n",
    "because that is what `rnd.choice` does by default.\n",
    "\n",
    "In fact, the people who wrote `rnd.choice`, wrote it to be flexible in\n",
    "the work that it can do. In particular, we can tell `rnd.choice` to\n",
    "select *any number of values* at random, by adding a new *argument* to\n",
    "the function.\n",
    "\n",
    "In our case, we would like Numpy to select 17 numbers at random from the\n",
    "sequence of `some_integers`.\n",
    "\n",
    "To do this, we add an argument to the function that tells it *how many*\n",
    "numbers we want it to select."
   ]
  },
  {
   "cell_type": "code",
   "execution_count": null,
   "id": "9f8aaf50",
   "metadata": {},
   "outputs": [],
   "source": [
    "# Get 17 values from the *some_integers* array.\n",
    "# Store the 17 numbers with the name \"a\"\n",
    "a = rnd.choice(some_integers, 17)\n",
    "# Show the result.\n",
    "a"
   ]
  },
  {
   "cell_type": "markdown",
   "id": "2342decf",
   "metadata": {},
   "source": [
    "As you can see, the function sent back (returned) 17 numbers. Because it\n",
    "is sending back more than one number, the thing it sends back is an\n",
    "array, where the array has 17 elements.\n",
    "\n",
    "### 5.12.1 `sum` — adding all the values\n",
    "\n",
    "Bear with us for a short diversion. You will see why we made this\n",
    "diversion soon.\n",
    "\n",
    "NumPy has a function `np.sum` that will add up all the numbers in an\n",
    "array.\n",
    "\n",
    "You can see the contents of `a` above.\n",
    "\n",
    "`np.sum` adds all the numbers in the array together, to give the *sum*\n",
    "of the array. The *sum* is just the result of adding all the values in\n",
    "the array. Put another way, it is the result of adding the second\n",
    "element to the first, then adding third element to the result, and the\n",
    "fourth element to the result, and so on."
   ]
  },
  {
   "cell_type": "code",
   "execution_count": null,
   "id": "502ef21a",
   "metadata": {},
   "outputs": [],
   "source": [
    "np.sum(a)"
   ]
  },
  {
   "cell_type": "markdown",
   "id": "3edf08a0",
   "metadata": {},
   "source": [
    "## 5.13 Counting results\n",
    "\n",
    "We now have the code to do the equivalent of throwing 17 ten-sided dice.\n",
    "This is the basis for one simulated trial in the world of Saint\n",
    "Hypothetical General.\n",
    "\n",
    "Our next job is to get the code to count the number of numbers that are\n",
    "not zero in the array `a`. That will give us the number of patients who\n",
    "were cured in simulated trial.\n",
    "\n",
    "Another way of asking this question, is to ask how many elements in `a`\n",
    "are greater than zero.\n",
    "\n",
    "### 5.13.1 Comparison\n",
    "\n",
    "To ask whether a number is greater than zero, we use *comparison*. Here\n",
    "is a *greater than zero* comparison on a single number:"
   ]
  },
  {
   "cell_type": "code",
   "execution_count": null,
   "id": "76190194",
   "metadata": {},
   "outputs": [],
   "source": [
    "n = 5\n",
    "# Is the value of n greater than 0?\n",
    "# Show the result of the comparison.\n",
    "n > 0"
   ]
  },
  {
   "cell_type": "markdown",
   "id": "b5cd4dda",
   "metadata": {},
   "source": [
    "`&gt;` is a *comparison* — it *asks a question* about the numbers either\n",
    "side of it. In this case `&gt;` is asking the question “is the value of `n`\n",
    "(on the left hand side) greater than 0 (on the right hand side)?” The\n",
    "value of `n` is 5, so the question becomes, “is 5 greater than 0?” The\n",
    "answer is Yes, and Python represents this Yes answer as the value\n",
    "`True`.\n",
    "\n",
    "In contrast, the comparison below boils down to “is 0 greater than 0?”,\n",
    "to which the answer is No, and Python represents this as `False`."
   ]
  },
  {
   "cell_type": "code",
   "execution_count": null,
   "id": "1c416227",
   "metadata": {},
   "outputs": [],
   "source": [
    "p = 0\n",
    "# Is the value of p greater than 0?\n",
    "# Show the result of the comparison.\n",
    "p > 0"
   ]
  },
  {
   "cell_type": "markdown",
   "id": "c132f8ee",
   "metadata": {},
   "source": [
    "So far you have seen the results of comparison on a single number. Now\n",
    "say we do the same comparison on an array. For example, say we ask the\n",
    "question “is the value of `a` greater than 0”? Remember, `a` is an array\n",
    "containing 17 values. We are comparing 17 values to one value (0). What\n",
    "answer do you think NumPy will give? You may want to think a little\n",
    "about this before you read on.\n",
    "\n",
    "As a reminder, here is the current value for `a`:"
   ]
  },
  {
   "cell_type": "code",
   "execution_count": null,
   "id": "6d6450f4",
   "metadata": {},
   "outputs": [],
   "source": [
    "# Show the current value for \"a\"\n",
    "a"
   ]
  },
  {
   "cell_type": "markdown",
   "id": "24be7d54",
   "metadata": {},
   "source": [
    "Now you have had some time to think, here is what happens:"
   ]
  },
  {
   "cell_type": "code",
   "execution_count": null,
   "id": "6728dbc7",
   "metadata": {},
   "outputs": [],
   "source": [
    "# Is the value of \"a\" greater than 0\n",
    "# Show the result of the comparison.\n",
    "a > 0"
   ]
  },
  {
   "cell_type": "markdown",
   "id": "3be85d3f",
   "metadata": {},
   "source": [
    "There are 17 values in `a`, so the comparison to 0 means there are 17\n",
    "comparisons, and 17 answers. NumPy therefore returns *an array* of 17\n",
    "elements, containing these 17 answers. The first answer is the answer to\n",
    "the question “is the value of the *first* element of `a` greater than\n",
    "0”, and the second is the answer to “is the value of the *second*\n",
    "element of `a` greater than 0”.\n",
    "\n",
    "Let us store the result of this comparison to work on:"
   ]
  },
  {
   "cell_type": "code",
   "execution_count": null,
   "id": "c9d5230a",
   "metadata": {},
   "outputs": [],
   "source": [
    "# Is the value of \"a\" greater than 0\n",
    "# Store as another array \"q\".\n",
    "q = a > 0\n",
    "# Show the value of r\n",
    "q"
   ]
  },
  {
   "cell_type": "markdown",
   "id": "75b06907",
   "metadata": {},
   "source": [
    "## 5.14 Counting `True` values with `sum`\n",
    "\n",
    "Notice above that there is one `True` element in `q` for every element\n",
    "in `a` that was greater than 0. It only remains to *count* the number of\n",
    "`True` values in `q`, to get the count of patients in our simulated\n",
    "trial who were cured.\n",
    "\n",
    "We can use the NumPy function `np.sum` to count the number of `True`\n",
    "elements in an array. As you can see above, `np.sum` adds up all the\n",
    "elements in an array, to give a single number. This will work as we want\n",
    "for the `q` array, because Python counts `False` as equal to 0 and\n",
    "`True` as equal to 1:"
   ]
  },
  {
   "cell_type": "code",
   "execution_count": null,
   "id": "6836b264",
   "metadata": {},
   "outputs": [],
   "source": [
    "# Question: is False equal to 0?\n",
    "# Answer - Yes! (True)\n",
    "False == 0"
   ]
  },
  {
   "cell_type": "code",
   "execution_count": null,
   "id": "8e9746c6",
   "metadata": {},
   "outputs": [],
   "source": [
    "# Question: is True equal to 1?\n",
    "# Answer - Yes! (True)\n",
    "True == 1"
   ]
  },
  {
   "cell_type": "markdown",
   "id": "f22cf285",
   "metadata": {},
   "source": [
    "Therefore, the function `sum`, when applied to an array of `True` and\n",
    "`False` values, will count the number of `True` values in the array.\n",
    "\n",
    "To see this in action we can make a new array of `True` and `False`\n",
    "values, and try using `np.sum` on the new array."
   ]
  },
  {
   "cell_type": "code",
   "execution_count": null,
   "id": "090b45fb",
   "metadata": {},
   "outputs": [],
   "source": [
    "# An array containing three True values and two False values.\n",
    "trues_and_falses = np.array([True, False, True, True, False])\n",
    "# Show the new array.\n",
    "trues_and_falses"
   ]
  },
  {
   "cell_type": "markdown",
   "id": "472f5271",
   "metadata": {},
   "source": [
    "The `sum` operation adds all the elements in the array. Because `True`\n",
    "counts as 1, and `False` counts as 0, adding all the elements in\n",
    "`trues_and_falses` is the same as adding up the values 1 + 0 + 1 + 1 +\n",
    "0, to give 3.\n",
    "\n",
    "We can apply the same operation on `q` to count the number of `True`\n",
    "values."
   ]
  },
  {
   "cell_type": "code",
   "execution_count": null,
   "id": "5bcb3f90",
   "metadata": {},
   "outputs": [],
   "source": [
    "# Count the number of True values in \"q\"\n",
    "# This is the same as the number of values in \"a\" that are greater than 0.\n",
    "b = np.sum(q)\n",
    "# Show the result\n",
    "b"
   ]
  },
  {
   "cell_type": "markdown",
   "id": "c48d4c3e",
   "metadata": {},
   "source": [
    "## 5.15 The procedure for one simulated trial\n",
    "\n",
    "We now have the whole procedure for one simulated trial. We can put the\n",
    "whole procedure in one cell:"
   ]
  },
  {
   "cell_type": "code",
   "execution_count": null,
   "id": "3cc34274",
   "metadata": {},
   "outputs": [],
   "source": [
    "# Procedure for one simulated trial\n",
    "\n",
    "# Get 17 values from the *some_integers* array.\n",
    "# Store the 17 numbers with the name \"a\"\n",
    "a = rnd.choice(some_integers, 17)\n",
    "# Is the value of \"a\" greater than 0\n",
    "q = a > 0\n",
    "# Count the number of True values in \"q\"\n",
    "b = np.sum(q)\n",
    "# Show the result of this simulated trial.\n",
    "b"
   ]
  },
  {
   "cell_type": "markdown",
   "id": "e08a18cf",
   "metadata": {},
   "source": [
    "## 5.16 Repeating the trial\n",
    "\n",
    "Now we know how to do one simulated trial, we could just keep running\n",
    "the cell above, and writing down the result each time. Once we had run\n",
    "the cell 100 times, we would have 100 counts. Then we could look at the\n",
    "100 counts to see how many were equal to 17 (all 17 simulated patients\n",
    "cured on that trial). At least that would be much faster than rolling 17\n",
    "dice 100 times, but we would also like the computer to automate the\n",
    "process of repeating the trial, and keeping track of the counts.\n",
    "\n",
    "Please forgive us as we race ahead again, as we did in the last chapter.\n",
    "As in the last chapter, we will use a *results* array called `z` to\n",
    "store the count for each trial. As in the last chapter, we will use a\n",
    "`for` loop to repeat the trial procedure many times. As in the last\n",
    "chapter, we will not explain the counts array of the `for` loop in any\n",
    "detail, because we are going to cover those in the next chapter.\n",
    "\n",
    "Let us now imagine that we want to do 100 simulated trials at Saint\n",
    "Hypothetical General. This will give us 100 counts. We will want to\n",
    "store the count for each trial.\n",
    "\n",
    "To do this, we make an array called `z` to hold the 100 counts. We have\n",
    "called the array `z`, but we could have called it anything we liked,\n",
    "such as `counts` or `results` or `cecilia`."
   ]
  },
  {
   "cell_type": "code",
   "execution_count": null,
   "id": "6b3644db",
   "metadata": {},
   "outputs": [],
   "source": [
    "# An array to hold the 100 count values.\n",
    "# Later, we will fill this in with real count values from simulated trials.\n",
    "z = np.zeros(100)"
   ]
  },
  {
   "cell_type": "markdown",
   "id": "b3bf2684",
   "metadata": {},
   "source": [
    "Next we use a `for` loop to *repeat the single trial procedure*.\n",
    "\n",
    "Notice that the single trial procedure, inside this `for` loop, is the\n",
    "same as the single trial procedure above — the only two differences are:\n",
    "\n",
    "- The trial procedure is inside the loop, and\n",
    "- We are storing the count for each trial as we go.\n",
    "\n",
    "We will go into more detail on how this works in the next chapter."
   ]
  },
  {
   "cell_type": "code",
   "execution_count": null,
   "id": "fa857d8d",
   "metadata": {},
   "outputs": [],
   "source": [
    "# Procedure for 100 simulated trials.\n",
    "\n",
    "# An array to store the counts for each trial.\n",
    "z = np.zeros(100)\n",
    "\n",
    "# Repeat the trial procedure 100 times.\n",
    "for i in np.arange(100):\n",
    "    # Get 17 values from the *some_integers* array.\n",
    "    # Store the 17 numbers with the name \"a\".\n",
    "    a = rnd.choice(some_integers, 17)\n",
    "    # Is the value of \"a\" greater than 0.\n",
    "    q = a > 0\n",
    "    # Count the number of True values in \"q\".\n",
    "    b = np.sum(q)\n",
    "    # Store the result at the next position in the \"z\" array.\n",
    "    z[i] = b\n",
    "    # Now go back and do the next trial until finished.\n",
    "# Show the result of all 100 trials.\n",
    "z"
   ]
  },
  {
   "cell_type": "markdown",
   "id": "c9533601",
   "metadata": {},
   "source": [
    "Finally, we need to count how many of the trials results we stored in\n",
    "`z` gave a “cured” count of 17.\n",
    "\n",
    "We can ask the question whether a single number is equal to 17 using the\n",
    "*double equals* comparison: `==`."
   ]
  },
  {
   "cell_type": "code",
   "execution_count": null,
   "id": "aab019cb",
   "metadata": {},
   "outputs": [],
   "source": [
    "s = 17\n",
    "# Is the value of s equal to 17?\n",
    "# Show the result of the comparison.\n",
    "s == 17"
   ]
  },
  {
   "cell_type": "markdown",
   "id": "e26dce2b",
   "metadata": {},
   "source": [
    "**Note**\n",
    "\n",
    "<div class=\"Python\">\n",
    "\n",
    "## 5.17 Single and double equals\n",
    "\n",
    "Notice that the *double equals* `==` means something entirely different\n",
    "to Python than the single equals `=`. In the code above, Python reads\n",
    "`s = 17` to mean “Set the variable `s` to have the value 17”. In\n",
    "technical terms the single equals is called an *assignment* operator,\n",
    "because it means *assign* the value 17 to the variable `s`.\n",
    "\n",
    "The code `s == 17` has a completely different meaning.\n",
    "\n",
    "</div>\n",
    "\n",
    "It means “give `True` if the value in `s` is equal to 17, and `False`\n",
    "otherwise”. The `==` is a *comparison* operator — it is for comparing\n",
    "two values — here the value in `s` and the value 17. This comparison,\n",
    "like all comparisons, returns an answer that is either `True` or\n",
    "`False`. In our case `s` has the value 17, so the comparison becomes\n",
    "`17 == 17`, meaning “is 17 equal to 17?”, to which the answer is “Yes”,\n",
    "and Python sends back `True`.\n",
    "\n",
    "**End of Note**\n",
    "\n",
    "We can ask this question of *all 100 counts* by asking the question: is\n",
    "the array `z` equal to 17, like this:"
   ]
  },
  {
   "cell_type": "code",
   "execution_count": null,
   "id": "a611b961",
   "metadata": {},
   "outputs": [],
   "source": [
    "# Is the value of z equal to 17?\n",
    "were_cured = z == 17\n",
    "# Show the result of the comparison.\n",
    "were_cured"
   ]
  },
  {
   "cell_type": "markdown",
   "id": "191472ad",
   "metadata": {},
   "source": [
    "Finally we use `sum` to count the number of `True` values in the\n",
    "`were_cured` array, to give the number of trials where all 17 patients\n",
    "were cured."
   ]
  },
  {
   "cell_type": "code",
   "execution_count": null,
   "id": "064d3276",
   "metadata": {},
   "outputs": [],
   "source": [
    "# Count the number of True values in \"were_cured\"\n",
    "# This is the same as the number of values in \"z\" that are equal to 17.\n",
    "n_all_cured = np.sum(were_cured)\n",
    "# Show the result of the comparison.\n",
    "n_all_cured"
   ]
  },
  {
   "cell_type": "markdown",
   "id": "5c1f0ff8",
   "metadata": {},
   "source": [
    "`n_all_cured` is the number of simulated trials for which all patients\n",
    "were cured. It only remains to get the proportion of trials for which\n",
    "this was true, and to do this, we divide by the number of trials."
   ]
  },
  {
   "cell_type": "code",
   "execution_count": null,
   "id": "8ebe1335",
   "metadata": {},
   "outputs": [],
   "source": [
    "# Proportion of trials where all patients were cured.\n",
    "p = n_all_cured / 100\n",
    "# Show the result\n",
    "p"
   ]
  },
  {
   "cell_type": "markdown",
   "id": "8a48e5ad",
   "metadata": {},
   "source": [
    "From this experiment, we see that there is roughly a one-in-six chance\n",
    "that all 17 patients are cured when using a 90% effective treatment.\n"
   ]
  }
 ],
 "metadata": {
  "jupytext": {
   "cell_metadata_filter": "-all",
   "main_language": "python",
   "notebook_metadata_filter": "-all"
  }
 },
 "nbformat": 4,
 "nbformat_minor": 5
}
